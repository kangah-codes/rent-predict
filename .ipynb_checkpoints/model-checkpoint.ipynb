{
 "cells": [
  {
   "cell_type": "code",
   "execution_count": 1,
   "metadata": {},
   "outputs": [],
   "source": [
    "import numpy as np\n",
    "import pandas as pd\n",
    "import matplotlib.pyplot as plt\n",
    "import seaborn as sns"
   ]
  },
  {
   "cell_type": "code",
   "execution_count": 74,
   "metadata": {},
   "outputs": [],
   "source": [
    "rental = pd.read_csv(\"data.csv\", index_col=0, low_memory=True)"
   ]
  },
  {
   "cell_type": "code",
   "execution_count": 75,
   "metadata": {},
   "outputs": [
    {
     "data": {
      "text/html": [
       "<div>\n",
       "<style scoped>\n",
       "    .dataframe tbody tr th:only-of-type {\n",
       "        vertical-align: middle;\n",
       "    }\n",
       "\n",
       "    .dataframe tbody tr th {\n",
       "        vertical-align: top;\n",
       "    }\n",
       "\n",
       "    .dataframe thead th {\n",
       "        text-align: right;\n",
       "    }\n",
       "</style>\n",
       "<table border=\"1\" class=\"dataframe\">\n",
       "  <thead>\n",
       "    <tr style=\"text-align: right;\">\n",
       "      <th></th>\n",
       "      <th>Status</th>\n",
       "      <th>Region</th>\n",
       "      <th>Lat</th>\n",
       "      <th>Lon</th>\n",
       "      <th>Elev</th>\n",
       "      <th>Pop</th>\n",
       "      <th>Bed</th>\n",
       "      <th>Bath</th>\n",
       "      <th>Price</th>\n",
       "      <th>isFurnished</th>\n",
       "    </tr>\n",
       "    <tr>\n",
       "      <th>Place</th>\n",
       "      <th></th>\n",
       "      <th></th>\n",
       "      <th></th>\n",
       "      <th></th>\n",
       "      <th></th>\n",
       "      <th></th>\n",
       "      <th></th>\n",
       "      <th></th>\n",
       "      <th></th>\n",
       "      <th></th>\n",
       "    </tr>\n",
       "  </thead>\n",
       "  <tbody>\n",
       "    <tr>\n",
       "      <th>Ofako</th>\n",
       "      <td>2</td>\n",
       "      <td>1</td>\n",
       "      <td>5.59</td>\n",
       "      <td>-0.45</td>\n",
       "      <td>249</td>\n",
       "      <td>16986</td>\n",
       "      <td>2.0</td>\n",
       "      <td>2.0</td>\n",
       "      <td>150</td>\n",
       "      <td>0</td>\n",
       "    </tr>\n",
       "    <tr>\n",
       "      <th>Ofako</th>\n",
       "      <td>1</td>\n",
       "      <td>1</td>\n",
       "      <td>5.66</td>\n",
       "      <td>-0.27</td>\n",
       "      <td>246</td>\n",
       "      <td>407491</td>\n",
       "      <td>2.0</td>\n",
       "      <td>2.0</td>\n",
       "      <td>150</td>\n",
       "      <td>0</td>\n",
       "    </tr>\n",
       "    <tr>\n",
       "      <th>Ofakor</th>\n",
       "      <td>2</td>\n",
       "      <td>1</td>\n",
       "      <td>5.59</td>\n",
       "      <td>-0.45</td>\n",
       "      <td>249</td>\n",
       "      <td>16986</td>\n",
       "      <td>2.0</td>\n",
       "      <td>2.0</td>\n",
       "      <td>150</td>\n",
       "      <td>0</td>\n",
       "    </tr>\n",
       "    <tr>\n",
       "      <th>Ofankor</th>\n",
       "      <td>1</td>\n",
       "      <td>1</td>\n",
       "      <td>5.66</td>\n",
       "      <td>-0.27</td>\n",
       "      <td>246</td>\n",
       "      <td>407491</td>\n",
       "      <td>2.0</td>\n",
       "      <td>2.0</td>\n",
       "      <td>150</td>\n",
       "      <td>0</td>\n",
       "    </tr>\n",
       "    <tr>\n",
       "      <th>Ablemkpe</th>\n",
       "      <td>1</td>\n",
       "      <td>1</td>\n",
       "      <td>5.61</td>\n",
       "      <td>-0.22</td>\n",
       "      <td>269</td>\n",
       "      <td>800486</td>\n",
       "      <td>3.0</td>\n",
       "      <td>4.0</td>\n",
       "      <td>1027</td>\n",
       "      <td>0</td>\n",
       "    </tr>\n",
       "  </tbody>\n",
       "</table>\n",
       "</div>"
      ],
      "text/plain": [
       "          Status  Region   Lat   Lon  Elev     Pop  Bed  Bath  Price  \\\n",
       "Place                                                                  \n",
       "Ofako          2       1  5.59 -0.45   249   16986  2.0   2.0    150   \n",
       "Ofako          1       1  5.66 -0.27   246  407491  2.0   2.0    150   \n",
       "Ofakor         2       1  5.59 -0.45   249   16986  2.0   2.0    150   \n",
       "Ofankor        1       1  5.66 -0.27   246  407491  2.0   2.0    150   \n",
       "Ablemkpe       1       1  5.61 -0.22   269  800486  3.0   4.0   1027   \n",
       "\n",
       "          isFurnished  \n",
       "Place                  \n",
       "Ofako               0  \n",
       "Ofako               0  \n",
       "Ofakor              0  \n",
       "Ofankor             0  \n",
       "Ablemkpe            0  "
      ]
     },
     "execution_count": 75,
     "metadata": {},
     "output_type": "execute_result"
    }
   ],
   "source": [
    "rental.head()"
   ]
  },
  {
   "cell_type": "code",
   "execution_count": 4,
   "metadata": {},
   "outputs": [
    {
     "name": "stdout",
     "output_type": "stream",
     "text": [
      "<class 'pandas.core.frame.DataFrame'>\n",
      "Index: 45780 entries, Ofako to Bantala\n",
      "Data columns (total 10 columns):\n",
      " #   Column       Non-Null Count  Dtype  \n",
      "---  ------       --------------  -----  \n",
      " 0   Status       45780 non-null  int64  \n",
      " 1   Region       45780 non-null  int64  \n",
      " 2   Lat          45780 non-null  float64\n",
      " 3   Lon          45780 non-null  float64\n",
      " 4   Elev         45780 non-null  int64  \n",
      " 5   Pop          45780 non-null  int64  \n",
      " 6   Bed          45264 non-null  float64\n",
      " 7   Bath         45264 non-null  float64\n",
      " 8   Price        45780 non-null  int64  \n",
      " 9   isFurnished  45780 non-null  int64  \n",
      "dtypes: float64(4), int64(6)\n",
      "memory usage: 3.8+ MB\n"
     ]
    }
   ],
   "source": [
    "rental.info()"
   ]
  },
  {
   "cell_type": "code",
   "execution_count": 36,
   "metadata": {},
   "outputs": [
    {
     "data": {
      "text/plain": [
       "Status           0\n",
       "Region           0\n",
       "Lat              0\n",
       "Lon              0\n",
       "Elev             0\n",
       "Pop              0\n",
       "Bed            516\n",
       "Bath           516\n",
       "Price            0\n",
       "isFurnished      0\n",
       "dtype: int64"
      ]
     },
     "execution_count": 36,
     "metadata": {},
     "output_type": "execute_result"
    }
   ],
   "source": [
    "rental.isnull().sum()"
   ]
  },
  {
   "cell_type": "code",
   "execution_count": 76,
   "metadata": {},
   "outputs": [],
   "source": [
    "rental = rental.dropna()\n",
    "rental = rental.reset_index(drop=True)"
   ]
  },
  {
   "cell_type": "code",
   "execution_count": 77,
   "metadata": {},
   "outputs": [
    {
     "data": {
      "text/plain": [
       "Status         0\n",
       "Region         0\n",
       "Lat            0\n",
       "Lon            0\n",
       "Elev           0\n",
       "Pop            0\n",
       "Bed            0\n",
       "Bath           0\n",
       "Price          0\n",
       "isFurnished    0\n",
       "dtype: int64"
      ]
     },
     "execution_count": 77,
     "metadata": {},
     "output_type": "execute_result"
    }
   ],
   "source": [
    "rental.isnull().sum()"
   ]
  },
  {
   "cell_type": "code",
   "execution_count": 39,
   "metadata": {},
   "outputs": [
    {
     "name": "stdout",
     "output_type": "stream",
     "text": [
      "There are 44146 duplicate values.\n"
     ]
    },
    {
     "data": {
      "text/html": [
       "<div>\n",
       "<style scoped>\n",
       "    .dataframe tbody tr th:only-of-type {\n",
       "        vertical-align: middle;\n",
       "    }\n",
       "\n",
       "    .dataframe tbody tr th {\n",
       "        vertical-align: top;\n",
       "    }\n",
       "\n",
       "    .dataframe thead th {\n",
       "        text-align: right;\n",
       "    }\n",
       "</style>\n",
       "<table border=\"1\" class=\"dataframe\">\n",
       "  <thead>\n",
       "    <tr style=\"text-align: right;\">\n",
       "      <th></th>\n",
       "      <th>Status</th>\n",
       "      <th>Region</th>\n",
       "      <th>Lat</th>\n",
       "      <th>Lon</th>\n",
       "      <th>Elev</th>\n",
       "      <th>Pop</th>\n",
       "      <th>Bed</th>\n",
       "      <th>Bath</th>\n",
       "      <th>Price</th>\n",
       "      <th>isFurnished</th>\n",
       "    </tr>\n",
       "  </thead>\n",
       "  <tbody>\n",
       "    <tr>\n",
       "      <th>0</th>\n",
       "      <td>2</td>\n",
       "      <td>1</td>\n",
       "      <td>5.59</td>\n",
       "      <td>-0.45</td>\n",
       "      <td>249</td>\n",
       "      <td>16986</td>\n",
       "      <td>2.0</td>\n",
       "      <td>2.0</td>\n",
       "      <td>150</td>\n",
       "      <td>0</td>\n",
       "    </tr>\n",
       "    <tr>\n",
       "      <th>1</th>\n",
       "      <td>1</td>\n",
       "      <td>1</td>\n",
       "      <td>5.66</td>\n",
       "      <td>-0.27</td>\n",
       "      <td>246</td>\n",
       "      <td>407491</td>\n",
       "      <td>2.0</td>\n",
       "      <td>2.0</td>\n",
       "      <td>150</td>\n",
       "      <td>0</td>\n",
       "    </tr>\n",
       "    <tr>\n",
       "      <th>2</th>\n",
       "      <td>2</td>\n",
       "      <td>1</td>\n",
       "      <td>5.59</td>\n",
       "      <td>-0.45</td>\n",
       "      <td>249</td>\n",
       "      <td>16986</td>\n",
       "      <td>2.0</td>\n",
       "      <td>2.0</td>\n",
       "      <td>150</td>\n",
       "      <td>0</td>\n",
       "    </tr>\n",
       "    <tr>\n",
       "      <th>3</th>\n",
       "      <td>1</td>\n",
       "      <td>1</td>\n",
       "      <td>5.66</td>\n",
       "      <td>-0.27</td>\n",
       "      <td>246</td>\n",
       "      <td>407491</td>\n",
       "      <td>2.0</td>\n",
       "      <td>2.0</td>\n",
       "      <td>150</td>\n",
       "      <td>0</td>\n",
       "    </tr>\n",
       "    <tr>\n",
       "      <th>4</th>\n",
       "      <td>1</td>\n",
       "      <td>1</td>\n",
       "      <td>5.61</td>\n",
       "      <td>-0.22</td>\n",
       "      <td>269</td>\n",
       "      <td>800486</td>\n",
       "      <td>3.0</td>\n",
       "      <td>4.0</td>\n",
       "      <td>1027</td>\n",
       "      <td>0</td>\n",
       "    </tr>\n",
       "    <tr>\n",
       "      <th>5</th>\n",
       "      <td>1</td>\n",
       "      <td>1</td>\n",
       "      <td>5.61</td>\n",
       "      <td>-0.22</td>\n",
       "      <td>269</td>\n",
       "      <td>800486</td>\n",
       "      <td>3.0</td>\n",
       "      <td>4.0</td>\n",
       "      <td>1027</td>\n",
       "      <td>0</td>\n",
       "    </tr>\n",
       "    <tr>\n",
       "      <th>6</th>\n",
       "      <td>1</td>\n",
       "      <td>1</td>\n",
       "      <td>5.65</td>\n",
       "      <td>-0.18</td>\n",
       "      <td>249</td>\n",
       "      <td>445789</td>\n",
       "      <td>3.0</td>\n",
       "      <td>3.0</td>\n",
       "      <td>240</td>\n",
       "      <td>0</td>\n",
       "    </tr>\n",
       "    <tr>\n",
       "      <th>7</th>\n",
       "      <td>1</td>\n",
       "      <td>1</td>\n",
       "      <td>5.65</td>\n",
       "      <td>-0.18</td>\n",
       "      <td>249</td>\n",
       "      <td>445789</td>\n",
       "      <td>3.0</td>\n",
       "      <td>3.0</td>\n",
       "      <td>240</td>\n",
       "      <td>0</td>\n",
       "    </tr>\n",
       "    <tr>\n",
       "      <th>8</th>\n",
       "      <td>1</td>\n",
       "      <td>1</td>\n",
       "      <td>5.65</td>\n",
       "      <td>-0.21</td>\n",
       "      <td>249</td>\n",
       "      <td>494494</td>\n",
       "      <td>3.0</td>\n",
       "      <td>3.0</td>\n",
       "      <td>240</td>\n",
       "      <td>0</td>\n",
       "    </tr>\n",
       "    <tr>\n",
       "      <th>9</th>\n",
       "      <td>2</td>\n",
       "      <td>1</td>\n",
       "      <td>5.52</td>\n",
       "      <td>-0.58</td>\n",
       "      <td>246</td>\n",
       "      <td>19043</td>\n",
       "      <td>3.0</td>\n",
       "      <td>2.0</td>\n",
       "      <td>120</td>\n",
       "      <td>0</td>\n",
       "    </tr>\n",
       "  </tbody>\n",
       "</table>\n",
       "</div>"
      ],
      "text/plain": [
       "   Status  Region   Lat   Lon  Elev     Pop  Bed  Bath  Price  isFurnished\n",
       "0       2       1  5.59 -0.45   249   16986  2.0   2.0    150            0\n",
       "1       1       1  5.66 -0.27   246  407491  2.0   2.0    150            0\n",
       "2       2       1  5.59 -0.45   249   16986  2.0   2.0    150            0\n",
       "3       1       1  5.66 -0.27   246  407491  2.0   2.0    150            0\n",
       "4       1       1  5.61 -0.22   269  800486  3.0   4.0   1027            0\n",
       "5       1       1  5.61 -0.22   269  800486  3.0   4.0   1027            0\n",
       "6       1       1  5.65 -0.18   249  445789  3.0   3.0    240            0\n",
       "7       1       1  5.65 -0.18   249  445789  3.0   3.0    240            0\n",
       "8       1       1  5.65 -0.21   249  494494  3.0   3.0    240            0\n",
       "9       2       1  5.52 -0.58   246   19043  3.0   2.0    120            0"
      ]
     },
     "execution_count": 39,
     "metadata": {},
     "output_type": "execute_result"
    }
   ],
   "source": [
    "print(\"There are {} duplicate values.\".format(rental.duplicated().sum()))\n",
    "rental[rental.duplicated(keep=False)].head(10)"
   ]
  },
  {
   "cell_type": "code",
   "execution_count": 10,
   "metadata": {},
   "outputs": [],
   "source": [
    "# remove duplicates\n",
    "rental = rental.drop_duplicates()\n",
    "rental = rental.reset_index(drop=True)"
   ]
  },
  {
   "cell_type": "code",
   "execution_count": 11,
   "metadata": {},
   "outputs": [
    {
     "name": "stdout",
     "output_type": "stream",
     "text": [
      "There are 0 duplicate values.\n"
     ]
    },
    {
     "data": {
      "text/html": [
       "<div>\n",
       "<style scoped>\n",
       "    .dataframe tbody tr th:only-of-type {\n",
       "        vertical-align: middle;\n",
       "    }\n",
       "\n",
       "    .dataframe tbody tr th {\n",
       "        vertical-align: top;\n",
       "    }\n",
       "\n",
       "    .dataframe thead th {\n",
       "        text-align: right;\n",
       "    }\n",
       "</style>\n",
       "<table border=\"1\" class=\"dataframe\">\n",
       "  <thead>\n",
       "    <tr style=\"text-align: right;\">\n",
       "      <th></th>\n",
       "      <th>Status</th>\n",
       "      <th>Region</th>\n",
       "      <th>Lat</th>\n",
       "      <th>Lon</th>\n",
       "      <th>Elev</th>\n",
       "      <th>Pop</th>\n",
       "      <th>Bed</th>\n",
       "      <th>Bath</th>\n",
       "      <th>Price</th>\n",
       "      <th>isFurnished</th>\n",
       "    </tr>\n",
       "  </thead>\n",
       "  <tbody>\n",
       "  </tbody>\n",
       "</table>\n",
       "</div>"
      ],
      "text/plain": [
       "Empty DataFrame\n",
       "Columns: [Status, Region, Lat, Lon, Elev, Pop, Bed, Bath, Price, isFurnished]\n",
       "Index: []"
      ]
     },
     "execution_count": 11,
     "metadata": {},
     "output_type": "execute_result"
    }
   ],
   "source": [
    "print(\"There are {} duplicate values.\".format(rental.duplicated().sum()))\n",
    "rental[rental.duplicated(keep=False)].head(10)"
   ]
  },
  {
   "cell_type": "code",
   "execution_count": 40,
   "metadata": {},
   "outputs": [
    {
     "name": "stdout",
     "output_type": "stream",
     "text": [
      "<class 'pandas.core.frame.DataFrame'>\n",
      "RangeIndex: 45264 entries, 0 to 45263\n",
      "Data columns (total 10 columns):\n",
      " #   Column       Non-Null Count  Dtype  \n",
      "---  ------       --------------  -----  \n",
      " 0   Status       45264 non-null  int64  \n",
      " 1   Region       45264 non-null  int64  \n",
      " 2   Lat          45264 non-null  float64\n",
      " 3   Lon          45264 non-null  float64\n",
      " 4   Elev         45264 non-null  int64  \n",
      " 5   Pop          45264 non-null  int64  \n",
      " 6   Bed          45264 non-null  float64\n",
      " 7   Bath         45264 non-null  float64\n",
      " 8   Price        45264 non-null  int64  \n",
      " 9   isFurnished  45264 non-null  int64  \n",
      "dtypes: float64(4), int64(6)\n",
      "memory usage: 3.5 MB\n"
     ]
    }
   ],
   "source": [
    "rental.info()"
   ]
  },
  {
   "cell_type": "code",
   "execution_count": 78,
   "metadata": {},
   "outputs": [],
   "source": [
    "rental = rental[[\"Status\", \"Region\", \"Lat\", \"Lon\", \"Elev\", \"Pop\", \"Bed\", \"Bath\", \"Price\", \"isFurnished\"]]"
   ]
  },
  {
   "cell_type": "code",
   "execution_count": 42,
   "metadata": {},
   "outputs": [
    {
     "data": {
      "text/html": [
       "<div>\n",
       "<style scoped>\n",
       "    .dataframe tbody tr th:only-of-type {\n",
       "        vertical-align: middle;\n",
       "    }\n",
       "\n",
       "    .dataframe tbody tr th {\n",
       "        vertical-align: top;\n",
       "    }\n",
       "\n",
       "    .dataframe thead th {\n",
       "        text-align: right;\n",
       "    }\n",
       "</style>\n",
       "<table border=\"1\" class=\"dataframe\">\n",
       "  <thead>\n",
       "    <tr style=\"text-align: right;\">\n",
       "      <th></th>\n",
       "      <th>Status</th>\n",
       "      <th>Region</th>\n",
       "      <th>Lat</th>\n",
       "      <th>Lon</th>\n",
       "      <th>Elev</th>\n",
       "      <th>Pop</th>\n",
       "      <th>Bed</th>\n",
       "      <th>Bath</th>\n",
       "      <th>Price</th>\n",
       "      <th>isFurnished</th>\n",
       "    </tr>\n",
       "  </thead>\n",
       "  <tbody>\n",
       "    <tr>\n",
       "      <th>0</th>\n",
       "      <td>2</td>\n",
       "      <td>1</td>\n",
       "      <td>5.59</td>\n",
       "      <td>-0.45</td>\n",
       "      <td>249</td>\n",
       "      <td>16986</td>\n",
       "      <td>2.0</td>\n",
       "      <td>2.0</td>\n",
       "      <td>150</td>\n",
       "      <td>0</td>\n",
       "    </tr>\n",
       "    <tr>\n",
       "      <th>1</th>\n",
       "      <td>1</td>\n",
       "      <td>1</td>\n",
       "      <td>5.66</td>\n",
       "      <td>-0.27</td>\n",
       "      <td>246</td>\n",
       "      <td>407491</td>\n",
       "      <td>2.0</td>\n",
       "      <td>2.0</td>\n",
       "      <td>150</td>\n",
       "      <td>0</td>\n",
       "    </tr>\n",
       "    <tr>\n",
       "      <th>2</th>\n",
       "      <td>2</td>\n",
       "      <td>1</td>\n",
       "      <td>5.59</td>\n",
       "      <td>-0.45</td>\n",
       "      <td>249</td>\n",
       "      <td>16986</td>\n",
       "      <td>2.0</td>\n",
       "      <td>2.0</td>\n",
       "      <td>150</td>\n",
       "      <td>0</td>\n",
       "    </tr>\n",
       "    <tr>\n",
       "      <th>3</th>\n",
       "      <td>1</td>\n",
       "      <td>1</td>\n",
       "      <td>5.66</td>\n",
       "      <td>-0.27</td>\n",
       "      <td>246</td>\n",
       "      <td>407491</td>\n",
       "      <td>2.0</td>\n",
       "      <td>2.0</td>\n",
       "      <td>150</td>\n",
       "      <td>0</td>\n",
       "    </tr>\n",
       "    <tr>\n",
       "      <th>4</th>\n",
       "      <td>1</td>\n",
       "      <td>1</td>\n",
       "      <td>5.61</td>\n",
       "      <td>-0.22</td>\n",
       "      <td>269</td>\n",
       "      <td>800486</td>\n",
       "      <td>3.0</td>\n",
       "      <td>4.0</td>\n",
       "      <td>1027</td>\n",
       "      <td>0</td>\n",
       "    </tr>\n",
       "    <tr>\n",
       "      <th>5</th>\n",
       "      <td>1</td>\n",
       "      <td>1</td>\n",
       "      <td>5.61</td>\n",
       "      <td>-0.22</td>\n",
       "      <td>269</td>\n",
       "      <td>800486</td>\n",
       "      <td>3.0</td>\n",
       "      <td>4.0</td>\n",
       "      <td>1027</td>\n",
       "      <td>0</td>\n",
       "    </tr>\n",
       "    <tr>\n",
       "      <th>6</th>\n",
       "      <td>1</td>\n",
       "      <td>1</td>\n",
       "      <td>5.65</td>\n",
       "      <td>-0.18</td>\n",
       "      <td>249</td>\n",
       "      <td>445789</td>\n",
       "      <td>3.0</td>\n",
       "      <td>3.0</td>\n",
       "      <td>240</td>\n",
       "      <td>0</td>\n",
       "    </tr>\n",
       "    <tr>\n",
       "      <th>7</th>\n",
       "      <td>1</td>\n",
       "      <td>1</td>\n",
       "      <td>5.65</td>\n",
       "      <td>-0.18</td>\n",
       "      <td>249</td>\n",
       "      <td>445789</td>\n",
       "      <td>3.0</td>\n",
       "      <td>3.0</td>\n",
       "      <td>240</td>\n",
       "      <td>0</td>\n",
       "    </tr>\n",
       "    <tr>\n",
       "      <th>8</th>\n",
       "      <td>1</td>\n",
       "      <td>1</td>\n",
       "      <td>5.65</td>\n",
       "      <td>-0.21</td>\n",
       "      <td>249</td>\n",
       "      <td>494494</td>\n",
       "      <td>3.0</td>\n",
       "      <td>3.0</td>\n",
       "      <td>240</td>\n",
       "      <td>0</td>\n",
       "    </tr>\n",
       "    <tr>\n",
       "      <th>9</th>\n",
       "      <td>2</td>\n",
       "      <td>1</td>\n",
       "      <td>5.52</td>\n",
       "      <td>-0.58</td>\n",
       "      <td>246</td>\n",
       "      <td>19043</td>\n",
       "      <td>3.0</td>\n",
       "      <td>2.0</td>\n",
       "      <td>120</td>\n",
       "      <td>0</td>\n",
       "    </tr>\n",
       "  </tbody>\n",
       "</table>\n",
       "</div>"
      ],
      "text/plain": [
       "   Status  Region   Lat   Lon  Elev     Pop  Bed  Bath  Price  isFurnished\n",
       "0       2       1  5.59 -0.45   249   16986  2.0   2.0    150            0\n",
       "1       1       1  5.66 -0.27   246  407491  2.0   2.0    150            0\n",
       "2       2       1  5.59 -0.45   249   16986  2.0   2.0    150            0\n",
       "3       1       1  5.66 -0.27   246  407491  2.0   2.0    150            0\n",
       "4       1       1  5.61 -0.22   269  800486  3.0   4.0   1027            0\n",
       "5       1       1  5.61 -0.22   269  800486  3.0   4.0   1027            0\n",
       "6       1       1  5.65 -0.18   249  445789  3.0   3.0    240            0\n",
       "7       1       1  5.65 -0.18   249  445789  3.0   3.0    240            0\n",
       "8       1       1  5.65 -0.21   249  494494  3.0   3.0    240            0\n",
       "9       2       1  5.52 -0.58   246   19043  3.0   2.0    120            0"
      ]
     },
     "execution_count": 42,
     "metadata": {},
     "output_type": "execute_result"
    }
   ],
   "source": [
    "rental.head(10)"
   ]
  },
  {
   "cell_type": "code",
   "execution_count": 44,
   "metadata": {},
   "outputs": [
    {
     "data": {
      "text/plain": [
       "0    40079\n",
       "1     5185\n",
       "Name: isFurnished, dtype: int64"
      ]
     },
     "execution_count": 44,
     "metadata": {},
     "output_type": "execute_result"
    }
   ],
   "source": [
    "rental[\"isFurnished\"].value_counts()"
   ]
  },
  {
   "cell_type": "code",
   "execution_count": 79,
   "metadata": {},
   "outputs": [
    {
     "name": "stdout",
     "output_type": "stream",
     "text": [
      "count    45264.000000\n",
      "mean      3270.979167\n",
      "std       7114.680121\n",
      "min        100.000000\n",
      "25%        700.000000\n",
      "50%       1458.000000\n",
      "75%       2719.000000\n",
      "max     344500.000000\n",
      "Name: Price, dtype: float64\n"
     ]
    }
   ],
   "source": [
    "with pd.option_context('float_format', '{:f}'.format): print(rental[\"Price\"].describe())"
   ]
  },
  {
   "cell_type": "code",
   "execution_count": 80,
   "metadata": {},
   "outputs": [
    {
     "data": {
      "image/png": "[encoded data removed]",
      "text/plain": [
       "<Figure size 1152x360 with 2 Axes>"
      ]
     },
     "metadata": {
      "needs_background": "light"
     },
     "output_type": "display_data"
    }
   ],
   "source": [
    "plt.subplot(121)\n",
    "sns.distplot(rental[\"Price\"])\n",
    "\n",
    "plt.subplot(122)\n",
    "rental[\"Price\"].plot.box(figsize=(16,5))\n",
    "\n",
    "plt.savefig(\"Price_distribution.png\", bbox_inches=\"tight\")\n",
    "plt.show()"
   ]
  },
  {
   "cell_type": "code",
   "execution_count": 62,
   "metadata": {},
   "outputs": [
    {
     "name": "stdout",
     "output_type": "stream",
     "text": [
      "count   45246.000000\n",
      "mean     3193.166269\n",
      "std      5731.046011\n",
      "min       100.000000\n",
      "25%       700.000000\n",
      "50%      1436.000000\n",
      "75%      2719.000000\n",
      "max     95000.000000\n",
      "Name: Price, dtype: float64\n"
     ]
    }
   ],
   "source": [
    "rental = rental[rental[\"Price\"] <= 100000].reset_index(drop=True)\n",
    "\n",
    "with pd.option_context('float_format', '{:f}'.format): print(rental[\"Price\"].describe())"
   ]
  },
  {
   "cell_type": "code",
   "execution_count": 64,
   "metadata": {},
   "outputs": [
    {
     "data": {
      "image/png": "[encoded data removed]",
      "text/plain": [
       "<Figure size 1152x360 with 2 Axes>"
      ]
     },
     "metadata": {
      "needs_background": "light"
     },
     "output_type": "display_data"
    }
   ],
   "source": [
    "plt.subplot(121)\n",
    "sns.distplot(rental[\"Price\"])\n",
    "\n",
    "plt.subplot(122)\n",
    "rental[\"Price\"].plot.box(figsize=(16,5))\n",
    "plt.savefig(\"after_100,000_outlier_distribution.png\", bbox_inches=\"tight\")\n",
    "plt.show()"
   ]
  },
  {
   "cell_type": "code",
   "execution_count": 81,
   "metadata": {},
   "outputs": [
    {
     "name": "stdout",
     "output_type": "stream",
     "text": [
      "count   45106.000000\n",
      "mean     3036.556046\n",
      "std      4926.732832\n",
      "min       100.000000\n",
      "25%       700.000000\n",
      "50%      1414.000000\n",
      "75%      2719.000000\n",
      "max     35000.000000\n",
      "Name: Price, dtype: float64\n"
     ]
    }
   ],
   "source": [
    "rental = rental[rental[\"Price\"] <= 40000].reset_index(drop=True)\n",
    "\n",
    "with pd.option_context('float_format', '{:f}'.format): print(rental[\"Price\"].describe())"
   ]
  },
  {
   "cell_type": "code",
   "execution_count": 82,
   "metadata": {},
   "outputs": [
    {
     "data": {
      "image/png": "[encoded data removed]",
      "text/plain": [
       "<Figure size 1152x360 with 2 Axes>"
      ]
     },
     "metadata": {
      "needs_background": "light"
     },
     "output_type": "display_data"
    }
   ],
   "source": [
    "plt.subplot(121)\n",
    "sns.distplot(rental[\"Price\"])\n",
    "\n",
    "plt.subplot(122)\n",
    "rental[\"Price\"].plot.box(figsize=(16,5))\n",
    "plt.savefig(\"after_40,000_outlier_distribution.png\", bbox_inches=\"tight\")\n",
    "plt.show()"
   ]
  },
  {
   "cell_type": "code",
   "execution_count": 83,
   "metadata": {},
   "outputs": [
    {
     "name": "stdout",
     "output_type": "stream",
     "text": [
      "['Status', 'Region', 'Lat', 'Lon', 'Elev', 'Pop', 'Bed', 'Bath', 'Price', 'isFurnished']\n"
     ]
    }
   ],
   "source": [
    "# visualize relationships using scatter plots\n",
    "print([\"Status\", \"Region\", \"Lat\", \"Lon\", \"Elev\", \"Pop\", \"Bed\", \"Bath\", \"Price\", \"isFurnished\"])"
   ]
  },
  {
   "cell_type": "code",
   "execution_count": 229,
   "metadata": {},
   "outputs": [
    {
     "data": {
      "image/png": "[encoded data removed]",
      "text/plain": [
       "<Figure size 1008x576 with 4 Axes>"
      ]
     },
     "metadata": {
      "needs_background": "light"
     },
     "output_type": "display_data"
    }
   ],
   "source": [
    "plt.figure(figsize=(14, 8))\n",
    "\n",
    "plt.subplot(2, 2, 1)\n",
    "plt.scatter(x=rental[\"Region\"], y=rental[\"Status\"])\n",
    "plt.xlabel(\"Region\")\n",
    "plt.ylabel(\"Status\")\n",
    "\n",
    "plt.subplot(2, 2, 2)\n",
    "plt.scatter(x=rental[\"Status\"], y=rental[\"Elev\"])\n",
    "plt.xlabel(\"Status\")\n",
    "plt.ylabel(\"Elevation from sea level\")\n",
    "\n",
    "plt.subplot(2, 2, 3)\n",
    "plt.scatter(x=rental[\"Status\"], y=rental[\"Pop\"])\n",
    "plt.xlabel(\"Status\")\n",
    "plt.ylabel(\"Population\")\n",
    "\n",
    "plt.subplot(2, 2, 4)\n",
    "plt.scatter(x=rental[\"Status\"], y=rental[\"Price\"])\n",
    "plt.xlabel(\"Status\")\n",
    "plt.ylabel(\"Price\")\n",
    "\n",
    "plt.savefig(\"relationships_1.png\", bbox_inches=\"tight\")"
   ]
  },
  {
   "cell_type": "code",
   "execution_count": 93,
   "metadata": {},
   "outputs": [
    {
     "data": {
      "image/png": "[encoded data removed]",
      "text/plain": [
       "<Figure size 1008x576 with 4 Axes>"
      ]
     },
     "metadata": {
      "needs_background": "light"
     },
     "output_type": "display_data"
    }
   ],
   "source": [
    "plt.figure(figsize=(14, 8))\n",
    "\n",
    "plt.subplot(2, 2, 1)\n",
    "plt.scatter(x=rental[\"Region\"], y=rental[\"Elev\"])\n",
    "plt.xlabel(\"Region\")\n",
    "plt.ylabel(\"Elevation from sea level\")\n",
    "\n",
    "plt.subplot(2, 2, 2)\n",
    "plt.scatter(x=rental[\"Region\"], y=rental[\"Pop\"])\n",
    "plt.xlabel(\"Region\")\n",
    "plt.ylabel(\"Pop\")\n",
    "\n",
    "plt.subplot(2, 2, 3)\n",
    "plt.scatter(x=rental[\"Region\"], y=rental[\"Price\"])\n",
    "plt.xlabel(\"Region\")\n",
    "plt.ylabel(\"Price\")\n",
    "\n",
    "plt.subplot(2, 2, 4)\n",
    "plt.scatter(x=rental[\"isFurnished\"], y=rental[\"Price\"])\n",
    "plt.xlabel(\"isFurnished\")\n",
    "plt.ylabel(\"Price\")\n",
    "\n",
    "plt.savefig(\"relationships_2.png\", bbox_inches=\"tight\")"
   ]
  },
  {
   "cell_type": "code",
   "execution_count": 105,
   "metadata": {},
   "outputs": [
    {
     "data": {
      "image/png": "[encoded data removed]",
      "text/plain": [
       "<Figure size 1008x576 with 4 Axes>"
      ]
     },
     "metadata": {
      "needs_background": "light"
     },
     "output_type": "display_data"
    }
   ],
   "source": [
    "plt.figure(figsize=(14, 8))\n",
    "\n",
    "plt.subplot(2, 2, 1)\n",
    "plt.scatter(x=rental[\"Bed\"], y=rental[\"Bath\"])\n",
    "plt.xlabel(\"Bedrooms\")\n",
    "plt.ylabel(\"Bathrooms\")\n",
    "\n",
    "plt.subplot(2, 2, 2)\n",
    "plt.scatter(x=rental[\"Bed\"], y=rental[\"Price\"])\n",
    "plt.xlabel(\"Bedrooms\")\n",
    "plt.ylabel(\"Proce\")\n",
    "\n",
    "plt.subplot(2, 2, 3)\n",
    "plt.scatter(x=rental[\"Bath\"], y=rental[\"Price\"])\n",
    "plt.xlabel(\"Bathrooms\")\n",
    "plt.ylabel(\"Price\")\n",
    "\n",
    "plt.subplot(2, 2, 4)\n",
    "#rental.plot(kind=\"scatter\", x=\"Lat\", y=\"Lon\", s=rental[\"Pop\"]/1000, label=\"Population\",colorbar=True, alpha=0.4, cmap=plt.get_cmap(\"jet\"))\n",
    "plt.scatter(x=rental[\"Bed\"], y=rental[\"Bath\"], s=rental[\"Price\"]/100, label=\"Price\", alpha=0.4, cmap=plt.get_cmap(\"jet\"))\n",
    "plt.xlabel(\"Bed/Bath\")\n",
    "plt.ylabel(\"Price\")\n",
    "\n",
    "plt.savefig(\"relationships_3.png\", bbox_inches=\"tight\")"
   ]
  },
  {
   "cell_type": "code",
   "execution_count": 110,
   "metadata": {},
   "outputs": [
    {
     "data": {
      "text/html": [
       "<div>\n",
       "<style scoped>\n",
       "    .dataframe tbody tr th:only-of-type {\n",
       "        vertical-align: middle;\n",
       "    }\n",
       "\n",
       "    .dataframe tbody tr th {\n",
       "        vertical-align: top;\n",
       "    }\n",
       "\n",
       "    .dataframe thead th {\n",
       "        text-align: right;\n",
       "    }\n",
       "</style>\n",
       "<table border=\"1\" class=\"dataframe\">\n",
       "  <thead>\n",
       "    <tr style=\"text-align: right;\">\n",
       "      <th></th>\n",
       "      <th>Status</th>\n",
       "      <th>Region</th>\n",
       "      <th>Lat</th>\n",
       "      <th>Lon</th>\n",
       "      <th>Elev</th>\n",
       "      <th>Pop</th>\n",
       "      <th>Bed</th>\n",
       "      <th>Bath</th>\n",
       "      <th>Price</th>\n",
       "      <th>isFurnished</th>\n",
       "    </tr>\n",
       "  </thead>\n",
       "  <tbody>\n",
       "    <tr>\n",
       "      <th>Status</th>\n",
       "      <td>1.000000</td>\n",
       "      <td>0.756389</td>\n",
       "      <td>0.706320</td>\n",
       "      <td>-0.188366</td>\n",
       "      <td>0.615719</td>\n",
       "      <td>-0.542136</td>\n",
       "      <td>-0.038274</td>\n",
       "      <td>-0.104564</td>\n",
       "      <td>-0.081066</td>\n",
       "      <td>-0.050170</td>\n",
       "    </tr>\n",
       "    <tr>\n",
       "      <th>Region</th>\n",
       "      <td>0.756389</td>\n",
       "      <td>1.000000</td>\n",
       "      <td>0.807095</td>\n",
       "      <td>-0.225820</td>\n",
       "      <td>0.594835</td>\n",
       "      <td>-0.383717</td>\n",
       "      <td>-0.014153</td>\n",
       "      <td>-0.084444</td>\n",
       "      <td>-0.055357</td>\n",
       "      <td>-0.046195</td>\n",
       "    </tr>\n",
       "    <tr>\n",
       "      <th>Lat</th>\n",
       "      <td>0.706320</td>\n",
       "      <td>0.807095</td>\n",
       "      <td>1.000000</td>\n",
       "      <td>-0.289814</td>\n",
       "      <td>0.666635</td>\n",
       "      <td>-0.358182</td>\n",
       "      <td>-0.017801</td>\n",
       "      <td>-0.051905</td>\n",
       "      <td>-0.052110</td>\n",
       "      <td>-0.037233</td>\n",
       "    </tr>\n",
       "    <tr>\n",
       "      <th>Lon</th>\n",
       "      <td>-0.188366</td>\n",
       "      <td>-0.225820</td>\n",
       "      <td>-0.289814</td>\n",
       "      <td>1.000000</td>\n",
       "      <td>-0.609714</td>\n",
       "      <td>0.056562</td>\n",
       "      <td>-0.028961</td>\n",
       "      <td>0.030829</td>\n",
       "      <td>0.081017</td>\n",
       "      <td>0.049934</td>\n",
       "    </tr>\n",
       "    <tr>\n",
       "      <th>Elev</th>\n",
       "      <td>0.615719</td>\n",
       "      <td>0.594835</td>\n",
       "      <td>0.666635</td>\n",
       "      <td>-0.609714</td>\n",
       "      <td>1.000000</td>\n",
       "      <td>-0.193374</td>\n",
       "      <td>-0.009447</td>\n",
       "      <td>-0.070385</td>\n",
       "      <td>-0.068883</td>\n",
       "      <td>-0.055033</td>\n",
       "    </tr>\n",
       "    <tr>\n",
       "      <th>Pop</th>\n",
       "      <td>-0.542136</td>\n",
       "      <td>-0.383717</td>\n",
       "      <td>-0.358182</td>\n",
       "      <td>0.056562</td>\n",
       "      <td>-0.193374</td>\n",
       "      <td>1.000000</td>\n",
       "      <td>0.118641</td>\n",
       "      <td>0.156133</td>\n",
       "      <td>0.176026</td>\n",
       "      <td>0.029939</td>\n",
       "    </tr>\n",
       "    <tr>\n",
       "      <th>Bed</th>\n",
       "      <td>-0.038274</td>\n",
       "      <td>-0.014153</td>\n",
       "      <td>-0.017801</td>\n",
       "      <td>-0.028961</td>\n",
       "      <td>-0.009447</td>\n",
       "      <td>0.118641</td>\n",
       "      <td>1.000000</td>\n",
       "      <td>0.765932</td>\n",
       "      <td>-0.003141</td>\n",
       "      <td>-0.140236</td>\n",
       "    </tr>\n",
       "    <tr>\n",
       "      <th>Bath</th>\n",
       "      <td>-0.104564</td>\n",
       "      <td>-0.084444</td>\n",
       "      <td>-0.051905</td>\n",
       "      <td>0.030829</td>\n",
       "      <td>-0.070385</td>\n",
       "      <td>0.156133</td>\n",
       "      <td>0.765932</td>\n",
       "      <td>1.000000</td>\n",
       "      <td>0.030249</td>\n",
       "      <td>-0.134759</td>\n",
       "    </tr>\n",
       "    <tr>\n",
       "      <th>Price</th>\n",
       "      <td>-0.081066</td>\n",
       "      <td>-0.055357</td>\n",
       "      <td>-0.052110</td>\n",
       "      <td>0.081017</td>\n",
       "      <td>-0.068883</td>\n",
       "      <td>0.176026</td>\n",
       "      <td>-0.003141</td>\n",
       "      <td>0.030249</td>\n",
       "      <td>1.000000</td>\n",
       "      <td>0.868055</td>\n",
       "    </tr>\n",
       "    <tr>\n",
       "      <th>isFurnished</th>\n",
       "      <td>-0.050170</td>\n",
       "      <td>-0.046195</td>\n",
       "      <td>-0.037233</td>\n",
       "      <td>0.049934</td>\n",
       "      <td>-0.055033</td>\n",
       "      <td>0.029939</td>\n",
       "      <td>-0.140236</td>\n",
       "      <td>-0.134759</td>\n",
       "      <td>0.868055</td>\n",
       "      <td>1.000000</td>\n",
       "    </tr>\n",
       "  </tbody>\n",
       "</table>\n",
       "</div>"
      ],
      "text/plain": [
       "               Status    Region       Lat       Lon      Elev       Pop  \\\n",
       "Status       1.000000  0.756389  0.706320 -0.188366  0.615719 -0.542136   \n",
       "Region       0.756389  1.000000  0.807095 -0.225820  0.594835 -0.383717   \n",
       "Lat          0.706320  0.807095  1.000000 -0.289814  0.666635 -0.358182   \n",
       "Lon         -0.188366 -0.225820 -0.289814  1.000000 -0.609714  0.056562   \n",
       "Elev         0.615719  0.594835  0.666635 -0.609714  1.000000 -0.193374   \n",
       "Pop         -0.542136 -0.383717 -0.358182  0.056562 -0.193374  1.000000   \n",
       "Bed         -0.038274 -0.014153 -0.017801 -0.028961 -0.009447  0.118641   \n",
       "Bath        -0.104564 -0.084444 -0.051905  0.030829 -0.070385  0.156133   \n",
       "Price       -0.081066 -0.055357 -0.052110  0.081017 -0.068883  0.176026   \n",
       "isFurnished -0.050170 -0.046195 -0.037233  0.049934 -0.055033  0.029939   \n",
       "\n",
       "                  Bed      Bath     Price  isFurnished  \n",
       "Status      -0.038274 -0.104564 -0.081066    -0.050170  \n",
       "Region      -0.014153 -0.084444 -0.055357    -0.046195  \n",
       "Lat         -0.017801 -0.051905 -0.052110    -0.037233  \n",
       "Lon         -0.028961  0.030829  0.081017     0.049934  \n",
       "Elev        -0.009447 -0.070385 -0.068883    -0.055033  \n",
       "Pop          0.118641  0.156133  0.176026     0.029939  \n",
       "Bed          1.000000  0.765932 -0.003141    -0.140236  \n",
       "Bath         0.765932  1.000000  0.030249    -0.134759  \n",
       "Price       -0.003141  0.030249  1.000000     0.868055  \n",
       "isFurnished -0.140236 -0.134759  0.868055     1.000000  "
      ]
     },
     "execution_count": 110,
     "metadata": {},
     "output_type": "execute_result"
    }
   ],
   "source": [
    "corr = rental[[\"Status\", \"Region\", \"Lat\", \"Lon\", \"Elev\", \"Pop\", \"Bed\", \"Bath\", \"Price\", \"isFurnished\"]].corr()\n",
    "corr"
   ]
  },
  {
   "cell_type": "code",
   "execution_count": 111,
   "metadata": {},
   "outputs": [
    {
     "data": {
      "image/png": "[encoded data removed]",
      "text/plain": [
       "<Figure size 576x432 with 2 Axes>"
      ]
     },
     "metadata": {
      "needs_background": "light"
     },
     "output_type": "display_data"
    }
   ],
   "source": [
    "plt.subplots(figsize=(8,6))\n",
    "\n",
    "fig = sns.heatmap(corr,\n",
    "                 xticklabels=corr.columns.values,\n",
    "                 yticklabels=corr.columns.values)\n",
    "\n",
    "fig.get_figure().savefig(\"correlation.png\", bbox_inches=\"tight\")"
   ]
  },
  {
   "cell_type": "code",
   "execution_count": 112,
   "metadata": {},
   "outputs": [
    {
     "data": {
      "text/html": [
       "<div>\n",
       "<style scoped>\n",
       "    .dataframe tbody tr th:only-of-type {\n",
       "        vertical-align: middle;\n",
       "    }\n",
       "\n",
       "    .dataframe tbody tr th {\n",
       "        vertical-align: top;\n",
       "    }\n",
       "\n",
       "    .dataframe thead th {\n",
       "        text-align: right;\n",
       "    }\n",
       "</style>\n",
       "<table border=\"1\" class=\"dataframe\">\n",
       "  <thead>\n",
       "    <tr style=\"text-align: right;\">\n",
       "      <th></th>\n",
       "      <th>Status</th>\n",
       "      <th>Region</th>\n",
       "      <th>Lat</th>\n",
       "      <th>Lon</th>\n",
       "      <th>Elev</th>\n",
       "      <th>Pop</th>\n",
       "      <th>Bed</th>\n",
       "      <th>Bath</th>\n",
       "      <th>Price</th>\n",
       "      <th>isFurnished</th>\n",
       "    </tr>\n",
       "  </thead>\n",
       "  <tbody>\n",
       "    <tr>\n",
       "      <th>0</th>\n",
       "      <td>2</td>\n",
       "      <td>1</td>\n",
       "      <td>5.59</td>\n",
       "      <td>-0.45</td>\n",
       "      <td>249</td>\n",
       "      <td>16986</td>\n",
       "      <td>2.0</td>\n",
       "      <td>2.0</td>\n",
       "      <td>150</td>\n",
       "      <td>0</td>\n",
       "    </tr>\n",
       "    <tr>\n",
       "      <th>1</th>\n",
       "      <td>1</td>\n",
       "      <td>1</td>\n",
       "      <td>5.66</td>\n",
       "      <td>-0.27</td>\n",
       "      <td>246</td>\n",
       "      <td>407491</td>\n",
       "      <td>2.0</td>\n",
       "      <td>2.0</td>\n",
       "      <td>150</td>\n",
       "      <td>0</td>\n",
       "    </tr>\n",
       "    <tr>\n",
       "      <th>2</th>\n",
       "      <td>2</td>\n",
       "      <td>1</td>\n",
       "      <td>5.59</td>\n",
       "      <td>-0.45</td>\n",
       "      <td>249</td>\n",
       "      <td>16986</td>\n",
       "      <td>2.0</td>\n",
       "      <td>2.0</td>\n",
       "      <td>150</td>\n",
       "      <td>0</td>\n",
       "    </tr>\n",
       "    <tr>\n",
       "      <th>3</th>\n",
       "      <td>1</td>\n",
       "      <td>1</td>\n",
       "      <td>5.66</td>\n",
       "      <td>-0.27</td>\n",
       "      <td>246</td>\n",
       "      <td>407491</td>\n",
       "      <td>2.0</td>\n",
       "      <td>2.0</td>\n",
       "      <td>150</td>\n",
       "      <td>0</td>\n",
       "    </tr>\n",
       "    <tr>\n",
       "      <th>4</th>\n",
       "      <td>1</td>\n",
       "      <td>1</td>\n",
       "      <td>5.61</td>\n",
       "      <td>-0.22</td>\n",
       "      <td>269</td>\n",
       "      <td>800486</td>\n",
       "      <td>3.0</td>\n",
       "      <td>4.0</td>\n",
       "      <td>1027</td>\n",
       "      <td>0</td>\n",
       "    </tr>\n",
       "  </tbody>\n",
       "</table>\n",
       "</div>"
      ],
      "text/plain": [
       "   Status  Region   Lat   Lon  Elev     Pop  Bed  Bath  Price  isFurnished\n",
       "0       2       1  5.59 -0.45   249   16986  2.0   2.0    150            0\n",
       "1       1       1  5.66 -0.27   246  407491  2.0   2.0    150            0\n",
       "2       2       1  5.59 -0.45   249   16986  2.0   2.0    150            0\n",
       "3       1       1  5.66 -0.27   246  407491  2.0   2.0    150            0\n",
       "4       1       1  5.61 -0.22   269  800486  3.0   4.0   1027            0"
      ]
     },
     "execution_count": 112,
     "metadata": {},
     "output_type": "execute_result"
    }
   ],
   "source": [
    "rental_df = pd.get_dummies(rental)\n",
    "\n",
    "rental_df.head()"
   ]
  },
  {
   "cell_type": "code",
   "execution_count": 113,
   "metadata": {},
   "outputs": [],
   "source": [
    "X = rental_df.drop(columns=[\"Price\"])\n",
    "Y = rental_df[\"Price\"]"
   ]
  },
  {
   "cell_type": "code",
   "execution_count": 114,
   "metadata": {},
   "outputs": [],
   "source": [
    "# split data into random train and test subsets\n",
    "\n",
    "from sklearn.model_selection import train_test_split\n",
    "\n",
    "X_train, X_test, y_train, y_test = train_test_split(X, Y, test_size=0.25, random_state=0)"
   ]
  },
  {
   "cell_type": "code",
   "execution_count": 115,
   "metadata": {},
   "outputs": [
    {
     "data": {
      "text/plain": [
       "LinearRegression(copy_X=True, fit_intercept=True, n_jobs=None, normalize=False)"
      ]
     },
     "execution_count": 115,
     "metadata": {},
     "output_type": "execute_result"
    }
   ],
   "source": [
    "# fit a Linear Regression Model\n",
    "from sklearn.linear_model import LinearRegression\n",
    "regressor = LinearRegression()\n",
    "regressor.fit(X_train, y_train)"
   ]
  },
  {
   "cell_type": "code",
   "execution_count": 116,
   "metadata": {},
   "outputs": [],
   "source": [
    "# make predictions\n",
    "y_pred = regressor.predict(X_test)"
   ]
  },
  {
   "cell_type": "code",
   "execution_count": 220,
   "metadata": {},
   "outputs": [
    {
     "name": "stdout",
     "output_type": "stream",
     "text": [
      "Liner Regression R-squared: 0.024147014996037774\n",
      "Liner Regression R-squared: 0.8381397927914663\n"
     ]
    }
   ],
   "source": [
    "# calculate R-squared\n",
    "print(\"Liner Regression R-squared: {}\".format(regressor.score(X_test, y_test)))\n",
    "from sklearn.metrics import r2_score\n",
    "lin_r2 = r2_score(y_test, y_pred)\n",
    "\n",
    "print(\"Liner Regression R-squared: {}\".format(lin_r2))"
   ]
  },
  {
   "cell_type": "code",
   "execution_count": 118,
   "metadata": {},
   "outputs": [
    {
     "name": "stdout",
     "output_type": "stream",
     "text": [
      "Liner Regression RMSE: 2267.3133644629083\n"
     ]
    }
   ],
   "source": [
    "# calculate root mean squared error (RMSE)\n",
    "from sklearn.metrics import mean_squared_error\n",
    "\n",
    "lin_mse = mean_squared_error(y_pred, y_test)\n",
    "lin_rmse = np.sqrt(lin_mse)\n",
    "print(\"Liner Regression RMSE: {}\".format(lin_rmse))"
   ]
  },
  {
   "cell_type": "code",
   "execution_count": 119,
   "metadata": {},
   "outputs": [
    {
     "name": "stdout",
     "output_type": "stream",
     "text": [
      "Liner Regression MAE: 1233.654649941751\n"
     ]
    }
   ],
   "source": [
    "# calculate mean absolute error (MAE)\n",
    "from sklearn.metrics import mean_absolute_error\n",
    "\n",
    "lin_mae = mean_absolute_error(y_pred, y_test)\n",
    "print(\"Liner Regression MAE: {}\".format(lin_mae))"
   ]
  },
  {
   "cell_type": "code",
   "execution_count": 120,
   "metadata": {},
   "outputs": [
    {
     "name": "stdout",
     "output_type": "stream",
     "text": [
      "Lat : -6.963680818765831\n",
      "Elev : -0.5371889450154631\n",
      "Pop : 0.004601711771044847\n",
      "Bed : 44.99445887900801\n",
      "Region : 212.99084819331608\n",
      "Bath : 436.17286591431184\n",
      "Status : 583.066044444552\n",
      "Lon : 659.5098140887172\n",
      "isFurnished : 13839.887834848827\n"
     ]
    }
   ],
   "source": [
    "# get feature coefficients\n",
    "importance = regressor.coef_\n",
    "feature_indexes_by_importance = importance.argsort()\n",
    "for index in feature_indexes_by_importance:\n",
    "    print('{} : {}'.format(X_train.columns[index], (importance[index] )))"
   ]
  },
  {
   "cell_type": "code",
   "execution_count": 121,
   "metadata": {},
   "outputs": [
    {
     "data": {
      "text/plain": [
       "'0.22'"
      ]
     },
     "execution_count": 121,
     "metadata": {},
     "output_type": "execute_result"
    }
   ],
   "source": [
    "import sklearn\n",
    "sklearn.__version__"
   ]
  },
  {
   "cell_type": "code",
   "execution_count": 122,
   "metadata": {},
   "outputs": [],
   "source": [
    "# import libraries, we will use GridSearchCV to find the best parameter values\n",
    "from sklearn.ensemble import RandomForestRegressor\n",
    "rf = RandomForestRegressor(random_state=0)"
   ]
  },
  {
   "cell_type": "code",
   "execution_count": 123,
   "metadata": {},
   "outputs": [
    {
     "data": {
      "text/plain": [
       "RandomForestRegressor(bootstrap=True, ccp_alpha=0.0, criterion='mse',\n",
       "                      max_depth=None, max_features='auto', max_leaf_nodes=None,\n",
       "                      max_samples=None, min_impurity_decrease=0.0,\n",
       "                      min_impurity_split=None, min_samples_leaf=1,\n",
       "                      min_samples_split=2, min_weight_fraction_leaf=0.0,\n",
       "                      n_estimators=100, n_jobs=None, oob_score=False,\n",
       "                      random_state=0, verbose=0, warm_start=False)"
      ]
     },
     "execution_count": 123,
     "metadata": {},
     "output_type": "execute_result"
    }
   ],
   "source": [
    "# fit the model\n",
    "rf.fit(X_train, y_train)"
   ]
  },
  {
   "cell_type": "code",
   "execution_count": 124,
   "metadata": {},
   "outputs": [],
   "source": [
    "# make predictions \n",
    "y_pred = rf.predict(X_test)"
   ]
  },
  {
   "cell_type": "code",
   "execution_count": 125,
   "metadata": {},
   "outputs": [
    {
     "name": "stdout",
     "output_type": "stream",
     "text": [
      "Random Forest R-squared: 0.9469470280888937\n"
     ]
    }
   ],
   "source": [
    "# calculate R-squared\n",
    "print(\"Random Forest R-squared: {}\".format(rf.score(X_test, y_test)))"
   ]
  },
  {
   "cell_type": "code",
   "execution_count": 126,
   "metadata": {},
   "outputs": [
    {
     "name": "stdout",
     "output_type": "stream",
     "text": [
      "Random Forest Regression RMSE: 1134.7950718741406\n"
     ]
    }
   ],
   "source": [
    "# calculate root mean squared error (RMSE)\n",
    "from sklearn.metrics import mean_squared_error\n",
    "\n",
    "forest_mse = mean_squared_error(y_pred, y_test)\n",
    "forest_rmse = np.sqrt(forest_mse)\n",
    "print(\"Random Forest Regression RMSE: {}\".format(forest_rmse))"
   ]
  },
  {
   "cell_type": "code",
   "execution_count": 127,
   "metadata": {},
   "outputs": [
    {
     "name": "stdout",
     "output_type": "stream",
     "text": [
      "Random Forest Regression MAE: 481.2736664657797\n"
     ]
    }
   ],
   "source": [
    "# calculate mean absolute error (MAE)\n",
    "from sklearn.metrics import mean_absolute_error\n",
    "\n",
    "forest_mae = mean_absolute_error(y_pred, y_test)\n",
    "print(\"Random Forest Regression MAE: {}\".format(forest_mae))"
   ]
  },
  {
   "cell_type": "code",
   "execution_count": 128,
   "metadata": {},
   "outputs": [],
   "source": [
    "# import libraries, we will use GridSearchCV to find the best parameter values\n",
    "from sklearn.ensemble import RandomForestRegressor\n",
    "from sklearn.model_selection import GridSearchCV"
   ]
  },
  {
   "cell_type": "code",
   "execution_count": 129,
   "metadata": {},
   "outputs": [],
   "source": [
    "# provide range for max_depth from 1 to 5 with an interval of 1 and from 1 to 50 with an interval of 1 for n_estimators\n",
    "params = {'max_depth': list(range(20, 30, 2)), 'n_estimators': list(range(30, 40, 2))}\n",
    "rf = RandomForestRegressor(random_state=0)"
   ]
  },
  {
   "cell_type": "code",
   "execution_count": 130,
   "metadata": {},
   "outputs": [],
   "source": [
    "# use gridsearch to find the best parameter\n",
    "forest_reg = GridSearchCV(rf, params, cv=5)"
   ]
  },
  {
   "cell_type": "code",
   "execution_count": 131,
   "metadata": {},
   "outputs": [
    {
     "name": "stdout",
     "output_type": "stream",
     "text": [
      "CPU times: user 2min 49s, sys: 141 ms, total: 2min 49s\n",
      "Wall time: 2min 50s\n"
     ]
    },
    {
     "data": {
      "text/plain": [
       "GridSearchCV(cv=5, error_score=nan,\n",
       "             estimator=RandomForestRegressor(bootstrap=True, ccp_alpha=0.0,\n",
       "                                             criterion='mse', max_depth=None,\n",
       "                                             max_features='auto',\n",
       "                                             max_leaf_nodes=None,\n",
       "                                             max_samples=None,\n",
       "                                             min_impurity_decrease=0.0,\n",
       "                                             min_impurity_split=None,\n",
       "                                             min_samples_leaf=1,\n",
       "                                             min_samples_split=2,\n",
       "                                             min_weight_fraction_leaf=0.0,\n",
       "                                             n_estimators=100, n_jobs=None,\n",
       "                                             oob_score=False, random_state=0,\n",
       "                                             verbose=0, warm_start=False),\n",
       "             iid='deprecated', n_jobs=None,\n",
       "             param_grid={'max_depth': [20, 22, 24, 26, 28],\n",
       "                         'n_estimators': [30, 32, 34, 36, 38]},\n",
       "             pre_dispatch='2*n_jobs', refit=True, return_train_score=False,\n",
       "             scoring=None, verbose=0)"
      ]
     },
     "execution_count": 131,
     "metadata": {},
     "output_type": "execute_result"
    }
   ],
   "source": [
    "%%time\n",
    "# fit the model\n",
    "forest_reg.fit(X_train, y_train)"
   ]
  },
  {
   "cell_type": "code",
   "execution_count": 132,
   "metadata": {},
   "outputs": [
    {
     "data": {
      "text/plain": [
       "RandomForestRegressor(bootstrap=True, ccp_alpha=0.0, criterion='mse',\n",
       "                      max_depth=22, max_features='auto', max_leaf_nodes=None,\n",
       "                      max_samples=None, min_impurity_decrease=0.0,\n",
       "                      min_impurity_split=None, min_samples_leaf=1,\n",
       "                      min_samples_split=2, min_weight_fraction_leaf=0.0,\n",
       "                      n_estimators=36, n_jobs=None, oob_score=False,\n",
       "                      random_state=0, verbose=0, warm_start=False)"
      ]
     },
     "execution_count": 132,
     "metadata": {},
     "output_type": "execute_result"
    }
   ],
   "source": [
    "# best estimator learned through GridSearch\n",
    "forest_reg.best_estimator_"
   ]
  },
  {
   "cell_type": "code",
   "execution_count": 133,
   "metadata": {},
   "outputs": [
    {
     "name": "stdout",
     "output_type": "stream",
     "text": [
      "Best Params: {'max_depth': 22, 'n_estimators': 36}\n"
     ]
    }
   ],
   "source": [
    "# best parameter values\n",
    "print(\"Best Params:\", forest_reg.best_params_)"
   ]
  },
  {
   "cell_type": "code",
   "execution_count": 134,
   "metadata": {},
   "outputs": [
    {
     "name": "stdout",
     "output_type": "stream",
     "text": [
      "Best CV Score: 0.9525236697180837\n"
     ]
    }
   ],
   "source": [
    "# best CV score\n",
    "print(\"Best CV Score:\", forest_reg.best_score_)"
   ]
  },
  {
   "cell_type": "code",
   "execution_count": 135,
   "metadata": {},
   "outputs": [],
   "source": [
    "# make predictions\n",
    "y_pred = forest_reg.predict(X_test)"
   ]
  },
  {
   "cell_type": "code",
   "execution_count": 221,
   "metadata": {},
   "outputs": [
    {
     "name": "stdout",
     "output_type": "stream",
     "text": [
      "Random Forest R-squared: 0.29977852267504346\n",
      "Random Forest R-squared: 0.8381397927914663\n"
     ]
    }
   ],
   "source": [
    "# calculate R-squared\n",
    "print(\"Random Forest R-squared: {}\".format(forest_reg.score(X_test, y_test)))\n",
    "# another method of calculating R-squared\n",
    "from sklearn.metrics import r2_score\n",
    "forest_r2 = r2_score(y_test, y_pred)\n",
    "\n",
    "print(\"Random Forest R-squared: {}\".format(forest_r2))"
   ]
  },
  {
   "cell_type": "code",
   "execution_count": 137,
   "metadata": {},
   "outputs": [
    {
     "name": "stdout",
     "output_type": "stream",
     "text": [
      "Random Forest Regression RMSE: 1134.6473199002005\n"
     ]
    }
   ],
   "source": [
    "# calculate root mean squared error (RMSE)\n",
    "from sklearn.metrics import mean_squared_error\n",
    "\n",
    "forest_mse = mean_squared_error(y_pred, y_test)\n",
    "forest_rmse = np.sqrt(forest_mse)\n",
    "print(\"Random Forest Regression RMSE: {}\".format(forest_rmse))"
   ]
  },
  {
   "cell_type": "code",
   "execution_count": 138,
   "metadata": {},
   "outputs": [
    {
     "name": "stdout",
     "output_type": "stream",
     "text": [
      "Random Forest Regression MAE: 481.41810572447594\n"
     ]
    }
   ],
   "source": [
    "# calculate mean absolute error (MAE)\n",
    "from sklearn.metrics import mean_absolute_error\n",
    "\n",
    "forest_mae = mean_absolute_error(y_pred, y_test)\n",
    "print(\"Random Forest Regression MAE: {}\".format(forest_mae))"
   ]
  },
  {
   "cell_type": "code",
   "execution_count": 140,
   "metadata": {},
   "outputs": [
    {
     "name": "stdout",
     "output_type": "stream",
     "text": [
      "Status : 0.00013357265251009792\n",
      "Region : 0.00048005535446008385\n",
      "Elev : 0.008396000933970103\n",
      "Lat : 0.012054827327988819\n",
      "Lon : 0.033421806235668663\n",
      "Bed : 0.03858025634201304\n",
      "Bath : 0.04009479059022187\n",
      "Pop : 0.07467243737366713\n",
      "isFurnished : 0.7921662531895002\n"
     ]
    }
   ],
   "source": [
    "# get feature importances\n",
    "importance = forest_reg.best_estimator_.feature_importances_\n",
    "\n",
    "feature_indexes_by_importance = importance.argsort()\n",
    "for index in feature_indexes_by_importance:\n",
    "    print('{} : {}'.format(X_train.columns[index], (importance[index])))"
   ]
  },
  {
   "cell_type": "code",
   "execution_count": 143,
   "metadata": {},
   "outputs": [
    {
     "data": {
      "image/png": "[encoded data removed]",
      "text/plain": [
       "<Figure size 720x432 with 1 Axes>"
      ]
     },
     "metadata": {
      "needs_background": "light"
     },
     "output_type": "display_data"
    }
   ],
   "source": [
    "plt.figure(figsize=(10,6))\n",
    "plt.title(\"Feature Importances\")\n",
    "feat_importances = pd.Series(forest_reg.best_estimator_.feature_importances_, index=X_train.columns)\n",
    "feat_importances.sort_values().plot(kind=\"barh\", color=\"Green\")\n",
    "\n",
    "plt.savefig(\"feature_importances.png\", bbox_inches=\"tight\")\n",
    "# feat_importances.nlargest(20).plot(kind='barh') # top 20 features only"
   ]
  },
  {
   "cell_type": "code",
   "execution_count": 144,
   "metadata": {},
   "outputs": [],
   "source": [
    "# import GradientBoostingRegressor\n",
    "from sklearn.ensemble import GradientBoostingRegressor\n",
    "gbreg = GradientBoostingRegressor(random_state=0)"
   ]
  },
  {
   "cell_type": "code",
   "execution_count": 146,
   "metadata": {},
   "outputs": [
    {
     "data": {
      "text/plain": [
       "GradientBoostingRegressor(alpha=0.9, ccp_alpha=0.0, criterion='friedman_mse',\n",
       "                          init=None, learning_rate=0.1, loss='ls', max_depth=3,\n",
       "                          max_features=None, max_leaf_nodes=None,\n",
       "                          min_impurity_decrease=0.0, min_impurity_split=None,\n",
       "                          min_samples_leaf=1, min_samples_split=2,\n",
       "                          min_weight_fraction_leaf=0.0, n_estimators=100,\n",
       "                          n_iter_no_change=None, presort='deprecated',\n",
       "                          random_state=0, subsample=1.0, tol=0.0001,\n",
       "                          validation_fraction=0.1, verbose=0, warm_start=False)"
      ]
     },
     "execution_count": 146,
     "metadata": {},
     "output_type": "execute_result"
    }
   ],
   "source": [
    "gbreg.fit(X_train, y_train)"
   ]
  },
  {
   "cell_type": "code",
   "execution_count": 147,
   "metadata": {},
   "outputs": [],
   "source": [
    "# make predictions\n",
    "y_pred = gbreg.predict(X_test)"
   ]
  },
  {
   "cell_type": "code",
   "execution_count": 222,
   "metadata": {},
   "outputs": [
    {
     "name": "stdout",
     "output_type": "stream",
     "text": [
      "Gradient Boosting Regressor R-squared: 0.21471357615596398\n",
      "Gradient Boosting Regressor R-squared: 0.8381397927914663\n"
     ]
    }
   ],
   "source": [
    "# calculate R-squared\n",
    "print(\"Gradient Boosting Regressor R-squared: {}\".format(gbreg.score(X_test, y_test)))\n",
    "# another method of calculating R-squared\n",
    "from sklearn.metrics import r2_score\n",
    "gbr_r2 = r2_score(y_test, y_pred)\n",
    "\n",
    "print(\"Gradient Boosting Regressor R-squared: {}\".format(gbr_r2))"
   ]
  },
  {
   "cell_type": "code",
   "execution_count": 149,
   "metadata": {},
   "outputs": [
    {
     "name": "stdout",
     "output_type": "stream",
     "text": [
      "Gradient Boosting Regressor Regression RMSE: 1365.1680865295818\n"
     ]
    }
   ],
   "source": [
    "# calculate root mean squared error (RMSE)\n",
    "from sklearn.metrics import mean_squared_error\n",
    "\n",
    "gbr_mse = mean_squared_error(y_pred, y_test)\n",
    "gbr_rmse = np.sqrt(gbr_mse)\n",
    "print(\"Gradient Boosting Regressor Regression RMSE: {}\".format(gbr_rmse))"
   ]
  },
  {
   "cell_type": "code",
   "execution_count": 150,
   "metadata": {},
   "outputs": [
    {
     "name": "stdout",
     "output_type": "stream",
     "text": [
      "Gradient Boosting Regressor Regression MAE: 710.8794080117844\n"
     ]
    }
   ],
   "source": [
    "# calculate mean absolute error (MAE)\n",
    "from sklearn.metrics import mean_absolute_error\n",
    "\n",
    "gbr_mae = mean_absolute_error(y_pred, y_test)\n",
    "print(\"Gradient Boosting Regressor Regression MAE: {}\".format(gbr_mae))"
   ]
  },
  {
   "cell_type": "code",
   "execution_count": 151,
   "metadata": {},
   "outputs": [],
   "source": [
    "# import libraries, we will use GridSearchCV to find the best parameter values\n",
    "from sklearn.ensemble import GradientBoostingRegressor\n",
    "from sklearn.model_selection import GridSearchCV"
   ]
  },
  {
   "cell_type": "code",
   "execution_count": 155,
   "metadata": {},
   "outputs": [],
   "source": [
    "param_grid = {\"n_estimators\": [300], #, 250, 300\n",
    "              \"max_features\": [8], #2, 4, 6, 8, \n",
    "              \"max_depth\": [10]} #, 15, 20\n",
    "                                \n",
    "gbr = GradientBoostingRegressor(random_state=0)"
   ]
  },
  {
   "cell_type": "code",
   "execution_count": 156,
   "metadata": {},
   "outputs": [],
   "source": [
    "# use gridsearch to find the best parameter\n",
    "gbreg = GridSearchCV(estimator=gbr, param_grid=param_grid, n_jobs=1, cv=5)"
   ]
  },
  {
   "cell_type": "code",
   "execution_count": 157,
   "metadata": {},
   "outputs": [
    {
     "name": "stdout",
     "output_type": "stream",
     "text": [
      "CPU times: user 1min 36s, sys: 82.7 ms, total: 1min 36s\n",
      "Wall time: 1min 36s\n"
     ]
    },
    {
     "data": {
      "text/plain": [
       "GridSearchCV(cv=5, error_score=nan,\n",
       "             estimator=GradientBoostingRegressor(alpha=0.9, ccp_alpha=0.0,\n",
       "                                                 criterion='friedman_mse',\n",
       "                                                 init=None, learning_rate=0.1,\n",
       "                                                 loss='ls', max_depth=3,\n",
       "                                                 max_features=None,\n",
       "                                                 max_leaf_nodes=None,\n",
       "                                                 min_impurity_decrease=0.0,\n",
       "                                                 min_impurity_split=None,\n",
       "                                                 min_samples_leaf=1,\n",
       "                                                 min_samples_split=2,\n",
       "                                                 min_weight_fraction_leaf=0.0,\n",
       "                                                 n_estimators=100,\n",
       "                                                 n_iter_no_change=None,\n",
       "                                                 presort='deprecated',\n",
       "                                                 random_state=0, subsample=1.0,\n",
       "                                                 tol=0.0001,\n",
       "                                                 validation_fraction=0.1,\n",
       "                                                 verbose=0, warm_start=False),\n",
       "             iid='deprecated', n_jobs=1,\n",
       "             param_grid={'max_depth': [10], 'max_features': [8],\n",
       "                         'n_estimators': [300]},\n",
       "             pre_dispatch='2*n_jobs', refit=True, return_train_score=False,\n",
       "             scoring=None, verbose=0)"
      ]
     },
     "execution_count": 157,
     "metadata": {},
     "output_type": "execute_result"
    }
   ],
   "source": [
    "%%time\n",
    "# fit the model\n",
    "gbreg.fit(X_train, y_train)"
   ]
  },
  {
   "cell_type": "code",
   "execution_count": 158,
   "metadata": {},
   "outputs": [
    {
     "data": {
      "text/plain": [
       "GradientBoostingRegressor(alpha=0.9, ccp_alpha=0.0, criterion='friedman_mse',\n",
       "                          init=None, learning_rate=0.1, loss='ls', max_depth=10,\n",
       "                          max_features=8, max_leaf_nodes=None,\n",
       "                          min_impurity_decrease=0.0, min_impurity_split=None,\n",
       "                          min_samples_leaf=1, min_samples_split=2,\n",
       "                          min_weight_fraction_leaf=0.0, n_estimators=300,\n",
       "                          n_iter_no_change=None, presort='deprecated',\n",
       "                          random_state=0, subsample=1.0, tol=0.0001,\n",
       "                          validation_fraction=0.1, verbose=0, warm_start=False)"
      ]
     },
     "execution_count": 158,
     "metadata": {},
     "output_type": "execute_result"
    }
   ],
   "source": [
    "# best estimator learned through GridSearch\n",
    "gbreg.best_estimator_"
   ]
  },
  {
   "cell_type": "code",
   "execution_count": 159,
   "metadata": {},
   "outputs": [
    {
     "name": "stdout",
     "output_type": "stream",
     "text": [
      "Best Params: {'max_depth': 10, 'max_features': 8, 'n_estimators': 300}\n"
     ]
    }
   ],
   "source": [
    "# best parameter values\n",
    "print(\"Best Params:\", gbreg.best_params_)"
   ]
  },
  {
   "cell_type": "code",
   "execution_count": 160,
   "metadata": {},
   "outputs": [
    {
     "name": "stdout",
     "output_type": "stream",
     "text": [
      "Best CV Score: 0.952853427295221\n"
     ]
    }
   ],
   "source": [
    "# best CV score\n",
    "print(\"Best CV Score:\", gbreg.best_score_)"
   ]
  },
  {
   "cell_type": "code",
   "execution_count": 161,
   "metadata": {},
   "outputs": [],
   "source": [
    "# make predictions\n",
    "y_pred = gbreg.predict(X_test)"
   ]
  },
  {
   "cell_type": "code",
   "execution_count": 162,
   "metadata": {},
   "outputs": [
    {
     "name": "stdout",
     "output_type": "stream",
     "text": [
      "Gradient Boosting Regressor R-squared: 0.9469586462519459\n"
     ]
    }
   ],
   "source": [
    "# calculate R-squared\n",
    "print(\"Gradient Boosting Regressor R-squared: {}\".format(gbreg.score(X_test, y_test)))"
   ]
  },
  {
   "cell_type": "code",
   "execution_count": 163,
   "metadata": {},
   "outputs": [
    {
     "name": "stdout",
     "output_type": "stream",
     "text": [
      "Gradient Boosting Regressor Regression RMSE: 1134.6708096924986\n"
     ]
    }
   ],
   "source": [
    "# calculate root mean squared error (RMSE)\n",
    "from sklearn.metrics import mean_squared_error\n",
    "\n",
    "gbr_mse = mean_squared_error(y_pred, y_test)\n",
    "gbr_rmse = np.sqrt(gbr_mse)\n",
    "print(\"Gradient Boosting Regressor Regression RMSE: {}\".format(gbr_rmse))"
   ]
  },
  {
   "cell_type": "code",
   "execution_count": 164,
   "metadata": {},
   "outputs": [
    {
     "name": "stdout",
     "output_type": "stream",
     "text": [
      "Gradient Boosting Regressor Regression MAE: 480.82856891098\n"
     ]
    }
   ],
   "source": [
    "# calculate mean absolute error (MAE)\n",
    "from sklearn.metrics import mean_absolute_error\n",
    "\n",
    "gbr_mae = mean_absolute_error(y_pred, y_test)\n",
    "print(\"Gradient Boosting Regressor Regression MAE: {}\".format(gbr_mae))"
   ]
  },
  {
   "cell_type": "code",
   "execution_count": 165,
   "metadata": {},
   "outputs": [
    {
     "name": "stdout",
     "output_type": "stream",
     "text": [
      "Status : 0.00016676593958389293\n",
      "Region : 0.00021642379925237916\n",
      "Elev : 0.010435358558597901\n",
      "Lat : 0.010561365757208318\n",
      "Bed : 0.03400163498271184\n",
      "Lon : 0.03577666429872285\n",
      "Bath : 0.044475273192666025\n",
      "Pop : 0.07002853416658077\n",
      "isFurnished : 0.794337979304676\n"
     ]
    }
   ],
   "source": [
    "# get feature importances\n",
    "importance = gbreg.best_estimator_.feature_importances_\n",
    "\n",
    "feature_indexes_by_importance = importance.argsort()\n",
    "for index in feature_indexes_by_importance:\n",
    "    print('{} : {}'.format(X_train.columns[index], (importance[index] )))"
   ]
  },
  {
   "cell_type": "code",
   "execution_count": 166,
   "metadata": {},
   "outputs": [
    {
     "data": {
      "image/png": "[encoded data removed]",
      "text/plain": [
       "<Figure size 720x432 with 1 Axes>"
      ]
     },
     "metadata": {
      "needs_background": "light"
     },
     "output_type": "display_data"
    }
   ],
   "source": [
    "plt.figure(figsize=(10,6))\n",
    "plt.title(\"Feature Importances\")\n",
    "feat_importances = pd.Series(gbreg.best_estimator_.feature_importances_, index=X_train.columns)\n",
    "feat_importances.sort_values().plot(kind=\"barh\", color=\"Green\")\n",
    "# feat_importances.nlargest(20).plot(kind='barh') # top 20 features only\n",
    "\n",
    "plt.savefig(\"feature_importances2.png\", bbox_inches=\"tight\")"
   ]
  },
  {
   "cell_type": "code",
   "execution_count": 167,
   "metadata": {},
   "outputs": [
    {
     "name": "stderr",
     "output_type": "stream",
     "text": [
      "/home/pygod/.local/lib/python3.6/site-packages/tensorflow/python/framework/dtypes.py:493: FutureWarning: Passing (type, 1) or '1type' as a synonym of type is deprecated; in a future version of numpy, it will be understood as (type, (1,)) / '(1,)type'.\n",
      "  _np_qint8 = np.dtype([(\"qint8\", np.int8, 1)])\n",
      "/home/pygod/.local/lib/python3.6/site-packages/tensorflow/python/framework/dtypes.py:494: FutureWarning: Passing (type, 1) or '1type' as a synonym of type is deprecated; in a future version of numpy, it will be understood as (type, (1,)) / '(1,)type'.\n",
      "  _np_quint8 = np.dtype([(\"quint8\", np.uint8, 1)])\n",
      "/home/pygod/.local/lib/python3.6/site-packages/tensorflow/python/framework/dtypes.py:495: FutureWarning: Passing (type, 1) or '1type' as a synonym of type is deprecated; in a future version of numpy, it will be understood as (type, (1,)) / '(1,)type'.\n",
      "  _np_qint16 = np.dtype([(\"qint16\", np.int16, 1)])\n",
      "/home/pygod/.local/lib/python3.6/site-packages/tensorflow/python/framework/dtypes.py:496: FutureWarning: Passing (type, 1) or '1type' as a synonym of type is deprecated; in a future version of numpy, it will be understood as (type, (1,)) / '(1,)type'.\n",
      "  _np_quint16 = np.dtype([(\"quint16\", np.uint16, 1)])\n",
      "/home/pygod/.local/lib/python3.6/site-packages/tensorflow/python/framework/dtypes.py:497: FutureWarning: Passing (type, 1) or '1type' as a synonym of type is deprecated; in a future version of numpy, it will be understood as (type, (1,)) / '(1,)type'.\n",
      "  _np_qint32 = np.dtype([(\"qint32\", np.int32, 1)])\n",
      "/home/pygod/.local/lib/python3.6/site-packages/tensorflow/python/framework/dtypes.py:502: FutureWarning: Passing (type, 1) or '1type' as a synonym of type is deprecated; in a future version of numpy, it will be understood as (type, (1,)) / '(1,)type'.\n",
      "  np_resource = np.dtype([(\"resource\", np.ubyte, 1)])\n"
     ]
    },
    {
     "name": "stdout",
     "output_type": "stream",
     "text": [
      "1.5.0\n",
      "2.1.2-tf\n"
     ]
    }
   ],
   "source": [
    "# import tensorflow and keras\n",
    "import tensorflow as tf\n",
    "from tensorflow import keras\n",
    "\n",
    "print(tf.__version__)\n",
    "print(tf.keras.__version__)"
   ]
  },
  {
   "cell_type": "code",
   "execution_count": 168,
   "metadata": {},
   "outputs": [
    {
     "name": "stdout",
     "output_type": "stream",
     "text": [
      "(33829, 9)\n"
     ]
    },
    {
     "data": {
      "text/html": [
       "<div>\n",
       "<style scoped>\n",
       "    .dataframe tbody tr th:only-of-type {\n",
       "        vertical-align: middle;\n",
       "    }\n",
       "\n",
       "    .dataframe tbody tr th {\n",
       "        vertical-align: top;\n",
       "    }\n",
       "\n",
       "    .dataframe thead th {\n",
       "        text-align: right;\n",
       "    }\n",
       "</style>\n",
       "<table border=\"1\" class=\"dataframe\">\n",
       "  <thead>\n",
       "    <tr style=\"text-align: right;\">\n",
       "      <th></th>\n",
       "      <th>Status</th>\n",
       "      <th>Region</th>\n",
       "      <th>Lat</th>\n",
       "      <th>Lon</th>\n",
       "      <th>Elev</th>\n",
       "      <th>Pop</th>\n",
       "      <th>Bed</th>\n",
       "      <th>Bath</th>\n",
       "      <th>isFurnished</th>\n",
       "    </tr>\n",
       "  </thead>\n",
       "  <tbody>\n",
       "    <tr>\n",
       "      <th>22142</th>\n",
       "      <td>1</td>\n",
       "      <td>1</td>\n",
       "      <td>5.65</td>\n",
       "      <td>-0.18</td>\n",
       "      <td>249</td>\n",
       "      <td>445789</td>\n",
       "      <td>4.0</td>\n",
       "      <td>4.0</td>\n",
       "      <td>0</td>\n",
       "    </tr>\n",
       "    <tr>\n",
       "      <th>1120</th>\n",
       "      <td>1</td>\n",
       "      <td>1</td>\n",
       "      <td>5.65</td>\n",
       "      <td>-0.18</td>\n",
       "      <td>249</td>\n",
       "      <td>445789</td>\n",
       "      <td>3.0</td>\n",
       "      <td>4.0</td>\n",
       "      <td>0</td>\n",
       "    </tr>\n",
       "    <tr>\n",
       "      <th>13447</th>\n",
       "      <td>1</td>\n",
       "      <td>1</td>\n",
       "      <td>5.64</td>\n",
       "      <td>-0.10</td>\n",
       "      <td>219</td>\n",
       "      <td>306890</td>\n",
       "      <td>3.0</td>\n",
       "      <td>3.0</td>\n",
       "      <td>0</td>\n",
       "    </tr>\n",
       "    <tr>\n",
       "      <th>25200</th>\n",
       "      <td>1</td>\n",
       "      <td>1</td>\n",
       "      <td>5.65</td>\n",
       "      <td>-0.18</td>\n",
       "      <td>249</td>\n",
       "      <td>445789</td>\n",
       "      <td>7.0</td>\n",
       "      <td>5.0</td>\n",
       "      <td>0</td>\n",
       "    </tr>\n",
       "    <tr>\n",
       "      <th>34966</th>\n",
       "      <td>1</td>\n",
       "      <td>1</td>\n",
       "      <td>5.64</td>\n",
       "      <td>-0.12</td>\n",
       "      <td>232</td>\n",
       "      <td>366550</td>\n",
       "      <td>4.0</td>\n",
       "      <td>5.0</td>\n",
       "      <td>0</td>\n",
       "    </tr>\n",
       "  </tbody>\n",
       "</table>\n",
       "</div>"
      ],
      "text/plain": [
       "       Status  Region   Lat   Lon  Elev     Pop  Bed  Bath  isFurnished\n",
       "22142       1       1  5.65 -0.18   249  445789  4.0   4.0            0\n",
       "1120        1       1  5.65 -0.18   249  445789  3.0   4.0            0\n",
       "13447       1       1  5.64 -0.10   219  306890  3.0   3.0            0\n",
       "25200       1       1  5.65 -0.18   249  445789  7.0   5.0            0\n",
       "34966       1       1  5.64 -0.12   232  366550  4.0   5.0            0"
      ]
     },
     "execution_count": 168,
     "metadata": {},
     "output_type": "execute_result"
    }
   ],
   "source": [
    "print(X_train.shape)\n",
    "X_train.head()"
   ]
  },
  {
   "cell_type": "code",
   "execution_count": 170,
   "metadata": {},
   "outputs": [
    {
     "name": "stderr",
     "output_type": "stream",
     "text": [
      "/home/pygod/.local/lib/python3.6/site-packages/ipykernel_launcher.py:8: SettingWithCopyWarning: \n",
      "A value is trying to be set on a copy of a slice from a DataFrame.\n",
      "Try using .loc[row_indexer,col_indexer] = value instead\n",
      "\n",
      "See the caveats in the documentation: https://pandas.pydata.org/pandas-docs/stable/user_guide/indexing.html#returning-a-view-versus-a-copy\n",
      "  \n",
      "/home/pygod/.local/lib/python3.6/site-packages/pandas/core/indexing.py:965: SettingWithCopyWarning: \n",
      "A value is trying to be set on a copy of a slice from a DataFrame.\n",
      "Try using .loc[row_indexer,col_indexer] = value instead\n",
      "\n",
      "See the caveats in the documentation: https://pandas.pydata.org/pandas-docs/stable/user_guide/indexing.html#returning-a-view-versus-a-copy\n",
      "  self.obj[item] = s\n",
      "/home/pygod/.local/lib/python3.6/site-packages/ipykernel_launcher.py:11: SettingWithCopyWarning: \n",
      "A value is trying to be set on a copy of a slice from a DataFrame.\n",
      "Try using .loc[row_indexer,col_indexer] = value instead\n",
      "\n",
      "See the caveats in the documentation: https://pandas.pydata.org/pandas-docs/stable/user_guide/indexing.html#returning-a-view-versus-a-copy\n",
      "  # This is added back by InteractiveShellApp.init_path()\n",
      "/home/pygod/.local/lib/python3.6/site-packages/pandas/core/indexing.py:965: SettingWithCopyWarning: \n",
      "A value is trying to be set on a copy of a slice from a DataFrame.\n",
      "Try using .loc[row_indexer,col_indexer] = value instead\n",
      "\n",
      "See the caveats in the documentation: https://pandas.pydata.org/pandas-docs/stable/user_guide/indexing.html#returning-a-view-versus-a-copy\n",
      "  self.obj[item] = s\n"
     ]
    }
   ],
   "source": [
    "# import MinMaxScaler from sklearn.preprocessing\n",
    "from sklearn.preprocessing import MinMaxScaler\n",
    "\n",
    "# define the scaler \n",
    "scaler = MinMaxScaler(feature_range=(0, 1))\n",
    "\n",
    "# fit and tranform the train set\n",
    "X_train[[\"Status\", \"Region\", \"Lat\", \"Lon\", \"Elev\", \"Pop\", \"Bed\", \"Bath\", \"isFurnished\"]] = scaler.fit_transform(X_train[[\"Status\", \"Region\", \"Lat\", \"Lon\", \"Elev\", \"Pop\", \"Bed\", \"Bath\", \"isFurnished\"]])\n",
    "\n",
    "# tranform the test set\n",
    "X_test[[\"Status\", \"Region\", \"Lat\", \"Lon\", \"Elev\", \"Pop\", \"Bed\", \"Bath\", \"isFurnished\"]] = scaler.transform(X_test[[\"Status\", \"Region\", \"Lat\", \"Lon\", \"Elev\", \"Pop\", \"Bed\", \"Bath\", \"isFurnished\"]])"
   ]
  },
  {
   "cell_type": "code",
   "execution_count": 171,
   "metadata": {},
   "outputs": [
    {
     "name": "stdout",
     "output_type": "stream",
     "text": [
      "(33829, 9)\n"
     ]
    },
    {
     "data": {
      "text/html": [
       "<div>\n",
       "<style scoped>\n",
       "    .dataframe tbody tr th:only-of-type {\n",
       "        vertical-align: middle;\n",
       "    }\n",
       "\n",
       "    .dataframe tbody tr th {\n",
       "        vertical-align: top;\n",
       "    }\n",
       "\n",
       "    .dataframe thead th {\n",
       "        text-align: right;\n",
       "    }\n",
       "</style>\n",
       "<table border=\"1\" class=\"dataframe\">\n",
       "  <thead>\n",
       "    <tr style=\"text-align: right;\">\n",
       "      <th></th>\n",
       "      <th>Status</th>\n",
       "      <th>Region</th>\n",
       "      <th>Lat</th>\n",
       "      <th>Lon</th>\n",
       "      <th>Elev</th>\n",
       "      <th>Pop</th>\n",
       "      <th>Bed</th>\n",
       "      <th>Bath</th>\n",
       "      <th>isFurnished</th>\n",
       "    </tr>\n",
       "  </thead>\n",
       "  <tbody>\n",
       "    <tr>\n",
       "      <th>22142</th>\n",
       "      <td>0.0</td>\n",
       "      <td>0.0</td>\n",
       "      <td>0.155867</td>\n",
       "      <td>0.638806</td>\n",
       "      <td>0.249</td>\n",
       "      <td>0.549385</td>\n",
       "      <td>0.230769</td>\n",
       "      <td>0.333333</td>\n",
       "      <td>0.0</td>\n",
       "    </tr>\n",
       "    <tr>\n",
       "      <th>1120</th>\n",
       "      <td>0.0</td>\n",
       "      <td>0.0</td>\n",
       "      <td>0.155867</td>\n",
       "      <td>0.638806</td>\n",
       "      <td>0.249</td>\n",
       "      <td>0.549385</td>\n",
       "      <td>0.153846</td>\n",
       "      <td>0.333333</td>\n",
       "      <td>0.0</td>\n",
       "    </tr>\n",
       "    <tr>\n",
       "      <th>13447</th>\n",
       "      <td>0.0</td>\n",
       "      <td>0.0</td>\n",
       "      <td>0.154116</td>\n",
       "      <td>0.660370</td>\n",
       "      <td>0.219</td>\n",
       "      <td>0.377675</td>\n",
       "      <td>0.153846</td>\n",
       "      <td>0.222222</td>\n",
       "      <td>0.0</td>\n",
       "    </tr>\n",
       "    <tr>\n",
       "      <th>25200</th>\n",
       "      <td>0.0</td>\n",
       "      <td>0.0</td>\n",
       "      <td>0.155867</td>\n",
       "      <td>0.638806</td>\n",
       "      <td>0.249</td>\n",
       "      <td>0.549385</td>\n",
       "      <td>0.461538</td>\n",
       "      <td>0.444444</td>\n",
       "      <td>0.0</td>\n",
       "    </tr>\n",
       "    <tr>\n",
       "      <th>34966</th>\n",
       "      <td>0.0</td>\n",
       "      <td>0.0</td>\n",
       "      <td>0.154116</td>\n",
       "      <td>0.654979</td>\n",
       "      <td>0.232</td>\n",
       "      <td>0.451428</td>\n",
       "      <td>0.230769</td>\n",
       "      <td>0.444444</td>\n",
       "      <td>0.0</td>\n",
       "    </tr>\n",
       "  </tbody>\n",
       "</table>\n",
       "</div>"
      ],
      "text/plain": [
       "       Status  Region       Lat       Lon   Elev       Pop       Bed  \\\n",
       "22142     0.0     0.0  0.155867  0.638806  0.249  0.549385  0.230769   \n",
       "1120      0.0     0.0  0.155867  0.638806  0.249  0.549385  0.153846   \n",
       "13447     0.0     0.0  0.154116  0.660370  0.219  0.377675  0.153846   \n",
       "25200     0.0     0.0  0.155867  0.638806  0.249  0.549385  0.461538   \n",
       "34966     0.0     0.0  0.154116  0.654979  0.232  0.451428  0.230769   \n",
       "\n",
       "           Bath  isFurnished  \n",
       "22142  0.333333          0.0  \n",
       "1120   0.333333          0.0  \n",
       "13447  0.222222          0.0  \n",
       "25200  0.444444          0.0  \n",
       "34966  0.444444          0.0  "
      ]
     },
     "execution_count": 171,
     "metadata": {},
     "output_type": "execute_result"
    }
   ],
   "source": [
    "print(X_train.shape)\n",
    "X_train.head()"
   ]
  },
  {
   "cell_type": "code",
   "execution_count": 172,
   "metadata": {},
   "outputs": [
    {
     "name": "stdout",
     "output_type": "stream",
     "text": [
      "(11277, 9)\n"
     ]
    },
    {
     "data": {
      "text/html": [
       "<div>\n",
       "<style scoped>\n",
       "    .dataframe tbody tr th:only-of-type {\n",
       "        vertical-align: middle;\n",
       "    }\n",
       "\n",
       "    .dataframe tbody tr th {\n",
       "        vertical-align: top;\n",
       "    }\n",
       "\n",
       "    .dataframe thead th {\n",
       "        text-align: right;\n",
       "    }\n",
       "</style>\n",
       "<table border=\"1\" class=\"dataframe\">\n",
       "  <thead>\n",
       "    <tr style=\"text-align: right;\">\n",
       "      <th></th>\n",
       "      <th>Status</th>\n",
       "      <th>Region</th>\n",
       "      <th>Lat</th>\n",
       "      <th>Lon</th>\n",
       "      <th>Elev</th>\n",
       "      <th>Pop</th>\n",
       "      <th>Bed</th>\n",
       "      <th>Bath</th>\n",
       "      <th>isFurnished</th>\n",
       "    </tr>\n",
       "  </thead>\n",
       "  <tbody>\n",
       "    <tr>\n",
       "      <th>1218</th>\n",
       "      <td>0.0</td>\n",
       "      <td>0.000000</td>\n",
       "      <td>0.155867</td>\n",
       "      <td>0.638806</td>\n",
       "      <td>0.249</td>\n",
       "      <td>0.549385</td>\n",
       "      <td>0.230769</td>\n",
       "      <td>0.444444</td>\n",
       "      <td>0.0</td>\n",
       "    </tr>\n",
       "    <tr>\n",
       "      <th>17930</th>\n",
       "      <td>0.0</td>\n",
       "      <td>0.000000</td>\n",
       "      <td>0.150613</td>\n",
       "      <td>0.649588</td>\n",
       "      <td>0.232</td>\n",
       "      <td>0.632135</td>\n",
       "      <td>0.230769</td>\n",
       "      <td>0.444444</td>\n",
       "      <td>0.0</td>\n",
       "    </tr>\n",
       "    <tr>\n",
       "      <th>44785</th>\n",
       "      <td>1.0</td>\n",
       "      <td>0.555556</td>\n",
       "      <td>0.945709</td>\n",
       "      <td>0.665761</td>\n",
       "      <td>0.830</td>\n",
       "      <td>0.001053</td>\n",
       "      <td>0.153846</td>\n",
       "      <td>0.333333</td>\n",
       "      <td>0.0</td>\n",
       "    </tr>\n",
       "    <tr>\n",
       "      <th>13542</th>\n",
       "      <td>0.0</td>\n",
       "      <td>0.000000</td>\n",
       "      <td>0.150613</td>\n",
       "      <td>0.649588</td>\n",
       "      <td>0.232</td>\n",
       "      <td>0.632135</td>\n",
       "      <td>0.230769</td>\n",
       "      <td>0.333333</td>\n",
       "      <td>0.0</td>\n",
       "    </tr>\n",
       "    <tr>\n",
       "      <th>13878</th>\n",
       "      <td>0.0</td>\n",
       "      <td>0.000000</td>\n",
       "      <td>0.150613</td>\n",
       "      <td>0.649588</td>\n",
       "      <td>0.232</td>\n",
       "      <td>0.632135</td>\n",
       "      <td>0.230769</td>\n",
       "      <td>0.444444</td>\n",
       "      <td>0.0</td>\n",
       "    </tr>\n",
       "  </tbody>\n",
       "</table>\n",
       "</div>"
      ],
      "text/plain": [
       "       Status    Region       Lat       Lon   Elev       Pop       Bed  \\\n",
       "1218      0.0  0.000000  0.155867  0.638806  0.249  0.549385  0.230769   \n",
       "17930     0.0  0.000000  0.150613  0.649588  0.232  0.632135  0.230769   \n",
       "44785     1.0  0.555556  0.945709  0.665761  0.830  0.001053  0.153846   \n",
       "13542     0.0  0.000000  0.150613  0.649588  0.232  0.632135  0.230769   \n",
       "13878     0.0  0.000000  0.150613  0.649588  0.232  0.632135  0.230769   \n",
       "\n",
       "           Bath  isFurnished  \n",
       "1218   0.444444          0.0  \n",
       "17930  0.444444          0.0  \n",
       "44785  0.333333          0.0  \n",
       "13542  0.333333          0.0  \n",
       "13878  0.444444          0.0  "
      ]
     },
     "execution_count": 172,
     "metadata": {},
     "output_type": "execute_result"
    }
   ],
   "source": [
    "print(X_test.shape)\n",
    "X_test.head()"
   ]
  },
  {
   "cell_type": "code",
   "execution_count": 173,
   "metadata": {},
   "outputs": [
    {
     "name": "stderr",
     "output_type": "stream",
     "text": [
      "Using TensorFlow backend.\n"
     ]
    }
   ],
   "source": [
    "# import Sequential from keras.models\n",
    "from keras.models import Sequential\n",
    "\n",
    "# import Dense from keras.layers\n",
    "from keras.layers import Dense\n",
    "\n",
    "# initialize the constructor\n",
    "model = Sequential()\n",
    "\n",
    "# add a densely-connected layer with 64 units to the model\n",
    "model.add(Dense(64, activation=\"relu\", input_shape=(X_train.shape[1],)))\n",
    "\n",
    "# add another layer with 64 units\n",
    "model.add(Dense(64, activation=\"relu\"))\n",
    "\n",
    "# add an output layer with 1 output unit\n",
    "model.add(Dense(1))"
   ]
  },
  {
   "cell_type": "code",
   "execution_count": 174,
   "metadata": {},
   "outputs": [
    {
     "name": "stdout",
     "output_type": "stream",
     "text": [
      "(None, 1)\n",
      "_________________________________________________________________\n",
      "Layer (type)                 Output Shape              Param #   \n",
      "=================================================================\n",
      "dense_1 (Dense)              (None, 64)                640       \n",
      "_________________________________________________________________\n",
      "dense_2 (Dense)              (None, 64)                4160      \n",
      "_________________________________________________________________\n",
      "dense_3 (Dense)              (None, 1)                 65        \n",
      "=================================================================\n",
      "Total params: 4,865\n",
      "Trainable params: 4,865\n",
      "Non-trainable params: 0\n",
      "_________________________________________________________________\n",
      "None\n"
     ]
    }
   ],
   "source": [
    "# model output shape\n",
    "print(model.output_shape)\n",
    "\n",
    "# model summary\n",
    "print(model.summary())"
   ]
  },
  {
   "cell_type": "code",
   "execution_count": 175,
   "metadata": {},
   "outputs": [],
   "source": [
    "optimizer = tf.train.RMSPropOptimizer(0.001)\n",
    "\n",
    "model.compile(loss=\"mse\",\n",
    "              optimizer=optimizer,\n",
    "              metrics=[\"mae\"])"
   ]
  },
  {
   "cell_type": "code",
   "execution_count": 176,
   "metadata": {},
   "outputs": [
    {
     "name": "stdout",
     "output_type": "stream",
     "text": [
      "Train on 27063 samples, validate on 6766 samples\n",
      "Epoch 1/50\n",
      "27063/27063 [==============================] - 5s 184us/step - loss: 29839109.7663 - mean_absolute_error: 2650.9191 - val_loss: 26022672.8577 - val_mean_absolute_error: 2319.1493\n",
      "Epoch 2/50\n",
      "27063/27063 [==============================] - 3s 128us/step - loss: 20793202.0783 - mean_absolute_error: 2611.9012 - val_loss: 20722988.9163 - val_mean_absolute_error: 2720.0541\n",
      "Epoch 3/50\n",
      "27063/27063 [==============================] - 3s 129us/step - loss: 16325924.9418 - mean_absolute_error: 2484.9358 - val_loss: 14488719.1235 - val_mean_absolute_error: 2253.2506\n",
      "Epoch 4/50\n",
      "27063/27063 [==============================] - 3s 127us/step - loss: 9223152.1090 - mean_absolute_error: 1785.5066 - val_loss: 6839716.4116 - val_mean_absolute_error: 1424.3770\n",
      "Epoch 5/50\n",
      "27063/27063 [==============================] - 3s 126us/step - loss: 5153777.6883 - mean_absolute_error: 1227.5420 - val_loss: 5492651.9793 - val_mean_absolute_error: 1222.5934\n",
      "Epoch 6/50\n",
      "27063/27063 [==============================] - 3s 125us/step - loss: 4745851.1602 - mean_absolute_error: 1135.2748 - val_loss: 5309318.7751 - val_mean_absolute_error: 1181.3529\n",
      "Epoch 7/50\n",
      "27063/27063 [==============================] - 3s 128us/step - loss: 4632403.5604 - mean_absolute_error: 1110.5311 - val_loss: 5204831.1171 - val_mean_absolute_error: 1164.3818\n",
      "Epoch 8/50\n",
      "27063/27063 [==============================] - 3s 128us/step - loss: 4551499.7873 - mean_absolute_error: 1101.4795 - val_loss: 5135143.6553 - val_mean_absolute_error: 1153.1175\n",
      "Epoch 9/50\n",
      "27063/27063 [==============================] - 4s 133us/step - loss: 4485726.7788 - mean_absolute_error: 1095.8564 - val_loss: 5071523.0131 - val_mean_absolute_error: 1148.0357\n",
      "Epoch 10/50\n",
      "27063/27063 [==============================] - 4s 135us/step - loss: 4432729.9197 - mean_absolute_error: 1092.1250 - val_loss: 4993081.9099 - val_mean_absolute_error: 1146.0652\n",
      "Epoch 11/50\n",
      "27063/27063 [==============================] - 4s 143us/step - loss: 4378013.4961 - mean_absolute_error: 1086.8536 - val_loss: 4925509.5526 - val_mean_absolute_error: 1141.3937\n",
      "Epoch 12/50\n",
      "27063/27063 [==============================] - 4s 142us/step - loss: 4324555.1361 - mean_absolute_error: 1082.9162 - val_loss: 4873420.9491 - val_mean_absolute_error: 1133.9515\n",
      "Epoch 13/50\n",
      "27063/27063 [==============================] - 4s 146us/step - loss: 4276107.8333 - mean_absolute_error: 1077.2006 - val_loss: 4816021.4083 - val_mean_absolute_error: 1130.7944\n",
      "Epoch 14/50\n",
      "27063/27063 [==============================] - 4s 146us/step - loss: 4228652.5859 - mean_absolute_error: 1073.8588 - val_loss: 4769653.9330 - val_mean_absolute_error: 1123.3771\n",
      "Epoch 15/50\n",
      "27063/27063 [==============================] - 4s 166us/step - loss: 4180129.2100 - mean_absolute_error: 1069.0600 - val_loss: 4701740.5733 - val_mean_absolute_error: 1126.6849\n",
      "Epoch 16/50\n",
      "27063/27063 [==============================] - 4s 155us/step - loss: 4138885.2499 - mean_absolute_error: 1066.1905 - val_loss: 4671578.8598 - val_mean_absolute_error: 1114.6013\n",
      "Epoch 17/50\n",
      "27063/27063 [==============================] - 4s 152us/step - loss: 4091999.2370 - mean_absolute_error: 1062.0844 - val_loss: 4600713.5233 - val_mean_absolute_error: 1112.8576\n",
      "Epoch 18/50\n",
      "27063/27063 [==============================] - 4s 158us/step - loss: 4049940.6068 - mean_absolute_error: 1058.3495 - val_loss: 4545530.3717 - val_mean_absolute_error: 1109.0000\n",
      "Epoch 19/50\n",
      "27063/27063 [==============================] - 4s 157us/step - loss: 4002593.5544 - mean_absolute_error: 1055.0083 - val_loss: 4501087.5761 - val_mean_absolute_error: 1111.9646\n",
      "Epoch 20/50\n",
      "27063/27063 [==============================] - 4s 164us/step - loss: 3966057.0028 - mean_absolute_error: 1051.4060 - val_loss: 4449914.1290 - val_mean_absolute_error: 1101.2091\n",
      "Epoch 21/50\n",
      "27063/27063 [==============================] - 4s 148us/step - loss: 3920599.3016 - mean_absolute_error: 1048.1447 - val_loss: 4400710.9668 - val_mean_absolute_error: 1107.1952\n",
      "Epoch 22/50\n",
      "27063/27063 [==============================] - 4s 143us/step - loss: 3883229.5508 - mean_absolute_error: 1044.1163 - val_loss: 4380527.9504 - val_mean_absolute_error: 1090.4239\n",
      "Epoch 23/50\n",
      "27063/27063 [==============================] - 4s 146us/step - loss: 3841034.9605 - mean_absolute_error: 1039.8025 - val_loss: 4302525.7539 - val_mean_absolute_error: 1088.1764\n",
      "Epoch 24/50\n",
      "27063/27063 [==============================] - 4s 144us/step - loss: 3805843.5490 - mean_absolute_error: 1035.4892 - val_loss: 4274465.2279 - val_mean_absolute_error: 1082.2694\n",
      "Epoch 25/50\n",
      "27063/27063 [==============================] - 4s 151us/step - loss: 3771494.4041 - mean_absolute_error: 1032.5441 - val_loss: 4216308.5914 - val_mean_absolute_error: 1080.9933\n",
      "Epoch 26/50\n",
      "27063/27063 [==============================] - 4s 141us/step - loss: 3738413.9362 - mean_absolute_error: 1027.6545 - val_loss: 4183164.1655 - val_mean_absolute_error: 1074.8467\n",
      "Epoch 27/50\n",
      "27063/27063 [==============================] - 4s 147us/step - loss: 3707938.6532 - mean_absolute_error: 1023.4512 - val_loss: 4145862.4969 - val_mean_absolute_error: 1076.2441\n",
      "Epoch 28/50\n",
      "27063/27063 [==============================] - 4s 146us/step - loss: 3682236.3082 - mean_absolute_error: 1019.8187 - val_loss: 4110290.6334 - val_mean_absolute_error: 1068.9771\n",
      "Epoch 29/50\n",
      "27063/27063 [==============================] - 4s 142us/step - loss: 3655238.7583 - mean_absolute_error: 1016.1759 - val_loss: 4103322.8956 - val_mean_absolute_error: 1060.8866\n",
      "Epoch 30/50\n",
      "27063/27063 [==============================] - 4s 143us/step - loss: 3629729.2860 - mean_absolute_error: 1012.2915 - val_loss: 4060588.4169 - val_mean_absolute_error: 1055.5047\n",
      "Epoch 31/50\n",
      "27063/27063 [==============================] - 4s 146us/step - loss: 3609790.8445 - mean_absolute_error: 1007.7279 - val_loss: 4070323.7269 - val_mean_absolute_error: 1054.5526\n",
      "Epoch 32/50\n",
      "27063/27063 [==============================] - 4s 140us/step - loss: 3593026.6536 - mean_absolute_error: 1005.4412 - val_loss: 4010898.7030 - val_mean_absolute_error: 1048.9009\n",
      "Epoch 33/50\n",
      "27063/27063 [==============================] - 4s 142us/step - loss: 3578227.2463 - mean_absolute_error: 1001.7533 - val_loss: 4045287.8834 - val_mean_absolute_error: 1050.0447\n",
      "Epoch 34/50\n",
      "27063/27063 [==============================] - 4s 132us/step - loss: 3566391.7239 - mean_absolute_error: 1000.2006 - val_loss: 3981466.7846 - val_mean_absolute_error: 1046.0200\n",
      "Epoch 35/50\n",
      "27063/27063 [==============================] - 4s 141us/step - loss: 3547230.1649 - mean_absolute_error: 996.8251 - val_loss: 3974687.3466 - val_mean_absolute_error: 1044.4298\n",
      "Epoch 36/50\n",
      "27063/27063 [==============================] - 4s 146us/step - loss: 3540544.0392 - mean_absolute_error: 996.1781 - val_loss: 3946867.8294 - val_mean_absolute_error: 1040.8843\n",
      "Epoch 37/50\n",
      "27063/27063 [==============================] - 4s 143us/step - loss: 3534149.2091 - mean_absolute_error: 994.2280 - val_loss: 3933074.9629 - val_mean_absolute_error: 1038.8399\n",
      "Epoch 38/50\n",
      "27063/27063 [==============================] - 4s 139us/step - loss: 3527555.7136 - mean_absolute_error: 993.5777 - val_loss: 3921699.9296 - val_mean_absolute_error: 1038.9676\n",
      "Epoch 39/50\n",
      "27063/27063 [==============================] - 4s 141us/step - loss: 3519094.8139 - mean_absolute_error: 991.4871 - val_loss: 3930159.1171 - val_mean_absolute_error: 1039.4016\n",
      "Epoch 40/50\n",
      "27063/27063 [==============================] - 4s 139us/step - loss: 3509511.1248 - mean_absolute_error: 992.2049 - val_loss: 3902861.1928 - val_mean_absolute_error: 1036.6813\n",
      "Epoch 41/50\n",
      "27063/27063 [==============================] - 4s 133us/step - loss: 3502184.0908 - mean_absolute_error: 989.3368 - val_loss: 3895959.8360 - val_mean_absolute_error: 1040.5407\n",
      "Epoch 42/50\n",
      "27063/27063 [==============================] - 4s 140us/step - loss: 3501775.3871 - mean_absolute_error: 989.6129 - val_loss: 3898908.0783 - val_mean_absolute_error: 1034.8130\n",
      "Epoch 43/50\n",
      "27063/27063 [==============================] - 4s 138us/step - loss: 3495516.4469 - mean_absolute_error: 988.6749 - val_loss: 3907596.4538 - val_mean_absolute_error: 1037.2842\n",
      "Epoch 44/50\n"
     ]
    },
    {
     "name": "stdout",
     "output_type": "stream",
     "text": [
      "27063/27063 [==============================] - 4s 140us/step - loss: 3488007.2718 - mean_absolute_error: 988.1770 - val_loss: 3899759.9566 - val_mean_absolute_error: 1040.7572\n",
      "Epoch 45/50\n",
      "27063/27063 [==============================] - 4s 134us/step - loss: 3489819.9905 - mean_absolute_error: 986.9799 - val_loss: 3875407.9258 - val_mean_absolute_error: 1034.4452\n",
      "Epoch 46/50\n",
      "27063/27063 [==============================] - 4s 136us/step - loss: 3480426.7886 - mean_absolute_error: 987.1511 - val_loss: 3876312.2092 - val_mean_absolute_error: 1027.8616\n",
      "Epoch 47/50\n",
      "27063/27063 [==============================] - 4s 142us/step - loss: 3485492.9164 - mean_absolute_error: 985.3879 - val_loss: 3871405.9153 - val_mean_absolute_error: 1032.6864\n",
      "Epoch 48/50\n",
      "27063/27063 [==============================] - 4s 143us/step - loss: 3479191.0991 - mean_absolute_error: 985.4659 - val_loss: 3864866.6762 - val_mean_absolute_error: 1033.0184\n",
      "Epoch 49/50\n",
      "27063/27063 [==============================] - 4s 147us/step - loss: 3478851.8702 - mean_absolute_error: 984.4191 - val_loss: 3892228.8392 - val_mean_absolute_error: 1032.4564\n",
      "Epoch 50/50\n",
      "27063/27063 [==============================] - 4s 132us/step - loss: 3475865.9294 - mean_absolute_error: 985.0111 - val_loss: 3895861.7127 - val_mean_absolute_error: 1031.8989\n",
      "CPU times: user 2min 44s, sys: 6.86 s, total: 2min 51s\n",
      "Wall time: 3min 13s\n"
     ]
    }
   ],
   "source": [
    "%%time\n",
    "history = model.fit(X_train, y_train, epochs=50, validation_split=0.2, verbose=1)"
   ]
  },
  {
   "cell_type": "code",
   "execution_count": 178,
   "metadata": {},
   "outputs": [
    {
     "data": {
      "image/png": "[encoded data removed]",
      "text/plain": [
       "<Figure size 720x432 with 1 Axes>"
      ]
     },
     "metadata": {
      "needs_background": "light"
     },
     "output_type": "display_data"
    }
   ],
   "source": [
    "# summarize history for mean_absolute_error\n",
    "plt.figure(figsize=(10,6))\n",
    "plt.plot(history.history[\"mean_absolute_error\"])\n",
    "plt.plot(history.history[\"val_mean_absolute_error\"])\n",
    "plt.title(\"Mean Absolute Error\")\n",
    "plt.ylabel(\"MAE\")\n",
    "plt.xlabel(\"Epoch\")\n",
    "plt.legend([\"Train\", \"Test\"], loc=\"upper left\")\n",
    "\n",
    "plt.savefig(\"mae.png\", bbox_inches=\"tight\")\n",
    "plt.show()"
   ]
  },
  {
   "cell_type": "code",
   "execution_count": 179,
   "metadata": {},
   "outputs": [
    {
     "data": {
      "image/png": "[encoded data removed]",
      "text/plain": [
       "<Figure size 720x432 with 1 Axes>"
      ]
     },
     "metadata": {
      "needs_background": "light"
     },
     "output_type": "display_data"
    }
   ],
   "source": [
    "\n",
    "# summarize history for loss\n",
    "plt.figure(figsize=(10,6))\n",
    "plt.plot(history.history[\"loss\"])\n",
    "plt.plot(history.history[\"val_loss\"])\n",
    "plt.title(\"Model Loss\")\n",
    "plt.ylabel(\"Loss\")\n",
    "plt.xlabel(\"Epoch\")\n",
    "plt.legend([\"Train\", \"Test\"], loc=\"upper left\")\n",
    "plt.savefig(\"loss.png\", bbox_inches=\"tight\")\n",
    "plt.show()"
   ]
  },
  {
   "cell_type": "code",
   "execution_count": 183,
   "metadata": {},
   "outputs": [],
   "source": [
    "y_pred = model.predict(X_test)"
   ]
  },
  {
   "cell_type": "code",
   "execution_count": 184,
   "metadata": {},
   "outputs": [
    {
     "name": "stdout",
     "output_type": "stream",
     "text": [
      "11277/11277 [==============================] - 1s 65us/step\n"
     ]
    }
   ],
   "source": [
    "[mse, mae] = model.evaluate(X_test, y_test, verbose=1)"
   ]
  },
  {
   "cell_type": "code",
   "execution_count": 185,
   "metadata": {},
   "outputs": [
    {
     "name": "stdout",
     "output_type": "stream",
     "text": [
      "Testing set Root Mean Squared Error: RM1935.2886089676651\n",
      "Testing set Mean Absolute Error: RM1012.1656336857515\n"
     ]
    }
   ],
   "source": [
    "keras_rmse = np.sqrt(int(mse))\n",
    "keras_mae = mae\n",
    "\n",
    "print(\"Testing set Root Mean Squared Error: RM{}\".format(keras_rmse))\n",
    "print(\"Testing set Mean Absolute Error: RM{}\".format(keras_mae))"
   ]
  },
  {
   "cell_type": "code",
   "execution_count": 186,
   "metadata": {},
   "outputs": [
    {
     "name": "stdout",
     "output_type": "stream",
     "text": [
      "Tensorflow with Keras Sequential model R-squared: 0.8456998341977027\n"
     ]
    }
   ],
   "source": [
    "# calculate R-squared\n",
    "from sklearn.metrics import r2_score\n",
    "keras_r2 = r2_score(y_test, y_pred)\n",
    "\n",
    "print(\"Tensorflow with Keras Sequential model R-squared: {}\".format(keras_r2))"
   ]
  },
  {
   "cell_type": "code",
   "execution_count": 187,
   "metadata": {},
   "outputs": [
    {
     "name": "stdout",
     "output_type": "stream",
     "text": [
      "WARNING:tensorflow:From /home/pygod/.local/lib/python3.6/site-packages/tensorflow/python/keras/_impl/keras/backend.py:1456: calling reduce_sum (from tensorflow.python.ops.math_ops) with keep_dims is deprecated and will be removed in a future version.\n",
      "Instructions for updating:\n",
      "keep_dims is deprecated, use keepdims instead\n"
     ]
    }
   ],
   "source": [
    "# using weight rgularization\n",
    "# initialize the constructor\n",
    "model_reg = Sequential()\n",
    "\n",
    "# add a densely-connected layer with 64 units to the model:\n",
    "model_reg.add(Dense(64, kernel_regularizer=keras.regularizers.l2(0.001), activation=\"relu\", input_shape=(X_train.shape[1],)))\n",
    "\n",
    "# add another layer with 64 units\n",
    "model_reg.add(Dense(64, kernel_regularizer=keras.regularizers.l2(0.001), activation=\"relu\"))\n",
    "\n",
    "# add an output layer with 1 output unit\n",
    "model_reg.add(Dense(1))"
   ]
  },
  {
   "cell_type": "code",
   "execution_count": 188,
   "metadata": {},
   "outputs": [],
   "source": [
    "optimizer = tf.train.RMSPropOptimizer(0.001)\n",
    "\n",
    "model_reg.compile(loss=\"mse\",\n",
    "              optimizer=optimizer,\n",
    "              metrics=[\"mae\"])"
   ]
  },
  {
   "cell_type": "code",
   "execution_count": 189,
   "metadata": {},
   "outputs": [
    {
     "name": "stdout",
     "output_type": "stream",
     "text": [
      "Train on 27063 samples, validate on 6766 samples\n",
      "Epoch 1/50\n",
      "27063/27063 [==============================] - 4s 152us/step - loss: 27853176.1621 - mean_absolute_error: 2580.9149 - val_loss: 23161299.2647 - val_mean_absolute_error: 2724.8711\n",
      "Epoch 2/50\n",
      "27063/27063 [==============================] - 4s 130us/step - loss: 18837817.3696 - mean_absolute_error: 2636.2648 - val_loss: 17308463.0323 - val_mean_absolute_error: 2528.1610\n",
      "Epoch 3/50\n",
      "27063/27063 [==============================] - 4s 131us/step - loss: 10926114.7068 - mean_absolute_error: 1970.7214 - val_loss: 7182855.5474 - val_mean_absolute_error: 1496.0051\n",
      "Epoch 4/50\n",
      "27063/27063 [==============================] - 4s 134us/step - loss: 5147950.5697 - mean_absolute_error: 1229.0471 - val_loss: 5455621.4030 - val_mean_absolute_error: 1198.4491\n",
      "Epoch 5/50\n",
      "27063/27063 [==============================] - 4s 136us/step - loss: 4711048.3798 - mean_absolute_error: 1126.5202 - val_loss: 5275145.6083 - val_mean_absolute_error: 1165.3456\n",
      "Epoch 6/50\n",
      "27063/27063 [==============================] - 4s 134us/step - loss: 4590654.1283 - mean_absolute_error: 1107.8185 - val_loss: 5172497.4668 - val_mean_absolute_error: 1155.2106\n",
      "Epoch 7/50\n",
      "27063/27063 [==============================] - 4s 135us/step - loss: 4504736.5413 - mean_absolute_error: 1100.4700 - val_loss: 5059521.3505 - val_mean_absolute_error: 1155.4317\n",
      "Epoch 8/50\n",
      "27063/27063 [==============================] - 4s 134us/step - loss: 4438054.5722 - mean_absolute_error: 1096.0154 - val_loss: 4990467.8421 - val_mean_absolute_error: 1147.1705\n",
      "Epoch 9/50\n",
      "27063/27063 [==============================] - 4s 135us/step - loss: 4377745.9814 - mean_absolute_error: 1090.7951 - val_loss: 4915893.3702 - val_mean_absolute_error: 1148.2446\n",
      "Epoch 10/50\n",
      "27063/27063 [==============================] - 4s 155us/step - loss: 4317692.0326 - mean_absolute_error: 1086.6397 - val_loss: 4847755.1583 - val_mean_absolute_error: 1137.3499\n",
      "Epoch 11/50\n",
      "27063/27063 [==============================] - 4s 156us/step - loss: 4257747.9478 - mean_absolute_error: 1081.8830 - val_loss: 4780029.6172 - val_mean_absolute_error: 1131.5282\n",
      "Epoch 12/50\n",
      "27063/27063 [==============================] - 4s 147us/step - loss: 4202246.5288 - mean_absolute_error: 1076.2184 - val_loss: 4712807.5030 - val_mean_absolute_error: 1135.1951\n",
      "Epoch 13/50\n",
      "27063/27063 [==============================] - 4s 160us/step - loss: 4148444.2948 - mean_absolute_error: 1071.3490 - val_loss: 4653904.6683 - val_mean_absolute_error: 1121.8708\n",
      "Epoch 14/50\n",
      "27063/27063 [==============================] - 4s 152us/step - loss: 4094050.6457 - mean_absolute_error: 1067.1348 - val_loss: 4583988.1080 - val_mean_absolute_error: 1116.3981\n",
      "Epoch 15/50\n",
      "27063/27063 [==============================] - 4s 152us/step - loss: 4037531.2281 - mean_absolute_error: 1062.1070 - val_loss: 4521170.2525 - val_mean_absolute_error: 1112.7783\n",
      "Epoch 16/50\n",
      "27063/27063 [==============================] - 4s 146us/step - loss: 3985275.1586 - mean_absolute_error: 1057.8280 - val_loss: 4460462.0980 - val_mean_absolute_error: 1107.7274\n",
      "Epoch 17/50\n",
      "27063/27063 [==============================] - 4s 149us/step - loss: 3938832.1506 - mean_absolute_error: 1053.3390 - val_loss: 4398239.9743 - val_mean_absolute_error: 1101.5886\n",
      "Epoch 18/50\n",
      "27063/27063 [==============================] - 4s 148us/step - loss: 3882407.3979 - mean_absolute_error: 1047.9141 - val_loss: 4343363.1127 - val_mean_absolute_error: 1095.6397\n",
      "Epoch 19/50\n",
      "27063/27063 [==============================] - 4s 148us/step - loss: 3839785.0930 - mean_absolute_error: 1044.3615 - val_loss: 4307983.1745 - val_mean_absolute_error: 1090.0941\n",
      "Epoch 20/50\n",
      "27063/27063 [==============================] - 4s 148us/step - loss: 3802926.2195 - mean_absolute_error: 1040.2467 - val_loss: 4246950.6464 - val_mean_absolute_error: 1086.1037\n",
      "Epoch 21/50\n",
      "27063/27063 [==============================] - 4s 149us/step - loss: 3757891.8208 - mean_absolute_error: 1035.5980 - val_loss: 4202355.2144 - val_mean_absolute_error: 1080.7199\n",
      "Epoch 22/50\n",
      "27063/27063 [==============================] - 4s 143us/step - loss: 3732506.2567 - mean_absolute_error: 1031.4047 - val_loss: 4162667.1884 - val_mean_absolute_error: 1078.9192\n",
      "Epoch 23/50\n",
      "27063/27063 [==============================] - 4s 149us/step - loss: 3700238.0866 - mean_absolute_error: 1027.9467 - val_loss: 4127280.1731 - val_mean_absolute_error: 1079.7615\n",
      "Epoch 24/50\n",
      "27063/27063 [==============================] - 4s 152us/step - loss: 3673114.9818 - mean_absolute_error: 1024.5835 - val_loss: 4096726.0742 - val_mean_absolute_error: 1071.6459\n",
      "Epoch 25/50\n",
      "27063/27063 [==============================] - 4s 150us/step - loss: 3648919.0878 - mean_absolute_error: 1020.5570 - val_loss: 4136110.5194 - val_mean_absolute_error: 1064.5605\n",
      "Epoch 26/50\n",
      "27063/27063 [==============================] - 4s 150us/step - loss: 3626545.1670 - mean_absolute_error: 1017.7990 - val_loss: 4052476.8391 - val_mean_absolute_error: 1060.6196\n",
      "Epoch 27/50\n",
      "27063/27063 [==============================] - 4s 148us/step - loss: 3605333.9420 - mean_absolute_error: 1013.7703 - val_loss: 4026734.8847 - val_mean_absolute_error: 1055.9798\n",
      "Epoch 28/50\n",
      "27063/27063 [==============================] - 4s 140us/step - loss: 3585163.8121 - mean_absolute_error: 1010.1007 - val_loss: 4014339.1396 - val_mean_absolute_error: 1056.5757\n",
      "Epoch 29/50\n",
      "27063/27063 [==============================] - 4s 153us/step - loss: 3563922.6887 - mean_absolute_error: 1007.5854 - val_loss: 4023088.4242 - val_mean_absolute_error: 1054.6253\n",
      "Epoch 30/50\n",
      "27063/27063 [==============================] - 4s 149us/step - loss: 3553633.6842 - mean_absolute_error: 1004.6338 - val_loss: 3963845.0308 - val_mean_absolute_error: 1048.1761\n",
      "Epoch 31/50\n",
      "27063/27063 [==============================] - 4s 151us/step - loss: 3548826.0500 - mean_absolute_error: 1002.0295 - val_loss: 3966070.3042 - val_mean_absolute_error: 1053.4458\n",
      "Epoch 32/50\n",
      "27063/27063 [==============================] - 4s 160us/step - loss: 3539808.2379 - mean_absolute_error: 1002.3830 - val_loss: 3949341.5243 - val_mean_absolute_error: 1049.2910\n",
      "Epoch 33/50\n",
      "27063/27063 [==============================] - 4s 149us/step - loss: 3524405.5794 - mean_absolute_error: 1000.2976 - val_loss: 3941425.6602 - val_mean_absolute_error: 1051.0151\n",
      "Epoch 34/50\n",
      "27063/27063 [==============================] - 4s 152us/step - loss: 3522931.3710 - mean_absolute_error: 998.9904 - val_loss: 3938571.4906 - val_mean_absolute_error: 1045.0121\n",
      "Epoch 35/50\n",
      "27063/27063 [==============================] - 4s 154us/step - loss: 3512815.6257 - mean_absolute_error: 997.2005 - val_loss: 3991921.0969 - val_mean_absolute_error: 1050.0126\n",
      "Epoch 36/50\n",
      "27063/27063 [==============================] - 4s 138us/step - loss: 3509576.0400 - mean_absolute_error: 996.6002 - val_loss: 3900540.4264 - val_mean_absolute_error: 1038.5369\n",
      "Epoch 37/50\n",
      "27063/27063 [==============================] - 4s 141us/step - loss: 3507805.4069 - mean_absolute_error: 994.7286 - val_loss: 3895434.9407 - val_mean_absolute_error: 1042.2166\n",
      "Epoch 38/50\n",
      "27063/27063 [==============================] - 4s 145us/step - loss: 3502547.7011 - mean_absolute_error: 994.2086 - val_loss: 3910141.6936 - val_mean_absolute_error: 1039.4402\n",
      "Epoch 39/50\n",
      "27063/27063 [==============================] - 4s 146us/step - loss: 3497915.8995 - mean_absolute_error: 992.7701 - val_loss: 3896605.5972 - val_mean_absolute_error: 1040.4120\n",
      "Epoch 40/50\n",
      "27063/27063 [==============================] - 4s 150us/step - loss: 3496044.1690 - mean_absolute_error: 992.1038 - val_loss: 3890134.8685 - val_mean_absolute_error: 1039.6868\n",
      "Epoch 41/50\n",
      "27063/27063 [==============================] - 4s 141us/step - loss: 3482800.0207 - mean_absolute_error: 990.7936 - val_loss: 3877975.1924 - val_mean_absolute_error: 1040.6026\n",
      "Epoch 42/50\n",
      "27063/27063 [==============================] - 4s 138us/step - loss: 3483712.6785 - mean_absolute_error: 990.5305 - val_loss: 3874679.9671 - val_mean_absolute_error: 1046.4907\n",
      "Epoch 43/50\n",
      "27063/27063 [==============================] - 4s 140us/step - loss: 3486644.5326 - mean_absolute_error: 989.4537 - val_loss: 3867988.8886 - val_mean_absolute_error: 1042.6921\n",
      "Epoch 44/50\n"
     ]
    },
    {
     "name": "stdout",
     "output_type": "stream",
     "text": [
      "27063/27063 [==============================] - 4s 142us/step - loss: 3482927.2708 - mean_absolute_error: 988.1733 - val_loss: 3869142.5491 - val_mean_absolute_error: 1042.9049\n",
      "Epoch 45/50\n",
      "27063/27063 [==============================] - 4s 145us/step - loss: 3478795.4301 - mean_absolute_error: 988.9030 - val_loss: 3860479.8373 - val_mean_absolute_error: 1035.0349\n",
      "Epoch 46/50\n",
      "27063/27063 [==============================] - 4s 142us/step - loss: 3475329.8052 - mean_absolute_error: 986.9280 - val_loss: 3862955.2453 - val_mean_absolute_error: 1037.1699\n",
      "Epoch 47/50\n",
      "27063/27063 [==============================] - 4s 138us/step - loss: 3476344.5148 - mean_absolute_error: 986.9637 - val_loss: 3891361.7678 - val_mean_absolute_error: 1034.7439\n",
      "Epoch 48/50\n",
      "27063/27063 [==============================] - 4s 146us/step - loss: 3474597.4025 - mean_absolute_error: 985.9901 - val_loss: 3942789.7038 - val_mean_absolute_error: 1041.1951\n",
      "Epoch 49/50\n",
      "27063/27063 [==============================] - 4s 146us/step - loss: 3469481.8812 - mean_absolute_error: 986.6977 - val_loss: 3868336.8506 - val_mean_absolute_error: 1032.5804\n",
      "Epoch 50/50\n",
      "27063/27063 [==============================] - 4s 144us/step - loss: 3475064.3618 - mean_absolute_error: 985.6190 - val_loss: 3852269.5437 - val_mean_absolute_error: 1039.0514\n",
      "CPU times: user 2min 52s, sys: 6.71 s, total: 2min 59s\n",
      "Wall time: 3min 17s\n"
     ]
    }
   ],
   "source": [
    "%%time\n",
    "history = model_reg.fit(X_train, y_train, epochs=50, validation_split=0.2, verbose=1)"
   ]
  },
  {
   "cell_type": "code",
   "execution_count": 190,
   "metadata": {},
   "outputs": [
    {
     "data": {
      "image/png": "[encoded data removed]",
      "text/plain": [
       "<Figure size 720x432 with 1 Axes>"
      ]
     },
     "metadata": {
      "needs_background": "light"
     },
     "output_type": "display_data"
    }
   ],
   "source": [
    "# summarize history for mean_absolute_error\n",
    "plt.figure(figsize=(10,6))\n",
    "plt.plot(history.history[\"mean_absolute_error\"])\n",
    "plt.plot(history.history[\"val_mean_absolute_error\"])\n",
    "plt.title(\"Mean Absolute Error\")\n",
    "plt.ylabel(\"MAE\")\n",
    "plt.xlabel(\"Epoch\")\n",
    "plt.legend([\"Train\", \"Test\"], loc=\"upper left\")\n",
    "plt.savefig(\"mae_afterreg.png\", bbox_inches=\"tight\")\n",
    "\n",
    "plt.show()"
   ]
  },
  {
   "cell_type": "code",
   "execution_count": 191,
   "metadata": {},
   "outputs": [
    {
     "data": {
      "image/png": "[encoded data removed]",
      "text/plain": [
       "<Figure size 720x432 with 1 Axes>"
      ]
     },
     "metadata": {
      "needs_background": "light"
     },
     "output_type": "display_data"
    }
   ],
   "source": [
    "# summarize history for loss\n",
    "plt.figure(figsize=(10,6))\n",
    "plt.plot(history.history[\"loss\"])\n",
    "plt.plot(history.history[\"val_loss\"])\n",
    "plt.title(\"Model Loss\")\n",
    "plt.ylabel(\"Loss\")\n",
    "plt.xlabel(\"Epoch\")\n",
    "plt.legend([\"Train\", \"Test\"], loc=\"upper left\")\n",
    "plt.savefig(\"loss_afterreg.png\", bbox_inches=\"tight\")\n",
    "\n",
    "plt.show()"
   ]
  },
  {
   "cell_type": "code",
   "execution_count": 192,
   "metadata": {},
   "outputs": [],
   "source": [
    "# predict values\n",
    "y_pred = model_reg.predict(X_test)"
   ]
  },
  {
   "cell_type": "code",
   "execution_count": 193,
   "metadata": {},
   "outputs": [
    {
     "name": "stdout",
     "output_type": "stream",
     "text": [
      "11277/11277 [==============================] - 1s 66us/step\n"
     ]
    }
   ],
   "source": [
    "# evaluate model\n",
    "[mse_reg, mae_reg] = model_reg.evaluate(X_test, y_test, verbose=1)"
   ]
  },
  {
   "cell_type": "code",
   "execution_count": 194,
   "metadata": {},
   "outputs": [
    {
     "name": "stdout",
     "output_type": "stream",
     "text": [
      "Testing set Root Mean Squared Error: RM1953.0760353862315\n",
      "Testing set Mean Absolute Error: RM1038.2254479927428\n"
     ]
    }
   ],
   "source": [
    "keras_rmse_reg = np.sqrt(int(mse_reg))\n",
    "keras_mae_reg = mae_reg\n",
    "\n",
    "print(\"Testing set Root Mean Squared Error: RM{}\".format(keras_rmse_reg))\n",
    "print(\"Testing set Mean Absolute Error: RM{}\".format(keras_mae_reg))"
   ]
  },
  {
   "cell_type": "code",
   "execution_count": 195,
   "metadata": {},
   "outputs": [
    {
     "name": "stdout",
     "output_type": "stream",
     "text": [
      "Tensorflow with Keras Sequential model R-squared: 0.8428510819284118\n"
     ]
    }
   ],
   "source": [
    "# calculate R-squared\n",
    "from sklearn.metrics import r2_score\n",
    "keras_r2_reg = r2_score(y_test, y_pred)\n",
    "\n",
    "print(\"Tensorflow with Keras Sequential model R-squared: {}\".format(keras_r2_reg))"
   ]
  },
  {
   "cell_type": "code",
   "execution_count": 196,
   "metadata": {},
   "outputs": [],
   "source": [
    "# using dropout\n",
    "from keras.layers import Dropout\n",
    "\n",
    "# initialize the constructor\n",
    "model_dropout = Sequential()\n",
    "\n",
    "# add a densely-connected layer with 64 units to the model:\n",
    "model_dropout.add(Dense(64, activation=\"relu\", input_shape=(X_train.shape[1],)))\n",
    "\n",
    "model_dropout.add(Dropout(0.5))\n",
    "\n",
    "# add another layer with 64 units\n",
    "model_dropout.add(Dense(64, activation=\"relu\"))\n",
    "\n",
    "model_dropout.add(Dropout(0.5))\n",
    "\n",
    "# add an output layer with 1 output unit\n",
    "model_dropout.add(Dense(1))"
   ]
  },
  {
   "cell_type": "code",
   "execution_count": 197,
   "metadata": {},
   "outputs": [],
   "source": [
    "optimizer = tf.train.RMSPropOptimizer(0.001)\n",
    "\n",
    "model_dropout.compile(loss=\"mse\",\n",
    "              optimizer=optimizer,\n",
    "              metrics=[\"mae\"])"
   ]
  },
  {
   "cell_type": "code",
   "execution_count": 200,
   "metadata": {},
   "outputs": [
    {
     "name": "stdout",
     "output_type": "stream",
     "text": [
      "Train on 27063 samples, validate on 6766 samples\n",
      "Epoch 1/50\n",
      "27063/27063 [==============================] - 4s 152us/step - loss: 6868538.8641 - mean_absolute_error: 1409.5017 - val_loss: 5869351.1811 - val_mean_absolute_error: 1253.9961\n",
      "Epoch 2/50\n",
      "27063/27063 [==============================] - 4s 159us/step - loss: 6102449.4079 - mean_absolute_error: 1267.0452 - val_loss: 5564493.9596 - val_mean_absolute_error: 1195.2359\n",
      "Epoch 3/50\n",
      "27063/27063 [==============================] - 4s 148us/step - loss: 5929027.8365 - mean_absolute_error: 1232.8813 - val_loss: 5460164.7060 - val_mean_absolute_error: 1172.4134\n",
      "Epoch 4/50\n",
      "27063/27063 [==============================] - 4s 151us/step - loss: 5807817.1577 - mean_absolute_error: 1221.5091 - val_loss: 5377128.6985 - val_mean_absolute_error: 1163.6922\n",
      "Epoch 5/50\n",
      "27063/27063 [==============================] - 4s 149us/step - loss: 5813124.0888 - mean_absolute_error: 1212.9991 - val_loss: 5279091.5332 - val_mean_absolute_error: 1159.0951\n",
      "Epoch 6/50\n",
      "27063/27063 [==============================] - 4s 157us/step - loss: 5678896.7947 - mean_absolute_error: 1199.9943 - val_loss: 5315887.9187 - val_mean_absolute_error: 1160.0797\n",
      "Epoch 7/50\n",
      "27063/27063 [==============================] - 5s 169us/step - loss: 5698910.2218 - mean_absolute_error: 1200.6947 - val_loss: 5217697.9569 - val_mean_absolute_error: 1153.1002\n",
      "Epoch 8/50\n",
      "27063/27063 [==============================] - 4s 166us/step - loss: 5732107.2936 - mean_absolute_error: 1209.4862 - val_loss: 5220382.4680 - val_mean_absolute_error: 1152.1269\n",
      "Epoch 9/50\n",
      "27063/27063 [==============================] - 4s 160us/step - loss: 5606667.8570 - mean_absolute_error: 1199.3313 - val_loss: 5152505.2531 - val_mean_absolute_error: 1148.0742\n",
      "Epoch 10/50\n",
      "27063/27063 [==============================] - 5s 167us/step - loss: 5683094.9920 - mean_absolute_error: 1199.3521 - val_loss: 5122995.8668 - val_mean_absolute_error: 1145.2003\n",
      "Epoch 11/50\n",
      "27063/27063 [==============================] - 5s 166us/step - loss: 5769489.9765 - mean_absolute_error: 1206.5991 - val_loss: 5126878.6874 - val_mean_absolute_error: 1145.2797\n",
      "Epoch 12/50\n",
      "27063/27063 [==============================] - 4s 162us/step - loss: 5551722.7828 - mean_absolute_error: 1194.2578 - val_loss: 5118393.2395 - val_mean_absolute_error: 1144.0305\n",
      "Epoch 13/50\n",
      "27063/27063 [==============================] - 5s 174us/step - loss: 5528884.0982 - mean_absolute_error: 1191.1966 - val_loss: 4998883.7495 - val_mean_absolute_error: 1136.6911\n",
      "Epoch 14/50\n",
      "27063/27063 [==============================] - 5s 169us/step - loss: 5390720.1050 - mean_absolute_error: 1182.7527 - val_loss: 4953274.0579 - val_mean_absolute_error: 1132.3098\n",
      "Epoch 15/50\n",
      "27063/27063 [==============================] - 4s 166us/step - loss: 5466985.8688 - mean_absolute_error: 1186.2513 - val_loss: 4918968.6917 - val_mean_absolute_error: 1129.3422\n",
      "Epoch 16/50\n",
      "27063/27063 [==============================] - 5s 170us/step - loss: 5484125.9294 - mean_absolute_error: 1180.8892 - val_loss: 4951908.1333 - val_mean_absolute_error: 1128.9363\n",
      "Epoch 17/50\n",
      "27063/27063 [==============================] - 5s 184us/step - loss: 5500099.1720 - mean_absolute_error: 1189.3373 - val_loss: 4885329.9175 - val_mean_absolute_error: 1123.5246\n",
      "Epoch 18/50\n",
      "27063/27063 [==============================] - 4s 164us/step - loss: 5391440.1082 - mean_absolute_error: 1177.8988 - val_loss: 4844039.9261 - val_mean_absolute_error: 1120.8617\n",
      "Epoch 19/50\n",
      "27063/27063 [==============================] - 5s 169us/step - loss: 5231124.5876 - mean_absolute_error: 1168.3908 - val_loss: 4762133.0901 - val_mean_absolute_error: 1117.5168\n",
      "Epoch 20/50\n",
      "27063/27063 [==============================] - 4s 164us/step - loss: 5355505.8300 - mean_absolute_error: 1175.1835 - val_loss: 4752107.7341 - val_mean_absolute_error: 1116.1108\n",
      "Epoch 21/50\n",
      "27063/27063 [==============================] - 4s 165us/step - loss: 5202080.2993 - mean_absolute_error: 1161.3052 - val_loss: 4810010.7621 - val_mean_absolute_error: 1117.3644\n",
      "Epoch 22/50\n",
      "27063/27063 [==============================] - 4s 163us/step - loss: 5248128.2252 - mean_absolute_error: 1169.5847 - val_loss: 4690210.4863 - val_mean_absolute_error: 1110.0417\n",
      "Epoch 23/50\n",
      "27063/27063 [==============================] - 5s 167us/step - loss: 5096330.4936 - mean_absolute_error: 1154.7753 - val_loss: 4654042.8223 - val_mean_absolute_error: 1106.5785\n",
      "Epoch 24/50\n",
      "27063/27063 [==============================] - 5s 172us/step - loss: 5169098.7215 - mean_absolute_error: 1161.0543 - val_loss: 4599708.4995 - val_mean_absolute_error: 1103.8634\n",
      "Epoch 25/50\n",
      "27063/27063 [==============================] - 5s 167us/step - loss: 5094198.0221 - mean_absolute_error: 1155.4622 - val_loss: 4611143.4037 - val_mean_absolute_error: 1103.0300\n",
      "Epoch 26/50\n",
      "27063/27063 [==============================] - 4s 164us/step - loss: 5144929.6693 - mean_absolute_error: 1162.2811 - val_loss: 4580475.4140 - val_mean_absolute_error: 1100.3844\n",
      "Epoch 27/50\n",
      "27063/27063 [==============================] - 5s 170us/step - loss: 5017036.2120 - mean_absolute_error: 1148.2615 - val_loss: 4546972.8266 - val_mean_absolute_error: 1098.3702\n",
      "Epoch 28/50\n",
      "27063/27063 [==============================] - 5s 173us/step - loss: 4961670.5012 - mean_absolute_error: 1140.5365 - val_loss: 4503714.4170 - val_mean_absolute_error: 1095.5038\n",
      "Epoch 29/50\n",
      "27063/27063 [==============================] - 4s 164us/step - loss: 4929832.4713 - mean_absolute_error: 1140.2389 - val_loss: 4473752.4924 - val_mean_absolute_error: 1092.3670\n",
      "Epoch 30/50\n",
      "27063/27063 [==============================] - 4s 166us/step - loss: 4914374.5729 - mean_absolute_error: 1145.2922 - val_loss: 4527235.3051 - val_mean_absolute_error: 1093.9660\n",
      "Epoch 31/50\n",
      "27063/27063 [==============================] - 5s 167us/step - loss: 4927334.4910 - mean_absolute_error: 1138.9092 - val_loss: 4416063.0696 - val_mean_absolute_error: 1087.2880\n",
      "Epoch 32/50\n",
      "27063/27063 [==============================] - 5s 171us/step - loss: 4920487.4189 - mean_absolute_error: 1139.3623 - val_loss: 4412869.3937 - val_mean_absolute_error: 1086.8706\n",
      "Epoch 33/50\n",
      "27063/27063 [==============================] - 5s 175us/step - loss: 4924779.9370 - mean_absolute_error: 1142.8247 - val_loss: 4372520.9762 - val_mean_absolute_error: 1084.4555\n",
      "Epoch 34/50\n",
      "27063/27063 [==============================] - 5s 171us/step - loss: 4883767.8565 - mean_absolute_error: 1140.8605 - val_loss: 4373216.3297 - val_mean_absolute_error: 1082.8039\n",
      "Epoch 35/50\n",
      "27063/27063 [==============================] - 5s 168us/step - loss: 4829089.9469 - mean_absolute_error: 1133.1920 - val_loss: 4353819.9848 - val_mean_absolute_error: 1081.6501\n",
      "Epoch 36/50\n",
      "27063/27063 [==============================] - 5s 168us/step - loss: 4811806.0431 - mean_absolute_error: 1129.6678 - val_loss: 4315837.2834 - val_mean_absolute_error: 1077.4633\n",
      "Epoch 37/50\n",
      "27063/27063 [==============================] - 5s 168us/step - loss: 4714566.2689 - mean_absolute_error: 1123.9510 - val_loss: 4350373.5185 - val_mean_absolute_error: 1077.9695\n",
      "Epoch 38/50\n",
      "27063/27063 [==============================] - 5s 168us/step - loss: 4744390.1541 - mean_absolute_error: 1128.8597 - val_loss: 4239161.1569 - val_mean_absolute_error: 1071.9186\n",
      "Epoch 39/50\n",
      "27063/27063 [==============================] - 5s 172us/step - loss: 4687708.8075 - mean_absolute_error: 1124.1142 - val_loss: 4205229.8004 - val_mean_absolute_error: 1069.3213\n",
      "Epoch 40/50\n",
      "27063/27063 [==============================] - 4s 156us/step - loss: 4761782.1185 - mean_absolute_error: 1130.1782 - val_loss: 4152691.7313 - val_mean_absolute_error: 1069.2626\n",
      "Epoch 41/50\n",
      "27063/27063 [==============================] - 5s 183us/step - loss: 4698938.4212 - mean_absolute_error: 1124.3937 - val_loss: 4173848.9510 - val_mean_absolute_error: 1066.3458\n",
      "Epoch 42/50\n",
      "27063/27063 [==============================] - 5s 171us/step - loss: 4732642.8862 - mean_absolute_error: 1122.6609 - val_loss: 4264289.2055 - val_mean_absolute_error: 1067.6615\n",
      "Epoch 43/50\n",
      "27063/27063 [==============================] - 5s 180us/step - loss: 4740330.0602 - mean_absolute_error: 1125.3801 - val_loss: 4147782.9087 - val_mean_absolute_error: 1061.8204\n",
      "Epoch 44/50\n"
     ]
    },
    {
     "name": "stdout",
     "output_type": "stream",
     "text": [
      "27063/27063 [==============================] - 5s 178us/step - loss: 4624713.1766 - mean_absolute_error: 1116.3088 - val_loss: 4075502.9676 - val_mean_absolute_error: 1058.3914\n",
      "Epoch 45/50\n",
      "27063/27063 [==============================] - 4s 164us/step - loss: 4662151.6045 - mean_absolute_error: 1125.0302 - val_loss: 4160056.3354 - val_mean_absolute_error: 1062.3938\n",
      "Epoch 46/50\n",
      "27063/27063 [==============================] - 4s 159us/step - loss: 4548522.7138 - mean_absolute_error: 1112.3431 - val_loss: 4080174.8169 - val_mean_absolute_error: 1055.2240\n",
      "Epoch 47/50\n",
      "27063/27063 [==============================] - 5s 167us/step - loss: 4682017.4498 - mean_absolute_error: 1124.5526 - val_loss: 4108073.6790 - val_mean_absolute_error: 1058.8492\n",
      "Epoch 48/50\n",
      "27063/27063 [==============================] - 5s 171us/step - loss: 4641753.8851 - mean_absolute_error: 1120.8853 - val_loss: 4087061.9010 - val_mean_absolute_error: 1057.7631\n",
      "Epoch 49/50\n",
      "27063/27063 [==============================] - 4s 152us/step - loss: 4639474.0388 - mean_absolute_error: 1118.6300 - val_loss: 4094730.0179 - val_mean_absolute_error: 1058.4114\n",
      "Epoch 50/50\n",
      "27063/27063 [==============================] - 4s 145us/step - loss: 4506008.0137 - mean_absolute_error: 1109.1062 - val_loss: 4051711.0358 - val_mean_absolute_error: 1055.3737\n",
      "CPU times: user 3min 11s, sys: 7.52 s, total: 3min 18s\n",
      "Wall time: 3min 44s\n"
     ]
    }
   ],
   "source": [
    "%%time\n",
    "history = model_dropout.fit(X_train, y_train, epochs=50, validation_split=0.2, verbose=1)"
   ]
  },
  {
   "cell_type": "code",
   "execution_count": 201,
   "metadata": {},
   "outputs": [
    {
     "data": {
      "image/png": "[encoded data removed]",
      "text/plain": [
       "<Figure size 720x432 with 1 Axes>"
      ]
     },
     "metadata": {
      "needs_background": "light"
     },
     "output_type": "display_data"
    }
   ],
   "source": [
    "\n",
    "# summarize history for mean_absolute_error\n",
    "plt.figure(figsize=(10,6))\n",
    "plt.plot(history.history[\"mean_absolute_error\"])\n",
    "plt.plot(history.history[\"val_mean_absolute_error\"])\n",
    "plt.title(\"Mean Absolute Error\")\n",
    "plt.ylabel(\"MAE\")\n",
    "plt.xlabel(\"Epoch\")\n",
    "plt.legend([\"Train\", \"Test\"], loc=\"upper left\")\n",
    "plt.savefig(\"mae_afterdrop.png\", bbox_inches=\"tight\")\n",
    "\n",
    "plt.show()"
   ]
  },
  {
   "cell_type": "code",
   "execution_count": 202,
   "metadata": {},
   "outputs": [
    {
     "data": {
      "image/png": "[encoded data removed]",
      "text/plain": [
       "<Figure size 720x432 with 1 Axes>"
      ]
     },
     "metadata": {
      "needs_background": "light"
     },
     "output_type": "display_data"
    }
   ],
   "source": [
    "# summarize history for loss\n",
    "plt.figure(figsize=(10,6))\n",
    "plt.plot(history.history[\"loss\"])\n",
    "plt.plot(history.history[\"val_loss\"])\n",
    "plt.title(\"Model Loss\")\n",
    "plt.ylabel(\"Loss\")\n",
    "plt.xlabel(\"Epoch\")\n",
    "plt.legend([\"Train\", \"Test\"], loc=\"upper left\")\n",
    "plt.savefig(\"loss_afterdrop.png\", bbox_inches=\"tight\")\n",
    "\n",
    "plt.show()"
   ]
  },
  {
   "cell_type": "code",
   "execution_count": 203,
   "metadata": {},
   "outputs": [],
   "source": [
    "# Predict Values\n",
    "y_pred = model_dropout.predict(X_test)"
   ]
  },
  {
   "cell_type": "code",
   "execution_count": 204,
   "metadata": {},
   "outputs": [
    {
     "name": "stdout",
     "output_type": "stream",
     "text": [
      "11277/11277 [==============================] - 1s 77us/step\n"
     ]
    }
   ],
   "source": [
    "[mse_dropout, mae_dropout] = model_dropout.evaluate(X_test, y_test, verbose=1)"
   ]
  },
  {
   "cell_type": "code",
   "execution_count": 205,
   "metadata": {},
   "outputs": [
    {
     "name": "stdout",
     "output_type": "stream",
     "text": [
      "Testing set Root Mean Squared Error: RM1982.1321852994568\n",
      "Testing set Mean Absolute Error: RM1059.3814990507158\n"
     ]
    }
   ],
   "source": [
    "keras_rmse_dropout = np.sqrt(int(mse_dropout))\n",
    "keras_mae_dropout = mae_dropout\n",
    "\n",
    "print(\"Testing set Root Mean Squared Error: RM{}\".format(keras_rmse_dropout))\n",
    "print(\"Testing set Mean Absolute Error: RM{}\".format(keras_mae_dropout))"
   ]
  },
  {
   "cell_type": "code",
   "execution_count": 206,
   "metadata": {},
   "outputs": [
    {
     "name": "stdout",
     "output_type": "stream",
     "text": [
      "Tensorflow with Keras Sequential model R-squared: 0.8381397927914663\n"
     ]
    }
   ],
   "source": [
    "# calculate R-squared\n",
    "from sklearn.metrics import r2_score\n",
    "keras_r2_dropout = r2_score(y_test, y_pred)\n",
    "\n",
    "print(\"Tensorflow with Keras Sequential model R-squared: {}\".format(keras_r2_dropout))"
   ]
  },
  {
   "cell_type": "code",
   "execution_count": 227,
   "metadata": {},
   "outputs": [
    {
     "data": {
      "text/html": [
       "<div>\n",
       "<style scoped>\n",
       "    .dataframe tbody tr th:only-of-type {\n",
       "        vertical-align: middle;\n",
       "    }\n",
       "\n",
       "    .dataframe tbody tr th {\n",
       "        vertical-align: top;\n",
       "    }\n",
       "\n",
       "    .dataframe thead th {\n",
       "        text-align: right;\n",
       "    }\n",
       "</style>\n",
       "<table border=\"1\" class=\"dataframe\">\n",
       "  <thead>\n",
       "    <tr style=\"text-align: right;\">\n",
       "      <th></th>\n",
       "      <th>Model</th>\n",
       "      <th>R-squared</th>\n",
       "      <th>RMSE</th>\n",
       "      <th>MAE</th>\n",
       "    </tr>\n",
       "  </thead>\n",
       "  <tbody>\n",
       "    <tr>\n",
       "      <th>0</th>\n",
       "      <td>Baseline</td>\n",
       "      <td>0.845700</td>\n",
       "      <td>1935.288609</td>\n",
       "      <td>1012.165634</td>\n",
       "    </tr>\n",
       "    <tr>\n",
       "      <th>1</th>\n",
       "      <td>Random Forest</td>\n",
       "      <td>0.838140</td>\n",
       "      <td>1134.647320</td>\n",
       "      <td>481.418106</td>\n",
       "    </tr>\n",
       "    <tr>\n",
       "      <th>2</th>\n",
       "      <td>Add weight regularization</td>\n",
       "      <td>0.842851</td>\n",
       "      <td>1953.076035</td>\n",
       "      <td>1038.225448</td>\n",
       "    </tr>\n",
       "    <tr>\n",
       "      <th>3</th>\n",
       "      <td>Add dropout</td>\n",
       "      <td>0.838140</td>\n",
       "      <td>1982.132185</td>\n",
       "      <td>1059.381499</td>\n",
       "    </tr>\n",
       "  </tbody>\n",
       "</table>\n",
       "</div>"
      ],
      "text/plain": [
       "                       Model  R-squared         RMSE          MAE\n",
       "0                   Baseline   0.845700  1935.288609  1012.165634\n",
       "1              Random Forest   0.838140  1134.647320   481.418106\n",
       "2  Add weight regularization   0.842851  1953.076035  1038.225448\n",
       "3                Add dropout   0.838140  1982.132185  1059.381499"
      ]
     },
     "execution_count": 227,
     "metadata": {},
     "output_type": "execute_result"
    }
   ],
   "source": [
    "# combine all results into one dataframe\n",
    "keras_data = {\"Model\": [\"Baseline\",\"Random Forest\", \"Add weight regularization\", \"Add dropout\"], \n",
    "        \"R-squared\": [keras_r2, forest_r2,keras_r2_reg, keras_r2_dropout],           \n",
    "        \"RMSE\": [keras_rmse, forest_rmse,keras_rmse_reg, keras_rmse_dropout],\n",
    "        \"MAE\": [keras_mae, forest_mae,keras_mae_reg, keras_mae_dropout]}\n",
    "\n",
    "keras_results = pd.DataFrame(data=keras_data)\n",
    "keras_results"
   ]
  },
  {
   "cell_type": "code",
   "execution_count": 228,
   "metadata": {},
   "outputs": [
    {
     "data": {
      "image/png": "[encoded data removed]",
      "text/plain": [
       "<Figure size 864x1008 with 3 Axes>"
      ]
     },
     "metadata": {
      "needs_background": "light"
     },
     "output_type": "display_data"
    }
   ],
   "source": [
    "# visualize the results using bar charts\n",
    "# sns.set(rc={\"figure.figsize\":(10, 12)})\n",
    "\n",
    "plt.rcParams[\"axes.labelsize\"] = 16\n",
    "plt.figure(figsize=(12, 14))\n",
    "\n",
    "plt.subplot(3, 1, 1)\n",
    "plt.title(\"Model Comparison in terms of R-squared, RMSE and MAE\", fontsize=16)\n",
    "g1 = sns.barplot(x=\"Model\", y=\"R-squared\", data=results)\n",
    "plt.ylim(0, 0.9)\n",
    "g1.set_xlabel(\"\")\n",
    "g1.tick_params(labelsize=14)\n",
    "for p in g1.patches:\n",
    "    height = p.get_height()\n",
    "    g1.text(p.get_x()+p.get_width()/2., height+0.01, \"{:1.2f}\".format(height), ha=\"center\", fontsize=14) \n",
    "\n",
    "plt.subplot(3, 1, 2)\n",
    "g2 = sns.barplot(x=\"Model\", y=\"RMSE\", data=results)\n",
    "plt.ylim(0, 900)\n",
    "g2.set_xlabel(\"\")\n",
    "g2.tick_params(labelsize=14)\n",
    "for p in g2.patches:\n",
    "    height = p.get_height()\n",
    "    g2.text(p.get_x()+p.get_width()/2., height+15, \"{:1.2f}\".format(height), ha=\"center\", fontsize=14) \n",
    "\n",
    "plt.subplot(3, 1, 3)\n",
    "g3 = sns.barplot(x=\"Model\", y=\"MAE\", data=results)\n",
    "plt.ylim(0, 600)\n",
    "g3.set_xlabel(\"\")\n",
    "g3.tick_params(labelsize=14)\n",
    "for p in g3.patches:\n",
    "    height = p.get_height()\n",
    "    g3.text(p.get_x()+p.get_width()/2., height+10, \"{:1.2f}\".format(height), ha=\"center\", fontsize=14) \n",
    "    \n",
    "plt.savefig(\"predict-rental-prices.png\")"
   ]
  },
  {
   "cell_type": "code",
   "execution_count": null,
   "metadata": {},
   "outputs": [],
   "source": []
  }
 ],
 "metadata": {
  "kernelspec": {
   "display_name": "Python 3",
   "language": "python",
   "name": "python3"
  },
  "language_info": {
   "codemirror_mode": {
    "name": "ipython",
    "version": 3
   },
   "file_extension": ".py",
   "mimetype": "text/x-python",
   "name": "python",
   "nbconvert_exporter": "python",
   "pygments_lexer": "ipython3",
   "version": "3.6.8"
  }
 },
 "nbformat": 4,
 "nbformat_minor": 2
}
