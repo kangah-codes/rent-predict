{
 "cells": [
  {
   "cell_type": "code",
   "execution_count": 3,
   "metadata": {},
   "outputs": [],
   "source": [
    "import numpy as np\n",
    "import pandas as pd\n",
    "import matplotlib.pyplot as plt\n",
    "import seaborn as sns"
   ]
  },
  {
   "cell_type": "code",
   "execution_count": 123,
   "metadata": {},
   "outputs": [
    {
     "ename": "ParserError",
     "evalue": "Error tokenizing data. C error: Expected 11 fields in line 45789, saw 13\n",
     "output_type": "error",
     "traceback": [
      "\u001b[1;31m---------------------------------------------------------------------------\u001b[0m",
      "\u001b[1;31mParserError\u001b[0m                               Traceback (most recent call last)",
      "\u001b[1;32m<ipython-input-123-6725e93e2296>\u001b[0m in \u001b[0;36m<module>\u001b[1;34m\u001b[0m\n\u001b[1;32m----> 1\u001b[1;33m \u001b[0mrental\u001b[0m \u001b[1;33m=\u001b[0m \u001b[0mpd\u001b[0m\u001b[1;33m.\u001b[0m\u001b[0mread_csv\u001b[0m\u001b[1;33m(\u001b[0m\u001b[1;34m\"data.csv\"\u001b[0m\u001b[1;33m,\u001b[0m \u001b[0mindex_col\u001b[0m\u001b[1;33m=\u001b[0m\u001b[1;36m0\u001b[0m\u001b[1;33m,\u001b[0m \u001b[0mlow_memory\u001b[0m\u001b[1;33m=\u001b[0m\u001b[1;32mFalse\u001b[0m\u001b[1;33m)\u001b[0m\u001b[1;33m\u001b[0m\u001b[1;33m\u001b[0m\u001b[0m\n\u001b[0m",
      "\u001b[1;32mc:\\users\\lab 3\\appdata\\local\\programs\\python\\python37\\lib\\site-packages\\pandas\\io\\parsers.py\u001b[0m in \u001b[0;36mparser_f\u001b[1;34m(filepath_or_buffer, sep, delimiter, header, names, index_col, usecols, squeeze, prefix, mangle_dupe_cols, dtype, engine, converters, true_values, false_values, skipinitialspace, skiprows, skipfooter, nrows, na_values, keep_default_na, na_filter, verbose, skip_blank_lines, parse_dates, infer_datetime_format, keep_date_col, date_parser, dayfirst, cache_dates, iterator, chunksize, compression, thousands, decimal, lineterminator, quotechar, quoting, doublequote, escapechar, comment, encoding, dialect, error_bad_lines, warn_bad_lines, delim_whitespace, low_memory, memory_map, float_precision)\u001b[0m\n\u001b[0;32m    674\u001b[0m         )\n\u001b[0;32m    675\u001b[0m \u001b[1;33m\u001b[0m\u001b[0m\n\u001b[1;32m--> 676\u001b[1;33m         \u001b[1;32mreturn\u001b[0m \u001b[0m_read\u001b[0m\u001b[1;33m(\u001b[0m\u001b[0mfilepath_or_buffer\u001b[0m\u001b[1;33m,\u001b[0m \u001b[0mkwds\u001b[0m\u001b[1;33m)\u001b[0m\u001b[1;33m\u001b[0m\u001b[1;33m\u001b[0m\u001b[0m\n\u001b[0m\u001b[0;32m    677\u001b[0m \u001b[1;33m\u001b[0m\u001b[0m\n\u001b[0;32m    678\u001b[0m     \u001b[0mparser_f\u001b[0m\u001b[1;33m.\u001b[0m\u001b[0m__name__\u001b[0m \u001b[1;33m=\u001b[0m \u001b[0mname\u001b[0m\u001b[1;33m\u001b[0m\u001b[1;33m\u001b[0m\u001b[0m\n",
      "\u001b[1;32mc:\\users\\lab 3\\appdata\\local\\programs\\python\\python37\\lib\\site-packages\\pandas\\io\\parsers.py\u001b[0m in \u001b[0;36m_read\u001b[1;34m(filepath_or_buffer, kwds)\u001b[0m\n\u001b[0;32m    452\u001b[0m \u001b[1;33m\u001b[0m\u001b[0m\n\u001b[0;32m    453\u001b[0m     \u001b[1;32mtry\u001b[0m\u001b[1;33m:\u001b[0m\u001b[1;33m\u001b[0m\u001b[1;33m\u001b[0m\u001b[0m\n\u001b[1;32m--> 454\u001b[1;33m         \u001b[0mdata\u001b[0m \u001b[1;33m=\u001b[0m \u001b[0mparser\u001b[0m\u001b[1;33m.\u001b[0m\u001b[0mread\u001b[0m\u001b[1;33m(\u001b[0m\u001b[0mnrows\u001b[0m\u001b[1;33m)\u001b[0m\u001b[1;33m\u001b[0m\u001b[1;33m\u001b[0m\u001b[0m\n\u001b[0m\u001b[0;32m    455\u001b[0m     \u001b[1;32mfinally\u001b[0m\u001b[1;33m:\u001b[0m\u001b[1;33m\u001b[0m\u001b[1;33m\u001b[0m\u001b[0m\n\u001b[0;32m    456\u001b[0m         \u001b[0mparser\u001b[0m\u001b[1;33m.\u001b[0m\u001b[0mclose\u001b[0m\u001b[1;33m(\u001b[0m\u001b[1;33m)\u001b[0m\u001b[1;33m\u001b[0m\u001b[1;33m\u001b[0m\u001b[0m\n",
      "\u001b[1;32mc:\\users\\lab 3\\appdata\\local\\programs\\python\\python37\\lib\\site-packages\\pandas\\io\\parsers.py\u001b[0m in \u001b[0;36mread\u001b[1;34m(self, nrows)\u001b[0m\n\u001b[0;32m   1131\u001b[0m     \u001b[1;32mdef\u001b[0m \u001b[0mread\u001b[0m\u001b[1;33m(\u001b[0m\u001b[0mself\u001b[0m\u001b[1;33m,\u001b[0m \u001b[0mnrows\u001b[0m\u001b[1;33m=\u001b[0m\u001b[1;32mNone\u001b[0m\u001b[1;33m)\u001b[0m\u001b[1;33m:\u001b[0m\u001b[1;33m\u001b[0m\u001b[1;33m\u001b[0m\u001b[0m\n\u001b[0;32m   1132\u001b[0m         \u001b[0mnrows\u001b[0m \u001b[1;33m=\u001b[0m \u001b[0m_validate_integer\u001b[0m\u001b[1;33m(\u001b[0m\u001b[1;34m\"nrows\"\u001b[0m\u001b[1;33m,\u001b[0m \u001b[0mnrows\u001b[0m\u001b[1;33m)\u001b[0m\u001b[1;33m\u001b[0m\u001b[1;33m\u001b[0m\u001b[0m\n\u001b[1;32m-> 1133\u001b[1;33m         \u001b[0mret\u001b[0m \u001b[1;33m=\u001b[0m \u001b[0mself\u001b[0m\u001b[1;33m.\u001b[0m\u001b[0m_engine\u001b[0m\u001b[1;33m.\u001b[0m\u001b[0mread\u001b[0m\u001b[1;33m(\u001b[0m\u001b[0mnrows\u001b[0m\u001b[1;33m)\u001b[0m\u001b[1;33m\u001b[0m\u001b[1;33m\u001b[0m\u001b[0m\n\u001b[0m\u001b[0;32m   1134\u001b[0m \u001b[1;33m\u001b[0m\u001b[0m\n\u001b[0;32m   1135\u001b[0m         \u001b[1;31m# May alter columns / col_dict\u001b[0m\u001b[1;33m\u001b[0m\u001b[1;33m\u001b[0m\u001b[1;33m\u001b[0m\u001b[0m\n",
      "\u001b[1;32mc:\\users\\lab 3\\appdata\\local\\programs\\python\\python37\\lib\\site-packages\\pandas\\io\\parsers.py\u001b[0m in \u001b[0;36mread\u001b[1;34m(self, nrows)\u001b[0m\n\u001b[0;32m   2035\u001b[0m     \u001b[1;32mdef\u001b[0m \u001b[0mread\u001b[0m\u001b[1;33m(\u001b[0m\u001b[0mself\u001b[0m\u001b[1;33m,\u001b[0m \u001b[0mnrows\u001b[0m\u001b[1;33m=\u001b[0m\u001b[1;32mNone\u001b[0m\u001b[1;33m)\u001b[0m\u001b[1;33m:\u001b[0m\u001b[1;33m\u001b[0m\u001b[1;33m\u001b[0m\u001b[0m\n\u001b[0;32m   2036\u001b[0m         \u001b[1;32mtry\u001b[0m\u001b[1;33m:\u001b[0m\u001b[1;33m\u001b[0m\u001b[1;33m\u001b[0m\u001b[0m\n\u001b[1;32m-> 2037\u001b[1;33m             \u001b[0mdata\u001b[0m \u001b[1;33m=\u001b[0m \u001b[0mself\u001b[0m\u001b[1;33m.\u001b[0m\u001b[0m_reader\u001b[0m\u001b[1;33m.\u001b[0m\u001b[0mread\u001b[0m\u001b[1;33m(\u001b[0m\u001b[0mnrows\u001b[0m\u001b[1;33m)\u001b[0m\u001b[1;33m\u001b[0m\u001b[1;33m\u001b[0m\u001b[0m\n\u001b[0m\u001b[0;32m   2038\u001b[0m         \u001b[1;32mexcept\u001b[0m \u001b[0mStopIteration\u001b[0m\u001b[1;33m:\u001b[0m\u001b[1;33m\u001b[0m\u001b[1;33m\u001b[0m\u001b[0m\n\u001b[0;32m   2039\u001b[0m             \u001b[1;32mif\u001b[0m \u001b[0mself\u001b[0m\u001b[1;33m.\u001b[0m\u001b[0m_first_chunk\u001b[0m\u001b[1;33m:\u001b[0m\u001b[1;33m\u001b[0m\u001b[1;33m\u001b[0m\u001b[0m\n",
      "\u001b[1;32mpandas\\_libs\\parsers.pyx\u001b[0m in \u001b[0;36mpandas._libs.parsers.TextReader.read\u001b[1;34m()\u001b[0m\n",
      "\u001b[1;32mpandas\\_libs\\parsers.pyx\u001b[0m in \u001b[0;36mpandas._libs.parsers.TextReader._read_rows\u001b[1;34m()\u001b[0m\n",
      "\u001b[1;32mpandas\\_libs\\parsers.pyx\u001b[0m in \u001b[0;36mpandas._libs.parsers.raise_parser_error\u001b[1;34m()\u001b[0m\n",
      "\u001b[1;31mParserError\u001b[0m: Error tokenizing data. C error: Expected 11 fields in line 45789, saw 13\n"
     ]
    }
   ],
   "source": [
    "rental = pd.read_csv(\"data.csv\", index_col=0, low_memory=False)"
   ]
  },
  {
   "cell_type": "code",
   "execution_count": null,
   "metadata": {},
   "outputs": [],
   "source": []
  },
  {
   "cell_type": "code",
   "execution_count": 120,
   "metadata": {},
   "outputs": [
    {
     "name": "stdout",
     "output_type": "stream",
     "text": [
      "<class 'pandas.core.frame.DataFrame'>\n",
      "Index: 82327 entries, Ofako to Datano\n",
      "Data columns (total 12 columns):\n",
      " #   Column       Non-Null Count  Dtype  \n",
      "---  ------       --------------  -----  \n",
      " 0   Status       82327 non-null  int64  \n",
      " 1   Region       82327 non-null  int64  \n",
      " 2   Lat          82327 non-null  float64\n",
      " 3   Lon          82327 non-null  float64\n",
      " 4   Elev         82327 non-null  int64  \n",
      " 5   Pop          82327 non-null  int64  \n",
      " 6   Bed          81531 non-null  float64\n",
      " 7   Bath         81391 non-null  float64\n",
      " 8   Garage       67287 non-null  float64\n",
      " 9   Area         55521 non-null  float64\n",
      " 10  Price        36547 non-null  float64\n",
      " 11  isFurnished  36547 non-null  float64\n",
      "dtypes: float64(8), int64(4)\n",
      "memory usage: 8.2+ MB\n"
     ]
    },
    {
     "data": {
      "text/html": [
       "<div>\n",
       "<style scoped>\n",
       "    .dataframe tbody tr th:only-of-type {\n",
       "        vertical-align: middle;\n",
       "    }\n",
       "\n",
       "    .dataframe tbody tr th {\n",
       "        vertical-align: top;\n",
       "    }\n",
       "\n",
       "    .dataframe thead th {\n",
       "        text-align: right;\n",
       "    }\n",
       "</style>\n",
       "<table border=\"1\" class=\"dataframe\">\n",
       "  <thead>\n",
       "    <tr style=\"text-align: right;\">\n",
       "      <th></th>\n",
       "      <th>Status</th>\n",
       "      <th>Region</th>\n",
       "      <th>Lat</th>\n",
       "      <th>Lon</th>\n",
       "      <th>Elev</th>\n",
       "      <th>Pop</th>\n",
       "      <th>Bed</th>\n",
       "      <th>Bath</th>\n",
       "      <th>Garage</th>\n",
       "      <th>Area</th>\n",
       "      <th>Price</th>\n",
       "      <th>isFurnished</th>\n",
       "    </tr>\n",
       "    <tr>\n",
       "      <th>Place</th>\n",
       "      <th></th>\n",
       "      <th></th>\n",
       "      <th></th>\n",
       "      <th></th>\n",
       "      <th></th>\n",
       "      <th></th>\n",
       "      <th></th>\n",
       "      <th></th>\n",
       "      <th></th>\n",
       "      <th></th>\n",
       "      <th></th>\n",
       "      <th></th>\n",
       "    </tr>\n",
       "  </thead>\n",
       "  <tbody>\n",
       "    <tr>\n",
       "      <th>Ofako</th>\n",
       "      <td>2</td>\n",
       "      <td>1</td>\n",
       "      <td>5.59</td>\n",
       "      <td>-0.45</td>\n",
       "      <td>249</td>\n",
       "      <td>16986</td>\n",
       "      <td>2.0</td>\n",
       "      <td>2.0</td>\n",
       "      <td>150.0</td>\n",
       "      <td>0.0</td>\n",
       "      <td>NaN</td>\n",
       "      <td>NaN</td>\n",
       "    </tr>\n",
       "    <tr>\n",
       "      <th>Ofako</th>\n",
       "      <td>1</td>\n",
       "      <td>1</td>\n",
       "      <td>5.66</td>\n",
       "      <td>-0.27</td>\n",
       "      <td>246</td>\n",
       "      <td>407491</td>\n",
       "      <td>2.0</td>\n",
       "      <td>2.0</td>\n",
       "      <td>150.0</td>\n",
       "      <td>0.0</td>\n",
       "      <td>NaN</td>\n",
       "      <td>NaN</td>\n",
       "    </tr>\n",
       "    <tr>\n",
       "      <th>Ofakor</th>\n",
       "      <td>2</td>\n",
       "      <td>1</td>\n",
       "      <td>5.59</td>\n",
       "      <td>-0.45</td>\n",
       "      <td>249</td>\n",
       "      <td>16986</td>\n",
       "      <td>2.0</td>\n",
       "      <td>2.0</td>\n",
       "      <td>150.0</td>\n",
       "      <td>0.0</td>\n",
       "      <td>NaN</td>\n",
       "      <td>NaN</td>\n",
       "    </tr>\n",
       "    <tr>\n",
       "      <th>Ofankor</th>\n",
       "      <td>1</td>\n",
       "      <td>1</td>\n",
       "      <td>5.66</td>\n",
       "      <td>-0.27</td>\n",
       "      <td>246</td>\n",
       "      <td>407491</td>\n",
       "      <td>2.0</td>\n",
       "      <td>2.0</td>\n",
       "      <td>150.0</td>\n",
       "      <td>0.0</td>\n",
       "      <td>NaN</td>\n",
       "      <td>NaN</td>\n",
       "    </tr>\n",
       "    <tr>\n",
       "      <th>Ablemkpe</th>\n",
       "      <td>1</td>\n",
       "      <td>1</td>\n",
       "      <td>5.61</td>\n",
       "      <td>-0.22</td>\n",
       "      <td>269</td>\n",
       "      <td>800486</td>\n",
       "      <td>3.0</td>\n",
       "      <td>4.0</td>\n",
       "      <td>1027.0</td>\n",
       "      <td>0.0</td>\n",
       "      <td>NaN</td>\n",
       "      <td>NaN</td>\n",
       "    </tr>\n",
       "  </tbody>\n",
       "</table>\n",
       "</div>"
      ],
      "text/plain": [
       "          Status  Region   Lat   Lon  Elev     Pop  Bed  Bath  Garage  Area  \\\n",
       "Place                                                                         \n",
       "Ofako          2       1  5.59 -0.45   249   16986  2.0   2.0   150.0   0.0   \n",
       "Ofako          1       1  5.66 -0.27   246  407491  2.0   2.0   150.0   0.0   \n",
       "Ofakor         2       1  5.59 -0.45   249   16986  2.0   2.0   150.0   0.0   \n",
       "Ofankor        1       1  5.66 -0.27   246  407491  2.0   2.0   150.0   0.0   \n",
       "Ablemkpe       1       1  5.61 -0.22   269  800486  3.0   4.0  1027.0   0.0   \n",
       "\n",
       "          Price  isFurnished  \n",
       "Place                         \n",
       "Ofako       NaN          NaN  \n",
       "Ofako       NaN          NaN  \n",
       "Ofakor      NaN          NaN  \n",
       "Ofankor     NaN          NaN  \n",
       "Ablemkpe    NaN          NaN  "
      ]
     },
     "execution_count": 120,
     "metadata": {},
     "output_type": "execute_result"
    }
   ],
   "source": [
    "rental.info()\n",
    "rental.head()"
   ]
  },
  {
   "cell_type": "code",
   "execution_count": 90,
   "metadata": {},
   "outputs": [
    {
     "data": {
      "text/plain": [
       "Status           0\n",
       "Region           0\n",
       "Lat              0\n",
       "Lon              0\n",
       "Elev             0\n",
       "Pop              0\n",
       "Bed            796\n",
       "Bath           936\n",
       "Price            0\n",
       "isFurnished      0\n",
       "dtype: int64"
      ]
     },
     "execution_count": 90,
     "metadata": {},
     "output_type": "execute_result"
    }
   ],
   "source": [
    "rental.isnull().sum()"
   ]
  },
  {
   "cell_type": "code",
   "execution_count": 94,
   "metadata": {},
   "outputs": [],
   "source": [
    "rental = rental.dropna()\n",
    "rental = rental.reset_index(drop=True)"
   ]
  },
  {
   "cell_type": "code",
   "execution_count": 95,
   "metadata": {},
   "outputs": [
    {
     "data": {
      "text/plain": [
       "Status         0\n",
       "Region         0\n",
       "Lat            0\n",
       "Lon            0\n",
       "Elev           0\n",
       "Pop            0\n",
       "Bed            0\n",
       "Bath           0\n",
       "Price          0\n",
       "isFurnished    0\n",
       "dtype: int64"
      ]
     },
     "execution_count": 95,
     "metadata": {},
     "output_type": "execute_result"
    }
   ],
   "source": [
    "rental.isnull().sum()"
   ]
  },
  {
   "cell_type": "code",
   "execution_count": 57,
   "metadata": {},
   "outputs": [],
   "source": []
  },
  {
   "cell_type": "code",
   "execution_count": 58,
   "metadata": {},
   "outputs": [],
   "source": []
  },
  {
   "cell_type": "code",
   "execution_count": 32,
   "metadata": {},
   "outputs": [
    {
     "data": {
      "text/plain": [
       "Status         0\n",
       "Region         0\n",
       "Lat            0\n",
       "Lon            0\n",
       "Elev           0\n",
       "Pop            0\n",
       "Bed            0\n",
       "Bath           0\n",
       "Garage         0\n",
       "Area           0\n",
       "Price          0\n",
       "isFurnished    0\n",
       "dtype: int64"
      ]
     },
     "execution_count": 32,
     "metadata": {},
     "output_type": "execute_result"
    }
   ],
   "source": [
    "rental.isnull().sum()"
   ]
  },
  {
   "cell_type": "code",
   "execution_count": 96,
   "metadata": {},
   "outputs": [],
   "source": [
    "rental.to_csv(\"new_data.csv\")"
   ]
  },
  {
   "cell_type": "code",
   "execution_count": 97,
   "metadata": {},
   "outputs": [
    {
     "data": {
      "text/html": [
       "<div>\n",
       "<style scoped>\n",
       "    .dataframe tbody tr th:only-of-type {\n",
       "        vertical-align: middle;\n",
       "    }\n",
       "\n",
       "    .dataframe tbody tr th {\n",
       "        vertical-align: top;\n",
       "    }\n",
       "\n",
       "    .dataframe thead th {\n",
       "        text-align: right;\n",
       "    }\n",
       "</style>\n",
       "<table border=\"1\" class=\"dataframe\">\n",
       "  <thead>\n",
       "    <tr style=\"text-align: right;\">\n",
       "      <th></th>\n",
       "      <th>Status</th>\n",
       "      <th>Region</th>\n",
       "      <th>Lat</th>\n",
       "      <th>Lon</th>\n",
       "      <th>Elev</th>\n",
       "      <th>Pop</th>\n",
       "      <th>Bed</th>\n",
       "      <th>Bath</th>\n",
       "      <th>Price</th>\n",
       "      <th>isFurnished</th>\n",
       "    </tr>\n",
       "  </thead>\n",
       "  <tbody>\n",
       "    <tr>\n",
       "      <th>0</th>\n",
       "      <td>2</td>\n",
       "      <td>1</td>\n",
       "      <td>5.59</td>\n",
       "      <td>-0.45</td>\n",
       "      <td>249</td>\n",
       "      <td>16986</td>\n",
       "      <td>2.0</td>\n",
       "      <td>2.0</td>\n",
       "      <td>150</td>\n",
       "      <td>0</td>\n",
       "    </tr>\n",
       "    <tr>\n",
       "      <th>1</th>\n",
       "      <td>1</td>\n",
       "      <td>1</td>\n",
       "      <td>5.66</td>\n",
       "      <td>-0.27</td>\n",
       "      <td>246</td>\n",
       "      <td>407491</td>\n",
       "      <td>2.0</td>\n",
       "      <td>2.0</td>\n",
       "      <td>150</td>\n",
       "      <td>0</td>\n",
       "    </tr>\n",
       "    <tr>\n",
       "      <th>2</th>\n",
       "      <td>2</td>\n",
       "      <td>1</td>\n",
       "      <td>5.59</td>\n",
       "      <td>-0.45</td>\n",
       "      <td>249</td>\n",
       "      <td>16986</td>\n",
       "      <td>2.0</td>\n",
       "      <td>2.0</td>\n",
       "      <td>150</td>\n",
       "      <td>0</td>\n",
       "    </tr>\n",
       "    <tr>\n",
       "      <th>3</th>\n",
       "      <td>1</td>\n",
       "      <td>1</td>\n",
       "      <td>5.66</td>\n",
       "      <td>-0.27</td>\n",
       "      <td>246</td>\n",
       "      <td>407491</td>\n",
       "      <td>2.0</td>\n",
       "      <td>2.0</td>\n",
       "      <td>150</td>\n",
       "      <td>0</td>\n",
       "    </tr>\n",
       "    <tr>\n",
       "      <th>4</th>\n",
       "      <td>1</td>\n",
       "      <td>1</td>\n",
       "      <td>5.61</td>\n",
       "      <td>-0.22</td>\n",
       "      <td>269</td>\n",
       "      <td>800486</td>\n",
       "      <td>3.0</td>\n",
       "      <td>4.0</td>\n",
       "      <td>1027</td>\n",
       "      <td>0</td>\n",
       "    </tr>\n",
       "  </tbody>\n",
       "</table>\n",
       "</div>"
      ],
      "text/plain": [
       "   Status  Region   Lat   Lon  Elev     Pop  Bed  Bath  Price  isFurnished\n",
       "0       2       1  5.59 -0.45   249   16986  2.0   2.0    150            0\n",
       "1       1       1  5.66 -0.27   246  407491  2.0   2.0    150            0\n",
       "2       2       1  5.59 -0.45   249   16986  2.0   2.0    150            0\n",
       "3       1       1  5.66 -0.27   246  407491  2.0   2.0    150            0\n",
       "4       1       1  5.61 -0.22   269  800486  3.0   4.0   1027            0"
      ]
     },
     "execution_count": 97,
     "metadata": {},
     "output_type": "execute_result"
    }
   ],
   "source": [
    "rental.head()"
   ]
  },
  {
   "cell_type": "code",
   "execution_count": 98,
   "metadata": {},
   "outputs": [],
   "source": [
    "rental = rental[[\"Status\", \"Region\", \"Lat\", \"Lon\", \"Elev\", \"Pop\", \"Bed\", \"Bath\",\"Price\", \"isFurnished\"]]"
   ]
  },
  {
   "cell_type": "code",
   "execution_count": 99,
   "metadata": {},
   "outputs": [
    {
     "data": {
      "text/plain": [
       "0    62367\n",
       "1    18744\n",
       "Name: isFurnished, dtype: int64"
      ]
     },
     "execution_count": 99,
     "metadata": {},
     "output_type": "execute_result"
    }
   ],
   "source": [
    "rental['isFurnished'].value_counts()"
   ]
  },
  {
   "cell_type": "code",
   "execution_count": 100,
   "metadata": {},
   "outputs": [
    {
     "name": "stdout",
     "output_type": "stream",
     "text": [
      "count    81111.000000\n",
      "mean      6706.893516\n",
      "std       9386.617951\n",
      "min          0.000000\n",
      "25%        924.000000\n",
      "50%       2447.000000\n",
      "75%      10878.000000\n",
      "max     344500.000000\n",
      "Name: Price, dtype: float64\n"
     ]
    }
   ],
   "source": [
    "with pd.option_context('float_format', '{:f}'.format): print(rental[\"Price\"].describe())"
   ]
  },
  {
   "cell_type": "code",
   "execution_count": 101,
   "metadata": {},
   "outputs": [
    {
     "data": {
      "image/png": "[encoded data removed]",
      "text/plain": [
       "<Figure size 1152x360 with 2 Axes>"
      ]
     },
     "metadata": {
      "needs_background": "light"
     },
     "output_type": "display_data"
    }
   ],
   "source": [
    "plt.subplot(121)\n",
    "sns.distplot(rental[\"Price\"])\n",
    "\n",
    "plt.subplot(122)\n",
    "rental[\"Price\"].plot.box(figsize=(16,5))\n",
    "\n",
    "plt.savefig(\"Price_distribution.png\", bbox_inches=\"tight\")\n",
    "plt.show()"
   ]
  },
  {
   "cell_type": "code",
   "execution_count": 102,
   "metadata": {},
   "outputs": [
    {
     "name": "stdout",
     "output_type": "stream",
     "text": [
      "count   81093.000000\n",
      "mean     6664.240317\n",
      "std      8859.875012\n",
      "min         0.000000\n",
      "25%       924.000000\n",
      "50%      2447.000000\n",
      "75%     10878.000000\n",
      "max     95000.000000\n",
      "Name: Price, dtype: float64\n"
     ]
    }
   ],
   "source": [
    "rental = rental[rental[\"Price\"] <= 100000].reset_index(drop=True)\n",
    "\n",
    "with pd.option_context('float_format', '{:f}'.format): print(rental[\"Price\"].describe())"
   ]
  },
  {
   "cell_type": "code",
   "execution_count": 103,
   "metadata": {},
   "outputs": [
    {
     "data": {
      "image/png": "[encoded data removed]",
      "text/plain": [
       "<Figure size 1152x360 with 2 Axes>"
      ]
     },
     "metadata": {
      "needs_background": "light"
     },
     "output_type": "display_data"
    }
   ],
   "source": [
    "plt.subplot(121)\n",
    "sns.distplot(rental[\"Price\"])\n",
    "\n",
    "plt.subplot(122)\n",
    "rental[\"Price\"].plot.box(figsize=(16,5))\n",
    "plt.savefig(\"after_100,000_outlier_distribution.png\", bbox_inches=\"tight\")\n",
    "plt.show()"
   ]
  },
  {
   "cell_type": "code",
   "execution_count": 44,
   "metadata": {},
   "outputs": [
    {
     "name": "stdout",
     "output_type": "stream",
     "text": [
      "count   81969.000000\n",
      "mean     6413.785016\n",
      "std      8039.390692\n",
      "min         0.000000\n",
      "25%       924.000000\n",
      "50%      2447.000000\n",
      "75%     10878.000000\n",
      "max     38072.000000\n",
      "Name: Price, dtype: float64\n"
     ]
    }
   ],
   "source": [
    "rental = rental[rental[\"Price\"] <= 40000].reset_index(drop=True)\n",
    "\n",
    "with pd.option_context('float_format', '{:f}'.format): print(rental[\"Price\"].describe())"
   ]
  },
  {
   "cell_type": "code",
   "execution_count": 104,
   "metadata": {},
   "outputs": [
    {
     "data": {
      "image/png": "[encoded data removed]",
      "text/plain": [
       "<Figure size 1152x360 with 2 Axes>"
      ]
     },
     "metadata": {
      "needs_background": "light"
     },
     "output_type": "display_data"
    }
   ],
   "source": [
    "plt.subplot(121)\n",
    "sns.distplot(rental[\"Price\"])\n",
    "\n",
    "plt.subplot(122)\n",
    "rental[\"Price\"].plot.box(figsize=(16,5))\n",
    "plt.savefig(\"after_40,000_outlier_distribution.png\", bbox_inches=\"tight\")\n",
    "plt.show()"
   ]
  },
  {
   "cell_type": "code",
   "execution_count": 105,
   "metadata": {},
   "outputs": [
    {
     "data": {
      "image/png": "[encoded data removed]",
      "text/plain": [
       "<Figure size 1008x576 with 4 Axes>"
      ]
     },
     "metadata": {
      "needs_background": "light"
     },
     "output_type": "display_data"
    }
   ],
   "source": [
    "\n",
    "plt.figure(figsize=(14, 8))\n",
    "\n",
    "plt.subplot(2, 2, 1)\n",
    "plt.scatter(x=rental[\"Region\"], y=rental[\"Status\"])\n",
    "plt.xlabel(\"Region\")\n",
    "plt.ylabel(\"Status\")\n",
    "\n",
    "plt.subplot(2, 2, 2)\n",
    "plt.scatter(x=rental[\"Status\"], y=rental[\"Elev\"])\n",
    "plt.xlabel(\"Status\")\n",
    "plt.ylabel(\"Elevation from sea level\")\n",
    "\n",
    "plt.subplot(2, 2, 3)\n",
    "plt.scatter(x=rental[\"Status\"], y=rental[\"Pop\"])\n",
    "plt.xlabel(\"Status\")\n",
    "plt.ylabel(\"Population\")\n",
    "\n",
    "plt.subplot(2, 2, 4)\n",
    "plt.scatter(x=rental[\"Status\"], y=rental[\"Price\"])\n",
    "plt.xlabel(\"Status\")\n",
    "plt.ylabel(\"Price\")\n",
    "plt.savefig(\"relationships_1.png\", bbox_inches=\"tight\")"
   ]
  },
  {
   "cell_type": "code",
   "execution_count": 106,
   "metadata": {},
   "outputs": [
    {
     "data": {
      "image/png": "[encoded data removed]",
      "text/plain": [
       "<Figure size 1008x576 with 4 Axes>"
      ]
     },
     "metadata": {
      "needs_background": "light"
     },
     "output_type": "display_data"
    }
   ],
   "source": [
    "plt.figure(figsize=(14, 8))\n",
    "\n",
    "plt.subplot(2, 2, 1)\n",
    "plt.scatter(x=rental[\"Region\"], y=rental[\"Elev\"])\n",
    "plt.xlabel(\"Region\")\n",
    "plt.ylabel(\"Elevation from sea level\")\n",
    "\n",
    "plt.subplot(2, 2, 2)\n",
    "plt.scatter(x=rental[\"Region\"], y=rental[\"Pop\"])\n",
    "plt.xlabel(\"Region\")\n",
    "plt.ylabel(\"Pop\")\n",
    "\n",
    "plt.subplot(2, 2, 3)\n",
    "plt.scatter(x=rental[\"Region\"], y=rental[\"Price\"])\n",
    "plt.xlabel(\"Region\")\n",
    "plt.ylabel(\"Price\")\n",
    "\n",
    "plt.subplot(2, 2, 4)\n",
    "plt.scatter(x=rental[\"isFurnished\"], y=rental[\"Price\"])\n",
    "plt.xlabel(\"isFurnished\")\n",
    "plt.ylabel(\"Price\")\n",
    "\n",
    "plt.savefig(\"relationships_2.png\", bbox_inches=\"tight\")"
   ]
  },
  {
   "cell_type": "code",
   "execution_count": 61,
   "metadata": {},
   "outputs": [
    {
     "data": {
      "image/png": "[encoded data removed]",
      "text/plain": [
       "<Figure size 1008x576 with 4 Axes>"
      ]
     },
     "metadata": {
      "needs_background": "light"
     },
     "output_type": "display_data"
    }
   ],
   "source": [
    "plt.figure(figsize=(14, 8))\n",
    "\n",
    "plt.subplot(2, 2, 1)\n",
    "plt.scatter(x=rental[\"Bed\"], y=rental[\"Bath\"])\n",
    "plt.xlabel(\"Bedrooms\")\n",
    "plt.ylabel(\"Bathrooms\")\n",
    "\n",
    "plt.subplot(2, 2, 2)\n",
    "plt.scatter(x=rental[\"Bed\"], y=rental[\"Price\"])\n",
    "plt.xlabel(\"Bedrooms\")\n",
    "plt.ylabel(\"Proce\")\n",
    "\n",
    "plt.subplot(2, 2, 3)\n",
    "plt.scatter(x=rental[\"Bath\"], y=rental[\"Price\"])\n",
    "plt.xlabel(\"Bathrooms\")\n",
    "plt.ylabel(\"Price\")\n",
    "\n",
    "plt.subplot(2, 2, 4)\n",
    "#rental.plot(kind=\"scatter\", x=\"Lat\", y=\"Lon\", s=rental[\"Pop\"]/1000, label=\"Population\",colorbar=True, alpha=0.4, cmap=plt.get_cmap(\"jet\"))\n",
    "plt.scatter(x=rental[\"Bed\"], y=rental[\"Bath\"], s=rental[\"Price\"]/100, label=\"Price\", alpha=0.4, cmap=plt.get_cmap(\"jet\"))\n",
    "plt.xlabel(\"Bed/Bath\")\n",
    "plt.ylabel(\"Price\")\n",
    "\n",
    "plt.savefig(\"relationships_3.png\", bbox_inches=\"tight\")"
   ]
  },
  {
   "cell_type": "code",
   "execution_count": null,
   "metadata": {},
   "outputs": [],
   "source": []
  },
  {
   "cell_type": "code",
   "execution_count": 107,
   "metadata": {},
   "outputs": [],
   "source": [
    "corr = rental[[\"Status\", \"Region\", \"Lat\", \"Lon\", \"Elev\", \"Pop\", \"Bed\", \"Bath\", \"Price\", \"isFurnished\"]].corr()"
   ]
  },
  {
   "cell_type": "code",
   "execution_count": 108,
   "metadata": {},
   "outputs": [
    {
     "data": {
      "text/html": [
       "<div>\n",
       "<style scoped>\n",
       "    .dataframe tbody tr th:only-of-type {\n",
       "        vertical-align: middle;\n",
       "    }\n",
       "\n",
       "    .dataframe tbody tr th {\n",
       "        vertical-align: top;\n",
       "    }\n",
       "\n",
       "    .dataframe thead th {\n",
       "        text-align: right;\n",
       "    }\n",
       "</style>\n",
       "<table border=\"1\" class=\"dataframe\">\n",
       "  <thead>\n",
       "    <tr style=\"text-align: right;\">\n",
       "      <th></th>\n",
       "      <th>Status</th>\n",
       "      <th>Region</th>\n",
       "      <th>Lat</th>\n",
       "      <th>Lon</th>\n",
       "      <th>Elev</th>\n",
       "      <th>Pop</th>\n",
       "      <th>Bed</th>\n",
       "      <th>Bath</th>\n",
       "      <th>Price</th>\n",
       "      <th>isFurnished</th>\n",
       "    </tr>\n",
       "  </thead>\n",
       "  <tbody>\n",
       "    <tr>\n",
       "      <th>Status</th>\n",
       "      <td>1.000000</td>\n",
       "      <td>0.848324</td>\n",
       "      <td>0.521535</td>\n",
       "      <td>-0.310281</td>\n",
       "      <td>0.352596</td>\n",
       "      <td>-0.682661</td>\n",
       "      <td>-0.104155</td>\n",
       "      <td>-0.189820</td>\n",
       "      <td>-0.019968</td>\n",
       "      <td>-0.045783</td>\n",
       "    </tr>\n",
       "    <tr>\n",
       "      <th>Region</th>\n",
       "      <td>0.848324</td>\n",
       "      <td>1.000000</td>\n",
       "      <td>0.474203</td>\n",
       "      <td>-0.502185</td>\n",
       "      <td>0.373022</td>\n",
       "      <td>-0.506492</td>\n",
       "      <td>-0.112949</td>\n",
       "      <td>-0.192276</td>\n",
       "      <td>-0.063404</td>\n",
       "      <td>-0.057280</td>\n",
       "    </tr>\n",
       "    <tr>\n",
       "      <th>Lat</th>\n",
       "      <td>0.521535</td>\n",
       "      <td>0.474203</td>\n",
       "      <td>1.000000</td>\n",
       "      <td>-0.026340</td>\n",
       "      <td>0.708104</td>\n",
       "      <td>-0.321550</td>\n",
       "      <td>-0.046130</td>\n",
       "      <td>-0.064358</td>\n",
       "      <td>0.015334</td>\n",
       "      <td>0.035680</td>\n",
       "    </tr>\n",
       "    <tr>\n",
       "      <th>Lon</th>\n",
       "      <td>-0.310281</td>\n",
       "      <td>-0.502185</td>\n",
       "      <td>-0.026340</td>\n",
       "      <td>1.000000</td>\n",
       "      <td>-0.486621</td>\n",
       "      <td>0.112395</td>\n",
       "      <td>0.136721</td>\n",
       "      <td>0.226433</td>\n",
       "      <td>0.121654</td>\n",
       "      <td>0.091569</td>\n",
       "    </tr>\n",
       "    <tr>\n",
       "      <th>Elev</th>\n",
       "      <td>0.352596</td>\n",
       "      <td>0.373022</td>\n",
       "      <td>0.708104</td>\n",
       "      <td>-0.486621</td>\n",
       "      <td>1.000000</td>\n",
       "      <td>-0.088279</td>\n",
       "      <td>-0.093214</td>\n",
       "      <td>-0.143473</td>\n",
       "      <td>-0.013774</td>\n",
       "      <td>0.008791</td>\n",
       "    </tr>\n",
       "    <tr>\n",
       "      <th>Pop</th>\n",
       "      <td>-0.682661</td>\n",
       "      <td>-0.506492</td>\n",
       "      <td>-0.321550</td>\n",
       "      <td>0.112395</td>\n",
       "      <td>-0.088279</td>\n",
       "      <td>1.000000</td>\n",
       "      <td>0.086984</td>\n",
       "      <td>0.147338</td>\n",
       "      <td>0.233818</td>\n",
       "      <td>0.122700</td>\n",
       "    </tr>\n",
       "    <tr>\n",
       "      <th>Bed</th>\n",
       "      <td>-0.104155</td>\n",
       "      <td>-0.112949</td>\n",
       "      <td>-0.046130</td>\n",
       "      <td>0.136721</td>\n",
       "      <td>-0.093214</td>\n",
       "      <td>0.086984</td>\n",
       "      <td>1.000000</td>\n",
       "      <td>0.868759</td>\n",
       "      <td>0.073125</td>\n",
       "      <td>-0.344883</td>\n",
       "    </tr>\n",
       "    <tr>\n",
       "      <th>Bath</th>\n",
       "      <td>-0.189820</td>\n",
       "      <td>-0.192276</td>\n",
       "      <td>-0.064358</td>\n",
       "      <td>0.226433</td>\n",
       "      <td>-0.143473</td>\n",
       "      <td>0.147338</td>\n",
       "      <td>0.868759</td>\n",
       "      <td>1.000000</td>\n",
       "      <td>0.077370</td>\n",
       "      <td>-0.321576</td>\n",
       "    </tr>\n",
       "    <tr>\n",
       "      <th>Price</th>\n",
       "      <td>-0.019968</td>\n",
       "      <td>-0.063404</td>\n",
       "      <td>0.015334</td>\n",
       "      <td>0.121654</td>\n",
       "      <td>-0.013774</td>\n",
       "      <td>0.233818</td>\n",
       "      <td>0.073125</td>\n",
       "      <td>0.077370</td>\n",
       "      <td>1.000000</td>\n",
       "      <td>0.405649</td>\n",
       "    </tr>\n",
       "    <tr>\n",
       "      <th>isFurnished</th>\n",
       "      <td>-0.045783</td>\n",
       "      <td>-0.057280</td>\n",
       "      <td>0.035680</td>\n",
       "      <td>0.091569</td>\n",
       "      <td>0.008791</td>\n",
       "      <td>0.122700</td>\n",
       "      <td>-0.344883</td>\n",
       "      <td>-0.321576</td>\n",
       "      <td>0.405649</td>\n",
       "      <td>1.000000</td>\n",
       "    </tr>\n",
       "  </tbody>\n",
       "</table>\n",
       "</div>"
      ],
      "text/plain": [
       "               Status    Region       Lat       Lon      Elev       Pop  \\\n",
       "Status       1.000000  0.848324  0.521535 -0.310281  0.352596 -0.682661   \n",
       "Region       0.848324  1.000000  0.474203 -0.502185  0.373022 -0.506492   \n",
       "Lat          0.521535  0.474203  1.000000 -0.026340  0.708104 -0.321550   \n",
       "Lon         -0.310281 -0.502185 -0.026340  1.000000 -0.486621  0.112395   \n",
       "Elev         0.352596  0.373022  0.708104 -0.486621  1.000000 -0.088279   \n",
       "Pop         -0.682661 -0.506492 -0.321550  0.112395 -0.088279  1.000000   \n",
       "Bed         -0.104155 -0.112949 -0.046130  0.136721 -0.093214  0.086984   \n",
       "Bath        -0.189820 -0.192276 -0.064358  0.226433 -0.143473  0.147338   \n",
       "Price       -0.019968 -0.063404  0.015334  0.121654 -0.013774  0.233818   \n",
       "isFurnished -0.045783 -0.057280  0.035680  0.091569  0.008791  0.122700   \n",
       "\n",
       "                  Bed      Bath     Price  isFurnished  \n",
       "Status      -0.104155 -0.189820 -0.019968    -0.045783  \n",
       "Region      -0.112949 -0.192276 -0.063404    -0.057280  \n",
       "Lat         -0.046130 -0.064358  0.015334     0.035680  \n",
       "Lon          0.136721  0.226433  0.121654     0.091569  \n",
       "Elev        -0.093214 -0.143473 -0.013774     0.008791  \n",
       "Pop          0.086984  0.147338  0.233818     0.122700  \n",
       "Bed          1.000000  0.868759  0.073125    -0.344883  \n",
       "Bath         0.868759  1.000000  0.077370    -0.321576  \n",
       "Price        0.073125  0.077370  1.000000     0.405649  \n",
       "isFurnished -0.344883 -0.321576  0.405649     1.000000  "
      ]
     },
     "execution_count": 108,
     "metadata": {},
     "output_type": "execute_result"
    }
   ],
   "source": [
    "corr"
   ]
  },
  {
   "cell_type": "code",
   "execution_count": 109,
   "metadata": {},
   "outputs": [
    {
     "data": {
      "image/png": "[encoded data removed]",
      "text/plain": [
       "<Figure size 576x432 with 2 Axes>"
      ]
     },
     "metadata": {
      "needs_background": "light"
     },
     "output_type": "display_data"
    }
   ],
   "source": [
    "plt.subplots(figsize=(8,6))\n",
    "\n",
    "fig = sns.heatmap(corr,\n",
    "                 xticklabels=corr.columns.values,\n",
    "                 yticklabels=corr.columns.values)\n",
    "\n",
    "fig.get_figure().savefig(\"correlation.png\", bbox_inches=\"tight\")"
   ]
  },
  {
   "cell_type": "code",
   "execution_count": 110,
   "metadata": {},
   "outputs": [
    {
     "data": {
      "text/html": [
       "<div>\n",
       "<style scoped>\n",
       "    .dataframe tbody tr th:only-of-type {\n",
       "        vertical-align: middle;\n",
       "    }\n",
       "\n",
       "    .dataframe tbody tr th {\n",
       "        vertical-align: top;\n",
       "    }\n",
       "\n",
       "    .dataframe thead th {\n",
       "        text-align: right;\n",
       "    }\n",
       "</style>\n",
       "<table border=\"1\" class=\"dataframe\">\n",
       "  <thead>\n",
       "    <tr style=\"text-align: right;\">\n",
       "      <th></th>\n",
       "      <th>Status</th>\n",
       "      <th>Region</th>\n",
       "      <th>Lat</th>\n",
       "      <th>Lon</th>\n",
       "      <th>Elev</th>\n",
       "      <th>Pop</th>\n",
       "      <th>Bed</th>\n",
       "      <th>Bath</th>\n",
       "      <th>Price</th>\n",
       "      <th>isFurnished</th>\n",
       "    </tr>\n",
       "  </thead>\n",
       "  <tbody>\n",
       "    <tr>\n",
       "      <th>0</th>\n",
       "      <td>2</td>\n",
       "      <td>1</td>\n",
       "      <td>5.59</td>\n",
       "      <td>-0.45</td>\n",
       "      <td>249</td>\n",
       "      <td>16986</td>\n",
       "      <td>2.0</td>\n",
       "      <td>2.0</td>\n",
       "      <td>150</td>\n",
       "      <td>0</td>\n",
       "    </tr>\n",
       "    <tr>\n",
       "      <th>1</th>\n",
       "      <td>1</td>\n",
       "      <td>1</td>\n",
       "      <td>5.66</td>\n",
       "      <td>-0.27</td>\n",
       "      <td>246</td>\n",
       "      <td>407491</td>\n",
       "      <td>2.0</td>\n",
       "      <td>2.0</td>\n",
       "      <td>150</td>\n",
       "      <td>0</td>\n",
       "    </tr>\n",
       "    <tr>\n",
       "      <th>2</th>\n",
       "      <td>2</td>\n",
       "      <td>1</td>\n",
       "      <td>5.59</td>\n",
       "      <td>-0.45</td>\n",
       "      <td>249</td>\n",
       "      <td>16986</td>\n",
       "      <td>2.0</td>\n",
       "      <td>2.0</td>\n",
       "      <td>150</td>\n",
       "      <td>0</td>\n",
       "    </tr>\n",
       "    <tr>\n",
       "      <th>3</th>\n",
       "      <td>1</td>\n",
       "      <td>1</td>\n",
       "      <td>5.66</td>\n",
       "      <td>-0.27</td>\n",
       "      <td>246</td>\n",
       "      <td>407491</td>\n",
       "      <td>2.0</td>\n",
       "      <td>2.0</td>\n",
       "      <td>150</td>\n",
       "      <td>0</td>\n",
       "    </tr>\n",
       "    <tr>\n",
       "      <th>4</th>\n",
       "      <td>1</td>\n",
       "      <td>1</td>\n",
       "      <td>5.61</td>\n",
       "      <td>-0.22</td>\n",
       "      <td>269</td>\n",
       "      <td>800486</td>\n",
       "      <td>3.0</td>\n",
       "      <td>4.0</td>\n",
       "      <td>1027</td>\n",
       "      <td>0</td>\n",
       "    </tr>\n",
       "  </tbody>\n",
       "</table>\n",
       "</div>"
      ],
      "text/plain": [
       "   Status  Region   Lat   Lon  Elev     Pop  Bed  Bath  Price  isFurnished\n",
       "0       2       1  5.59 -0.45   249   16986  2.0   2.0    150            0\n",
       "1       1       1  5.66 -0.27   246  407491  2.0   2.0    150            0\n",
       "2       2       1  5.59 -0.45   249   16986  2.0   2.0    150            0\n",
       "3       1       1  5.66 -0.27   246  407491  2.0   2.0    150            0\n",
       "4       1       1  5.61 -0.22   269  800486  3.0   4.0   1027            0"
      ]
     },
     "execution_count": 110,
     "metadata": {},
     "output_type": "execute_result"
    }
   ],
   "source": [
    "\n",
    "rental_df = pd.get_dummies(rental)\n",
    "\n",
    "rental_df.head()"
   ]
  },
  {
   "cell_type": "code",
   "execution_count": 111,
   "metadata": {},
   "outputs": [],
   "source": [
    "X = rental_df.drop(columns=[\"Price\"])\n",
    "Y = rental_df[\"Price\"]"
   ]
  },
  {
   "cell_type": "code",
   "execution_count": 112,
   "metadata": {},
   "outputs": [],
   "source": [
    "# split data into random train and test subsets\n",
    "\n",
    "from sklearn.model_selection import train_test_split\n",
    "\n",
    "X_train, X_test, y_train, y_test = train_test_split(X, Y, test_size=0.25, random_state=0)"
   ]
  },
  {
   "cell_type": "code",
   "execution_count": 113,
   "metadata": {},
   "outputs": [
    {
     "data": {
      "text/plain": [
       "LinearRegression(copy_X=True, fit_intercept=True, n_jobs=None, normalize=False)"
      ]
     },
     "execution_count": 113,
     "metadata": {},
     "output_type": "execute_result"
    }
   ],
   "source": [
    "# fit a Linear Regression Model\n",
    "from sklearn.linear_model import LinearRegression\n",
    "regressor = LinearRegression()\n",
    "regressor.fit(X_train, y_train)"
   ]
  },
  {
   "cell_type": "code",
   "execution_count": 114,
   "metadata": {},
   "outputs": [],
   "source": [
    "\n",
    "# make predictions\n",
    "y_pred = regressor.predict(X_test)"
   ]
  },
  {
   "cell_type": "code",
   "execution_count": 115,
   "metadata": {},
   "outputs": [
    {
     "name": "stdout",
     "output_type": "stream",
     "text": [
      "Liner Regression R-squared: 0.28114486048909837\n",
      "Liner Regression R-squared: 0.28114486048909837\n"
     ]
    }
   ],
   "source": [
    "# calculate R-squared\n",
    "print(\"Liner Regression R-squared: {}\".format(regressor.score(X_test, y_test)))\n",
    "from sklearn.metrics import r2_score\n",
    "lin_r2 = r2_score(y_test, y_pred)\n",
    "\n",
    "print(\"Liner Regression R-squared: {}\".format(lin_r2))"
   ]
  },
  {
   "cell_type": "code",
   "execution_count": 116,
   "metadata": {},
   "outputs": [
    {
     "name": "stdout",
     "output_type": "stream",
     "text": [
      "Liner Regression RMSE: 7578.6778607391625\n"
     ]
    }
   ],
   "source": [
    "# calculate root mean squared error (RMSE)\n",
    "from sklearn.metrics import mean_squared_error\n",
    "\n",
    "lin_mse = mean_squared_error(y_pred, y_test)\n",
    "lin_rmse = np.sqrt(lin_mse)\n",
    "print(\"Liner Regression RMSE: {}\".format(lin_rmse))"
   ]
  },
  {
   "cell_type": "code",
   "execution_count": 117,
   "metadata": {},
   "outputs": [
    {
     "name": "stdout",
     "output_type": "stream",
     "text": [
      "Liner Regression MAE: 5026.486249094054\n"
     ]
    }
   ],
   "source": [
    "\n",
    "# calculate mean absolute error (MAE)\n",
    "from sklearn.metrics import mean_absolute_error\n",
    "\n",
    "lin_mae = mean_absolute_error(y_pred, y_test)\n",
    "print(\"Liner Regression MAE: {}\".format(lin_mae))"
   ]
  },
  {
   "cell_type": "code",
   "execution_count": 118,
   "metadata": {},
   "outputs": [
    {
     "name": "stdout",
     "output_type": "stream",
     "text": [
      "Region : -1183.1974339221683\n",
      "Elev : -2.7910689141837675\n",
      "Pop : 0.015637444537787815\n",
      "Lat : 152.21405017885155\n",
      "Bath : 429.9273493658867\n",
      "Lon : 562.3793629809628\n",
      "Bed : 902.1772639376912\n",
      "Status : 5534.250641949744\n",
      "isFurnished : 9377.877510460277\n"
     ]
    }
   ],
   "source": [
    "# get feature coefficients\n",
    "importance = regressor.coef_\n",
    "feature_indexes_by_importance = importance.argsort()\n",
    "for index in feature_indexes_by_importance:\n",
    "    print('{} : {}'.format(X_train.columns[index], (importance[index] )))"
   ]
  },
  {
   "cell_type": "code",
   "execution_count": 75,
   "metadata": {},
   "outputs": [
    {
     "data": {
      "text/plain": [
       "'0.22.1'"
      ]
     },
     "execution_count": 75,
     "metadata": {},
     "output_type": "execute_result"
    }
   ],
   "source": [
    "\n",
    "import sklearn\n",
    "sklearn.__version__"
   ]
  },
  {
   "cell_type": "code",
   "execution_count": 76,
   "metadata": {},
   "outputs": [],
   "source": [
    "# import libraries, we will use GridSearchCV to find the best parameter values\n",
    "from sklearn.ensemble import RandomForestRegressor\n",
    "rf = RandomForestRegressor(random_state=0)"
   ]
  },
  {
   "cell_type": "code",
   "execution_count": 77,
   "metadata": {},
   "outputs": [
    {
     "data": {
      "text/plain": [
       "RandomForestRegressor(bootstrap=True, ccp_alpha=0.0, criterion='mse',\n",
       "                      max_depth=None, max_features='auto', max_leaf_nodes=None,\n",
       "                      max_samples=None, min_impurity_decrease=0.0,\n",
       "                      min_impurity_split=None, min_samples_leaf=1,\n",
       "                      min_samples_split=2, min_weight_fraction_leaf=0.0,\n",
       "                      n_estimators=100, n_jobs=None, oob_score=False,\n",
       "                      random_state=0, verbose=0, warm_start=False)"
      ]
     },
     "execution_count": 77,
     "metadata": {},
     "output_type": "execute_result"
    }
   ],
   "source": [
    "# fit the model\n",
    "rf.fit(X_train, y_train)"
   ]
  },
  {
   "cell_type": "code",
   "execution_count": null,
   "metadata": {},
   "outputs": [],
   "source": []
  }
 ],
 "metadata": {
  "kernelspec": {
   "display_name": "Python 3",
   "language": "python",
   "name": "python3"
  },
  "language_info": {
   "codemirror_mode": {
    "name": "ipython",
    "version": 3
   },
   "file_extension": ".py",
   "mimetype": "text/x-python",
   "name": "python",
   "nbconvert_exporter": "python",
   "pygments_lexer": "ipython3",
   "version": "3.7.6"
  }
 },
 "nbformat": 4,
 "nbformat_minor": 4
}
