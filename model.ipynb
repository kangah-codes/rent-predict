{
 "cells": [
  {
   "cell_type": "code",
   "execution_count": 3,
   "metadata": {},
   "outputs": [],
   "source": [
    "import numpy as np\n",
    "import pandas as pd\n",
    "import matplotlib.pyplot as plt\n",
    "import seaborn as sns"
   ]
  },
  {
   "cell_type": "code",
   "execution_count": 9,
   "metadata": {},
   "outputs": [],
   "source": [
    "rental = pd.read_csv(\"data.csv\", index_col=0, low_memory=False)"
   ]
  },
  {
   "cell_type": "code",
   "execution_count": 10,
   "metadata": {},
   "outputs": [
    {
     "data": {
      "text/html": [
       "<div>\n",
       "<style scoped>\n",
       "    .dataframe tbody tr th:only-of-type {\n",
       "        vertical-align: middle;\n",
       "    }\n",
       "\n",
       "    .dataframe tbody tr th {\n",
       "        vertical-align: top;\n",
       "    }\n",
       "\n",
       "    .dataframe thead th {\n",
       "        text-align: right;\n",
       "    }\n",
       "</style>\n",
       "<table border=\"1\" class=\"dataframe\">\n",
       "  <thead>\n",
       "    <tr style=\"text-align: right;\">\n",
       "      <th></th>\n",
       "      <th>Status</th>\n",
       "      <th>Region</th>\n",
       "      <th>Lat</th>\n",
       "      <th>Lon</th>\n",
       "      <th>Elev</th>\n",
       "      <th>Pop</th>\n",
       "      <th>Bed</th>\n",
       "      <th>Bath</th>\n",
       "      <th>Garage</th>\n",
       "      <th>Area</th>\n",
       "      <th>Price</th>\n",
       "      <th>isFurnished</th>\n",
       "    </tr>\n",
       "    <tr>\n",
       "      <th>Place</th>\n",
       "      <th></th>\n",
       "      <th></th>\n",
       "      <th></th>\n",
       "      <th></th>\n",
       "      <th></th>\n",
       "      <th></th>\n",
       "      <th></th>\n",
       "      <th></th>\n",
       "      <th></th>\n",
       "      <th></th>\n",
       "      <th></th>\n",
       "      <th></th>\n",
       "    </tr>\n",
       "  </thead>\n",
       "  <tbody>\n",
       "    <tr>\n",
       "      <th>Ofako</th>\n",
       "      <td>2</td>\n",
       "      <td>1</td>\n",
       "      <td>5.59</td>\n",
       "      <td>-0.45</td>\n",
       "      <td>249</td>\n",
       "      <td>16986</td>\n",
       "      <td>2.0</td>\n",
       "      <td>2.0</td>\n",
       "      <td>0.0</td>\n",
       "      <td>0.0</td>\n",
       "      <td>150</td>\n",
       "      <td>0</td>\n",
       "    </tr>\n",
       "    <tr>\n",
       "      <th>Ofako</th>\n",
       "      <td>1</td>\n",
       "      <td>1</td>\n",
       "      <td>5.66</td>\n",
       "      <td>-0.27</td>\n",
       "      <td>246</td>\n",
       "      <td>407491</td>\n",
       "      <td>2.0</td>\n",
       "      <td>2.0</td>\n",
       "      <td>0.0</td>\n",
       "      <td>0.0</td>\n",
       "      <td>150</td>\n",
       "      <td>0</td>\n",
       "    </tr>\n",
       "    <tr>\n",
       "      <th>Ofakor</th>\n",
       "      <td>2</td>\n",
       "      <td>1</td>\n",
       "      <td>5.59</td>\n",
       "      <td>-0.45</td>\n",
       "      <td>249</td>\n",
       "      <td>16986</td>\n",
       "      <td>2.0</td>\n",
       "      <td>2.0</td>\n",
       "      <td>0.0</td>\n",
       "      <td>0.0</td>\n",
       "      <td>150</td>\n",
       "      <td>0</td>\n",
       "    </tr>\n",
       "    <tr>\n",
       "      <th>Ofankor</th>\n",
       "      <td>1</td>\n",
       "      <td>1</td>\n",
       "      <td>5.66</td>\n",
       "      <td>-0.27</td>\n",
       "      <td>246</td>\n",
       "      <td>407491</td>\n",
       "      <td>2.0</td>\n",
       "      <td>2.0</td>\n",
       "      <td>0.0</td>\n",
       "      <td>0.0</td>\n",
       "      <td>150</td>\n",
       "      <td>0</td>\n",
       "    </tr>\n",
       "    <tr>\n",
       "      <th>Ablemkpe</th>\n",
       "      <td>1</td>\n",
       "      <td>1</td>\n",
       "      <td>5.61</td>\n",
       "      <td>-0.22</td>\n",
       "      <td>269</td>\n",
       "      <td>800486</td>\n",
       "      <td>3.0</td>\n",
       "      <td>4.0</td>\n",
       "      <td>0.0</td>\n",
       "      <td>0.0</td>\n",
       "      <td>1027</td>\n",
       "      <td>0</td>\n",
       "    </tr>\n",
       "  </tbody>\n",
       "</table>\n",
       "</div>"
      ],
      "text/plain": [
       "          Status  Region   Lat   Lon  Elev     Pop  Bed  Bath  Garage  Area  \\\n",
       "Place                                                                         \n",
       "Ofako          2       1  5.59 -0.45   249   16986  2.0   2.0     0.0   0.0   \n",
       "Ofako          1       1  5.66 -0.27   246  407491  2.0   2.0     0.0   0.0   \n",
       "Ofakor         2       1  5.59 -0.45   249   16986  2.0   2.0     0.0   0.0   \n",
       "Ofankor        1       1  5.66 -0.27   246  407491  2.0   2.0     0.0   0.0   \n",
       "Ablemkpe       1       1  5.61 -0.22   269  800486  3.0   4.0     0.0   0.0   \n",
       "\n",
       "          Price  isFurnished  \n",
       "Place                         \n",
       "Ofako       150            0  \n",
       "Ofako       150            0  \n",
       "Ofakor      150            0  \n",
       "Ofankor     150            0  \n",
       "Ablemkpe   1027            0  "
      ]
     },
     "execution_count": 10,
     "metadata": {},
     "output_type": "execute_result"
    }
   ],
   "source": [
    "rental.head()"
   ]
  },
  {
   "cell_type": "code",
   "execution_count": 12,
   "metadata": {},
   "outputs": [
    {
     "name": "stdout",
     "output_type": "stream",
     "text": [
      "<class 'pandas.core.frame.DataFrame'>\n",
      "Index: 82327 entries, Ofako to Datano\n",
      "Data columns (total 12 columns):\n",
      " #   Column       Non-Null Count  Dtype  \n",
      "---  ------       --------------  -----  \n",
      " 0   Status       82327 non-null  int64  \n",
      " 1   Region       82327 non-null  int64  \n",
      " 2   Lat          82327 non-null  float64\n",
      " 3   Lon          82327 non-null  float64\n",
      " 4   Elev         82327 non-null  int64  \n",
      " 5   Pop          82327 non-null  int64  \n",
      " 6   Bed          81531 non-null  float64\n",
      " 7   Bath         81391 non-null  float64\n",
      " 8   Garage       67287 non-null  float64\n",
      " 9   Area         55521 non-null  float64\n",
      " 10  Price        82327 non-null  int64  \n",
      " 11  isFurnished  82327 non-null  int64  \n",
      "dtypes: float64(6), int64(6)\n",
      "memory usage: 8.2+ MB\n"
     ]
    }
   ],
   "source": [
    "rental.info()"
   ]
  },
  {
   "cell_type": "code",
   "execution_count": 14,
   "metadata": {},
   "outputs": [
    {
     "data": {
      "text/plain": [
       "Status             0\n",
       "Region             0\n",
       "Lat                0\n",
       "Lon                0\n",
       "Elev               0\n",
       "Pop                0\n",
       "Bed              796\n",
       "Bath             936\n",
       "Garage         15040\n",
       "Area           26806\n",
       "Price              0\n",
       "isFurnished        0\n",
       "dtype: int64"
      ]
     },
     "execution_count": 14,
     "metadata": {},
     "output_type": "execute_result"
    }
   ],
   "source": [
    "rental.isnull().sum()"
   ]
  },
  {
   "cell_type": "code",
   "execution_count": 15,
   "metadata": {},
   "outputs": [],
   "source": [
    "rental[\"Bed\"].fillna(\"No Data\", inplace = True) "
   ]
  },
  {
   "cell_type": "code",
   "execution_count": 16,
   "metadata": {},
   "outputs": [],
   "source": [
    "rental[\"Bath\"].fillna(\"No Data\", inplace = True) "
   ]
  },
  {
   "cell_type": "code",
   "execution_count": 17,
   "metadata": {},
   "outputs": [],
   "source": [
    "rental[\"Garage\"].fillna(0, inplace = True) "
   ]
  },
  {
   "cell_type": "code",
   "execution_count": 18,
   "metadata": {},
   "outputs": [],
   "source": [
    "rental[\"Area\"].fillna(\"No Data\", inplace = True) "
   ]
  },
  {
   "cell_type": "code",
   "execution_count": 19,
   "metadata": {},
   "outputs": [
    {
     "data": {
      "text/plain": [
       "Status         0\n",
       "Region         0\n",
       "Lat            0\n",
       "Lon            0\n",
       "Elev           0\n",
       "Pop            0\n",
       "Bed            0\n",
       "Bath           0\n",
       "Garage         0\n",
       "Area           0\n",
       "Price          0\n",
       "isFurnished    0\n",
       "dtype: int64"
      ]
     },
     "execution_count": 19,
     "metadata": {},
     "output_type": "execute_result"
    }
   ],
   "source": [
    "rental.isnull().sum()"
   ]
  },
  {
   "cell_type": "code",
   "execution_count": 20,
   "metadata": {},
   "outputs": [],
   "source": [
    "rental.to_csv(\"new_data.csv\")"
   ]
  },
  {
   "cell_type": "code",
   "execution_count": 21,
   "metadata": {},
   "outputs": [
    {
     "data": {
      "text/html": [
       "<div>\n",
       "<style scoped>\n",
       "    .dataframe tbody tr th:only-of-type {\n",
       "        vertical-align: middle;\n",
       "    }\n",
       "\n",
       "    .dataframe tbody tr th {\n",
       "        vertical-align: top;\n",
       "    }\n",
       "\n",
       "    .dataframe thead th {\n",
       "        text-align: right;\n",
       "    }\n",
       "</style>\n",
       "<table border=\"1\" class=\"dataframe\">\n",
       "  <thead>\n",
       "    <tr style=\"text-align: right;\">\n",
       "      <th></th>\n",
       "      <th>Status</th>\n",
       "      <th>Region</th>\n",
       "      <th>Lat</th>\n",
       "      <th>Lon</th>\n",
       "      <th>Elev</th>\n",
       "      <th>Pop</th>\n",
       "      <th>Bed</th>\n",
       "      <th>Bath</th>\n",
       "      <th>Garage</th>\n",
       "      <th>Area</th>\n",
       "      <th>Price</th>\n",
       "      <th>isFurnished</th>\n",
       "    </tr>\n",
       "    <tr>\n",
       "      <th>Place</th>\n",
       "      <th></th>\n",
       "      <th></th>\n",
       "      <th></th>\n",
       "      <th></th>\n",
       "      <th></th>\n",
       "      <th></th>\n",
       "      <th></th>\n",
       "      <th></th>\n",
       "      <th></th>\n",
       "      <th></th>\n",
       "      <th></th>\n",
       "      <th></th>\n",
       "    </tr>\n",
       "  </thead>\n",
       "  <tbody>\n",
       "    <tr>\n",
       "      <th>Ofako</th>\n",
       "      <td>2</td>\n",
       "      <td>1</td>\n",
       "      <td>5.59</td>\n",
       "      <td>-0.45</td>\n",
       "      <td>249</td>\n",
       "      <td>16986</td>\n",
       "      <td>2</td>\n",
       "      <td>2</td>\n",
       "      <td>0.0</td>\n",
       "      <td>0</td>\n",
       "      <td>150</td>\n",
       "      <td>0</td>\n",
       "    </tr>\n",
       "  </tbody>\n",
       "</table>\n",
       "</div>"
      ],
      "text/plain": [
       "       Status  Region   Lat   Lon  Elev    Pop Bed Bath  Garage Area  Price  \\\n",
       "Place                                                                         \n",
       "Ofako       2       1  5.59 -0.45   249  16986   2    2     0.0    0    150   \n",
       "\n",
       "       isFurnished  \n",
       "Place               \n",
       "Ofako            0  "
      ]
     },
     "execution_count": 21,
     "metadata": {},
     "output_type": "execute_result"
    }
   ],
   "source": [
    "rental.head(1)"
   ]
  },
  {
   "cell_type": "code",
   "execution_count": null,
   "metadata": {},
   "outputs": [],
   "source": []
  }
 ],
 "metadata": {
  "kernelspec": {
   "display_name": "Python 3",
   "language": "python",
   "name": "python3"
  },
  "language_info": {
   "codemirror_mode": {
    "name": "ipython",
    "version": 3
   },
   "file_extension": ".py",
   "mimetype": "text/x-python",
   "name": "python",
   "nbconvert_exporter": "python",
   "pygments_lexer": "ipython3",
   "version": "3.7.6"
  }
 },
 "nbformat": 4,
 "nbformat_minor": 4
}
